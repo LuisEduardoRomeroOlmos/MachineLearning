{
  "metadata": {
    "title": "hongos"
  },
  "nbformat": 4,
  "nbformat_minor": 0,
  "cells": [
    {
      "cell_type": "raw",
      "metadata": {
        "collapsed": false
      },
      "source": [
        "%script\r\n",
        "DECLARE\r\n",
        "  v_mensaje VARCHAR2(100);\r\n",
        "BEGIN\r\n",
        "  v_mensaje := '¡Hola desde PL/SQL!';\r\n",
        "  DBMS_OUTPUT.PUT_LINE(v_mensaje);\r\n",
        "END;"
      ]
    },
    {
      "cell_type": "raw",
      "metadata": {
        "collapsed": false
      },
      "source": [
        "%script\n",
        "\n",
        " -- 1. Añadir la columna ID\n",
        "ALTER TABLE HONGOS ADD ID NUMBER;\n",
        "\n",
        "-- 2. Crear secuencia para ID\n",
        "CREATE SEQUENCE HONGOS_SEQ START WITH 1 INCREMENT BY 1;\n",
        "\n",
        "-- 3. Rellenar la columna ID con números secuenciales\n",
        "UPDATE HONGOS\n",
        "SET ID = HONGOS_SEQ.NEXTVAL;\n",
        "\n",
        "-- Confirmar cambios\n",
        "COMMIT;\n",
        "\n",
        "-- 4. (Opcional) Crear restricción PRIMARY KEY en ID\n",
        "ALTER TABLE HONGOS ADD CONSTRAINT PK_HONGOS_ID PRIMARY KEY (ID);"
      ]
    },
    {
      "cell_type": "raw",
      "metadata": {
        "collapsed": false
      },
      "source": [
        "%script\n",
        "SELECT *\n",
        "FROM HONGOS\n",
        "FETCH FIRST 20 ROWS ONLY;"
      ]
    },
    {
      "cell_type": "raw",
      "metadata": {
        "collapsed": false
      },
      "source": [
        "%script\n",
        "\n",
        "SELECT * FROM HONGOS\n",
        "ORDER BY ID\n",
        "FETCH FIRST 10 ROWS ONLY;"
      ]
    },
    {
      "cell_type": "raw",
      "metadata": {
        "collapsed": false
      },
      "source": [
        "%script\n",
        "SELECT \n",
        "  TARGET,\n",
        "  COUNT(*) AS TOTAL,\n",
        "  ROUND(100.0 * COUNT(*) / SUM(COUNT(*)) OVER (), 2) AS PORCENTAJE\n",
        "FROM HONGOS\n",
        "GROUP BY TARGET\n",
        "ORDER BY TOTAL DESC;"
      ]
    },
    {
      "cell_type": "raw",
      "metadata": {
        "collapsed": false
      },
      "source": [
        "%script\n",
        "\n",
        "-- Eliminar las tablas mal generadas\n",
        "--DROP TABLE HONGOS_TRAIN;\n",
        "--DROP TABLE HONGOS_TEST;\n",
        "\n",
        "-- Paso 1: Crear tabla intermedia con valor aleatorio fijo\n",
        "CREATE TABLE HONGOS_RANDOM AS\n",
        "SELECT H.*, DBMS_RANDOM.VALUE AS rnd\n",
        "FROM HONGOS H;\n",
        "\n",
        "-- Paso 2: Crear tabla de entrenamiento (80%)\n",
        "CREATE TABLE HONGOS_TRAIN AS\n",
        "SELECT * FROM HONGOS_RANDOM\n",
        "WHERE rnd < 0.8;\n",
        "\n",
        "-- Paso 3: Crear tabla de prueba (20%)\n",
        "CREATE TABLE HONGOS_TEST AS\n",
        "SELECT * FROM HONGOS_RANDOM\n",
        "WHERE rnd >= 0.8;"
      ]
    },
    {
      "cell_type": "raw",
      "metadata": {
        "collapsed": false
      },
      "source": [
        "%script\n",
        "\n",
        "SELECT COUNT(*) AS total_filas FROM HONGOS_TEST;\n",
        "SELECT COUNT(*) AS total_filas FROM HONGOS_TRAIN;"
      ]
    },
    {
      "cell_type": "raw",
      "metadata": {
        "collapsed": false
      },
      "source": [
        "%script\n",
        "\n",
        "SELECT ID -- o la PK que uses\n",
        "FROM HONGOS_TRAIN\n",
        "INTERSECT\n",
        "SELECT ID\n",
        "FROM HONGOS_TEST;"
      ]
    },
    {
      "cell_type": "raw",
      "metadata": {
        "collapsed": false
      },
      "source": [
        "%script\n",
        "\n",
        " /*\n",
        "Creamos los hiperparametros en la tabla nn_settings\n",
        "*/\n",
        "BEGIN\n",
        "  DELETE FROM NN_SETTINGS;\n",
        "\n",
        "  INSERT INTO NN_SETTINGS VALUES ('ALGO_NAME', 'ALGO_NEURAL_NETWORK');\n",
        "  INSERT INTO NN_SETTINGS VALUES ('NNET_HIDDEN_LAYERS', '2');\n",
        "  INSERT INTO NN_SETTINGS VALUES ('NNET_ACTIVATIONS', 'NNET_ACTIVATIONS_LOG_SIG');\n",
        "  INSERT INTO NN_SETTINGS VALUES ('NNET_TOLERANCE', '0.000001');\n",
        "  INSERT INTO NN_SETTINGS VALUES ('PREP_AUTO', 'ON');\n",
        "  INSERT INTO NN_SETTINGS VALUES ('CLAS_WEIGHTS_BALANCED', 'OFF');\n",
        "  INSERT INTO NN_SETTINGS VALUES ('ODMS_RANDOM_SEED', '0');\n",
        "  INSERT INTO NN_SETTINGS VALUES ('ODMS_DETAILS', 'ODMS_ENABLE');\n",
        "  INSERT INTO NN_SETTINGS VALUES ('ODMS_MISSING_VALUE_TREATMENT', 'ODMS_MISSING_VALUE_AUTO');\n",
        "  INSERT INTO NN_SETTINGS VALUES ('ODMS_SAMPLING', 'ODMS_SAMPLING_DISABLE');\n",
        "END;\n",
        "/"
      ]
    },
    {
      "cell_type": "raw",
      "metadata": {
        "collapsed": false
      },
      "source": [
        "%script\n",
        "\n",
        "/*\n",
        "SETTING_NAME\tDescripción breve\n",
        "ALGO_NAME\tEspecifica el algoritmo: aquí es una red neuronal (ALGO_NEURAL_NETWORK).\n",
        "NNET_HIDDEN_LAYERS\tNúmero de capas ocultas en la red. Más capas pueden capturar patrones más complejos.\n",
        "NNET_ACTIVATIONS\tFunción de activación usada (aquí LOG_SIG, una sigmoide logarítmica). Define cómo se transforman las señales entre capas.\n",
        "NNET_TOLERANCE\tUmbral de convergencia. Si el cambio en el error es menor que este valor, el entrenamiento se detiene.\n",
        "ODMS_RANDOM_SEED\tFija la semilla aleatoria para reproducibilidad.\n",
        "PREP_AUTO\tActiva el preprocesamiento automático (normalización, codificación, etc.).\n",
        "CLAS_WEIGHTS_BALANCED\tSi está en ON, ajusta pesos para clases desbalanceadas. Aquí está en OFF.\n",
        "ODMS_DETAILS\tHabilita la salida detallada del modelo (diagnóstico, métricas).\n",
        "ODMS_MISSING_VALUE_TREATMENT\tManejo automático de valores faltantes.\n",
        "ODMS_SAMPLING\tControla si se hace muestreo de datos. Aquí está desactivado.\n",
        "*/\n",
        "\n",
        "SELECT * FROM NN_SETTINGS;"
      ]
    },
    {
      "cell_type": "raw",
      "metadata": {
        "collapsed": false
      },
      "source": [
        "%script\n",
        "\n",
        " BEGIN\n",
        "  -- Borra modelo previo si existe\n",
        "  BEGIN\n",
        "    DBMS_DATA_MINING.DROP_MODEL('NN_HONGOS');\n",
        "  EXCEPTION\n",
        "    WHEN OTHERS THEN\n",
        "      NULL;\n",
        "  END;\n",
        "\n",
        "  -- Crea el nuevo modelo\n",
        "  DBMS_DATA_MINING.CREATE_MODEL(\n",
        "    model_name          => 'NN_HONGOS',\n",
        "    mining_function     => DBMS_DATA_MINING.CLASSIFICATION,\n",
        "    data_table_name     => 'HONGOS_TRAIN',\n",
        "    case_id_column_name => 'ID',\n",
        "    target_column_name  => 'TARGET',\n",
        "    settings_table_name => 'NN_SETTINGS'\n",
        "  );\n",
        "END;\n",
        "/"
      ]
    },
    {
      "cell_type": "raw",
      "metadata": {
        "collapsed": false
      },
      "source": [
        "%script\n",
        "\n",
        " SELECT ID,\n",
        "       TARGET,\n",
        "       PREDICTION(NN_HONGOS USING \n",
        "       ODOR, \n",
        "       BRUISES, \n",
        "       CAP_COLOR, \n",
        "       CAP_SURFACE, \n",
        "       CAP_SHAPE\n",
        "         \n",
        "       ) AS PREDICCION\n",
        "FROM HONGOS_TEST\n",
        "FETCH FIRST 10 ROWS ONLY;"
      ]
    },
    {
      "cell_type": "raw",
      "metadata": {
        "collapsed": false
      },
      "source": [
        "%script\n",
        "\n",
        " SELECT\n",
        "  SUM(CASE WHEN TARGET = 'p' AND PRED = 'p' THEN 1 ELSE 0 END) AS TP,\n",
        "  SUM(CASE WHEN TARGET = 'e' AND PRED = 'e' THEN 1 ELSE 0 END) AS TN,\n",
        "  SUM(CASE WHEN TARGET = 'e' AND PRED = 'p' THEN 1 ELSE 0 END) AS FP,\n",
        "  SUM(CASE WHEN TARGET = 'p' AND PRED = 'e' THEN 1 ELSE 0 END) AS FN\n",
        "FROM (\n",
        "  SELECT\n",
        "    TARGET,\n",
        "    PREDICTION(NN_HONGOS USING ODOR, BRUISES, CAP_COLOR, CAP_SURFACE, CAP_SHAPE) AS PRED\n",
        "  FROM HONGOS_TEST\n",
        ");"
      ]
    },
    {
      "cell_type": "raw",
      "metadata": {
        "collapsed": false
      },
      "source": [
        "%script\n",
        "\n",
        " SELECT\n",
        "  ROUND(2 * TP / (2 * TP + FP + FN), 4) AS F1_SCORE,\n",
        "  ROUND(TP / (TP + FP), 4) AS PRECISION,\n",
        "  ROUND(TP / (TP + FN), 4) AS RECALL\n",
        "FROM (\n",
        "  SELECT\n",
        "    SUM(CASE WHEN TARGET = 'p' AND PRED = 'p' THEN 1 ELSE 0 END) AS TP,\n",
        "    SUM(CASE WHEN TARGET = 'e' AND PRED = 'e' THEN 1 ELSE 0 END) AS TN,\n",
        "    SUM(CASE WHEN TARGET = 'e' AND PRED = 'p' THEN 1 ELSE 0 END) AS FP,\n",
        "    SUM(CASE WHEN TARGET = 'p' AND PRED = 'e' THEN 1 ELSE 0 END) AS FN\n",
        "  FROM (\n",
        "    SELECT\n",
        "      TARGET,\n",
        "      PREDICTION(NN_HONGOS USING ODOR, BRUISES, CAP_COLOR, CAP_SURFACE, CAP_SHAPE) AS PRED\n",
        "    FROM HONGOS_TEST\n",
        "  )\n",
        ");"
      ]
    },
    {
      "cell_type": "raw",
      "metadata": {
        "collapsed": false
      },
      "source": [
        "%script\n",
        "\n",
        " CREATE TABLE micoguia_registros (\n",
        "    id_registro         NUMBER GENERATED BY DEFAULT AS IDENTITY PRIMARY KEY,\n",
        "    fecha_registro      DATE DEFAULT SYSDATE,\n",
        "    usuario             VARCHAR2(100),\n",
        "    \n",
        "    odor                VARCHAR2(50),\n",
        "    bruises             VARCHAR2(50),\n",
        "    cap_color           VARCHAR2(50),\n",
        "    cap_surface         VARCHAR2(50),\n",
        "    cap_shape           VARCHAR2(50),\n",
        "    \n",
        "    clase_predicha      VARCHAR2(20), -- 'Venenoso', 'Comestible'\n",
        "    confianza           NUMBER(5,2),  -- porcentaje\n",
        "    \n",
        "    nombre_registro     VARCHAR2(200),\n",
        "    latitud             VARCHAR2(50),\n",
        "    longitud            VARCHAR2(50),\n",
        "    descripcion         VARCHAR2(1000),\n",
        "    \n",
        "    foto                BLOB,\n",
        "    foto_nombre         VARCHAR2(255),\n",
        "    foto_mime_type      VARCHAR2(100)\n",
        ");"
      ]
    },
    {
      "cell_type": "raw",
      "metadata": {
        "collapsed": false
      },
      "source": [
        "%script"
      ]
    },
    {
      "cell_type": "raw",
      "metadata": {
        "collapsed": false
      },
      "source": [
        "%script\n",
        "\n",
        " SELECT *\n",
        "FROM micoguia_registros\n",
        "ORDER BY fecha_registro DESC;"
      ]
    }
  ]
}