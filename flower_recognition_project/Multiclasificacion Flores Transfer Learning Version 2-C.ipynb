{
 "cells": [
  {
   "cell_type": "markdown",
   "id": "a2a02853-7b82-41a7-b5e5-6b52283acf3a",
   "metadata": {},
   "source": [
    "<h1 data-start=\"100\" data-end=\"197\"><span style=\"background-color: #bfedd2;\">Transfer Learning con MobileNetV2 para Clasificaci&oacute;n de Flores&nbsp;</span></h1>\n",
    "<div id=\"gtx-trans\" style=\"position: absolute; left: -86px; top: 38.2344px;\">\n",
    "<div class=\"gtx-trans-icon\">&nbsp;</div>\n",
    "</div>"
   ]
  },
  {
   "cell_type": "markdown",
   "id": "bf61921c-4c50-4352-8a2a-05c84921e54b",
   "metadata": {},
   "source": [
    "## Objetivo"
   ]
  },
  {
   "cell_type": "markdown",
   "id": "65da2a7e-4478-4d46-ad27-df6131a2297c",
   "metadata": {},
   "source": [
    "<p style=\"text-align: justify;\">Aplicar la t&eacute;cnica de transfer learning utilizando el modelo MobileNetV2 preentrenado para desarrollar un sistema eficiente de clasificaci&oacute;n de las 102 especies florales del dataset Oxford Flowers 102, optimizando la precisi&oacute;n del modelo y evaluando su desempe&ntilde;o en la identificaci&oacute;n correcta de las diferentes clases de flores.</p>"
   ]
  },
  {
   "cell_type": "markdown",
   "id": "39136ce8-cc2c-4a5a-8167-97b794a34029",
   "metadata": {},
   "source": [
    "<h3 data-start=\"217\" data-end=\"248\">Sobre M&iacute;</h3>\n",
    "<p data-start=\"249\" data-end=\"620\">Como analista de datos junior, busco aplicar mis conocimientos en an&aacute;lisis exploratorio, visualizaci&oacute;n y modelos predictivos para aportar valor en la toma de decisiones basada en datos. Me interesa crecer en entornos colaborativos donde pueda aprender de proyectos reales, desarrollar soluciones con impacto y continuar form&aacute;ndome en ciencia de datos aplicada al negocio. Tengo experiencia pr&aacute;ctica en limpieza de datos, visualizaci&oacute;n con herramientas como Matplotlib y Seaborn, y creaci&oacute;n de modelos b&aacute;sicos con scikit-learn y redes neuronales en Keras.&nbsp;</p>\n",
    "<h6 style=\"text-align: right;\" data-start=\"249\" data-end=\"620\">Romero Olmos, Luis Eduardo<br />Correo: <a href=\"mailto:luiseduardoromeroolmos@aol.com\">luiseduardoromeroolmos@aol.com</a><br />Git: https://github.com/LuisEduardoRomeroOlmos<br />Kaggle: https://www.kaggle.com/luiseduardoromeroolm</h6>"
   ]
  },
  {
   "cell_type": "markdown",
   "id": "24cb04b9-f4e5-42b7-ac7a-7e674fe77ee1",
   "metadata": {},
   "source": [
    "## Importacion de librerias"
   ]
  },
  {
   "cell_type": "code",
   "execution_count": 52,
   "id": "c0743fd5-552a-429a-9ce2-0ecff800ba54",
   "metadata": {},
   "outputs": [],
   "source": [
    "import tensorflow as tf\n",
    "import matplotlib.pyplot as plt\n",
    "import seaborn as sns\n",
    "import numpy as np\n",
    "\n",
    "from tensorflow.keras.applications import MobileNetV2\n",
    "from tensorflow.keras.applications.mobilenet_v2 import preprocess_input\n",
    "from tensorflow.keras import layers, models\n",
    "from tensorflow.keras.preprocessing.image import ImageDataGenerator\n",
    "from tensorflow.keras.callbacks import EarlyStopping, ModelCheckpoint, ReduceLROnPlateau\n",
    "\n",
    "from sklearn.metrics import classification_report\n",
    "from sklearn.metrics import confusion_matrix, ConfusionMatrixDisplay"
   ]
  },
  {
   "cell_type": "markdown",
   "id": "252049a6-d4d9-4f97-8f3d-5e6e4b773578",
   "metadata": {},
   "source": [
    "<p><em><strong>Declaraci&oacute;n de Funciones</strong></em></p>"
   ]
  },
  {
   "cell_type": "code",
   "execution_count": 53,
   "id": "73280fc0-e5c9-4f6d-b7b2-e97a5a5e1063",
   "metadata": {},
   "outputs": [],
   "source": [
    "#Funcion para graficar el historial de entrenamiento\n",
    "def plot_accuracy(history):\n",
    "    plt.plot(history.history['accuracy'], label='Entrenamiento')\n",
    "    plt.plot(history.history['val_accuracy'], label='Validación')\n",
    "    plt.xlabel('Época')\n",
    "    plt.ylabel('Exactitud')\n",
    "    plt.title('Evolución del Accuracy')\n",
    "    plt.legend()\n",
    "    plt.grid(True)\n",
    "    plt.show()"
   ]
  },
  {
   "cell_type": "code",
   "execution_count": 54,
   "id": "f31e8db7-ceeb-4b94-b779-fe33019aefb6",
   "metadata": {},
   "outputs": [],
   "source": [
    "def cargar_preprocesar_imagen(ruta_imagen, tamaño=(128, 128)):\n",
    "    # Cargar y redimensionar\n",
    "    img = image.load_img(ruta_imagen, target_size=tamaño)\n",
    "    # Convertir a array\n",
    "    img_array = image.img_to_array(img)\n",
    "    # Añadir dimensión para lote (batch size 1)\n",
    "    img_array = np.expand_dims(img_array, axis=0)\n",
    "    # Escalar píxeles a rango [0, 1]\n",
    "    img_array = img_array / 255.0\n",
    "    return img_array"
   ]
  },
  {
   "cell_type": "markdown",
   "id": "ed8fe0b0-2ec5-46dd-aef6-3af3f4ac3be3",
   "metadata": {},
   "source": [
    "## Preparacion y Aumento de Datos para el Modelo CNN"
   ]
  },
  {
   "cell_type": "markdown",
   "id": "74f4f93f-108b-4e56-8d5d-831b6780f9f8",
   "metadata": {},
   "source": [
    "<p data-start=\"131\" data-end=\"635\">Se utiliza <strong>ImageDataGenerator</strong> para aplicar t&eacute;cnicas de aumento de datos que enriquecen el conjunto de entrenamiento, mejorando as&iacute; la capacidad de generalizaci&oacute;n del modelo. Entre estas t&eacute;cnicas se incluyen rotaciones de hasta 30&deg;, desplazamientos horizontales y verticales del 10%, transformaciones por corte (shear), zoom aleatorio dentro del rango 0.8&ndash;1.2, y volteo horizontal. Adem&aacute;s, se emplea el modo de relleno 'nearest' para completar los p&iacute;xeles generados por las transformaciones.</p>\n",
    "<p data-start=\"637\" data-end=\"758\">El conjunto de datos se divide previamente en tres carpetas: train y val, y se cargan de la siguiente manera:</p>\n",
    "<ul data-start=\"760\" data-end=\"983\">\n",
    "<li data-start=\"760\" data-end=\"827\">\n",
    "<p data-start=\"762\" data-end=\"827\"><strong>train_data</strong> se genera con<strong> aumentos y</strong> <strong>reescalado</strong> de im&aacute;genes.</p>\n",
    "</li>\n",
    "<li data-start=\"828\" data-end=\"983\">\n",
    "<p data-start=\"830\" data-end=\"983\"><strong>val_data</strong> &nbsp;se carga solo con<strong> reescalado</strong>, manteni&eacute;ndose sin transformaciones adicionales para evaluar el desempe&ntilde;o real del modelo.</p>\n",
    "</li>\n",
    "</ul>\n",
    "<p data-start=\"985\" data-end=\"1218\">El tama&ntilde;o objetivo de las im&aacute;genes es de <strong>224x224 p&iacute;xeles</strong>, el <strong>batch_size es de 32</strong>&nbsp;y se emplea la <strong>codificaci&oacute;n sparse</strong> para las etiquetas, lo cual es adecuado al usar <strong>sparse_categorical_crossentropy</strong> como funci&oacute;n de p&eacute;rdida.</p>"
   ]
  },
  {
   "cell_type": "code",
   "execution_count": 64,
   "id": "9abde277-4819-4b55-a6ef-892ea53f06b9",
   "metadata": {},
   "outputs": [
    {
     "name": "stdout",
     "output_type": "stream",
     "text": [
      "Found 6507 images belonging to 102 classes.\n",
      "Found 1682 images belonging to 102 classes.\n"
     ]
    }
   ],
   "source": [
    "train_gen = ImageDataGenerator(\n",
    "    rescale=1./255,\n",
    "    rotation_range=30,         # Aumentar un poco el rango de rotación (hasta 30°)\n",
    "    width_shift_range=0.1,     # Mover horizontalmente la imagen un 10%\n",
    "    height_shift_range=0.1,    # Mover verticalmente la imagen un 10%\n",
    "    shear_range=0.15,          # Aplicar una transformación de corte (shear)\n",
    "    zoom_range=0.2,            # Zoom dentro del rango 0.8 a 1.2\n",
    "    horizontal_flip=True,      # Voltear horizontalmente\n",
    "    fill_mode='nearest'        # Relleno para los píxeles que queden vacíos después de la transformación  \n",
    ")\n",
    "\n",
    "val_test_gen = ImageDataGenerator(rescale=1./255)\n",
    "\n",
    "train_data = train_gen.flow_from_directory(\n",
    "    'Dataset/Split/train',\n",
    "    target_size=(224, 224),\n",
    "    batch_size=32,\n",
    "    class_mode='sparse'\n",
    ")\n",
    "\n",
    "val_data = val_test_gen.flow_from_directory(\n",
    "    'Dataset/Split/val',\n",
    "    target_size=(224, 224),\n",
    "    batch_size=32,\n",
    "    class_mode='sparse',\n",
    "    shuffle=False\n",
    ")"
   ]
  },
  {
   "cell_type": "markdown",
   "id": "d9b47fd3-50dd-4894-a9a6-73fee478d50d",
   "metadata": {},
   "source": [
    "## Creación e importación del Modelo"
   ]
  },
  {
   "cell_type": "markdown",
   "id": "52807504-1f61-40c3-9e3c-a70533fda301",
   "metadata": {},
   "source": [
    "<p data-start=\"130\" data-end=\"421\">Se utiliz&oacute; la arquitectura <strong data-start=\"157\" data-end=\"197\">MobileNetV2 preentrenada en ImageNet</strong> como base para el modelo. Esta red se carga sin su capa superior (include_top=False) y se configura inicialmente con todas sus capas <strong data-start=\"333\" data-end=\"347\">congeladas</strong> (trainable=False) para preservar el conocimiento previamente aprendido.</p>\n",
    "<p data-start=\"423\" data-end=\"572\">Sobre esta base se construye una nueva \"cabeza\" de clasificaci&oacute;n adaptada a la tarea de distinguir entre 102 especies de flores. Esta cabeza incluye:</p>\n",
    "<ul data-start=\"574\" data-end=\"923\">\n",
    "<li data-start=\"574\" data-end=\"655\">\n",
    "<p data-start=\"576\" data-end=\"655\">Una capa de <strong data-start=\"588\" data-end=\"614\">GlobalAveragePooling2D</strong> para reducir las dimensiones espaciales,</p>\n",
    "</li>\n",
    "<li data-start=\"656\" data-end=\"755\">\n",
    "<p data-start=\"658\" data-end=\"755\">Una capa <strong data-start=\"667\" data-end=\"712\">densa de 256 unidades con activaci&oacute;n ReLU</strong> para incrementar la capacidad de decisi&oacute;n,</p>\n",
    "</li>\n",
    "<li data-start=\"756\" data-end=\"813\">\n",
    "<p data-start=\"758\" data-end=\"813\">Una capa <strong data-start=\"767\" data-end=\"786\">Dropout del 50%</strong> para prevenir sobreajuste,</p>\n",
    "</li>\n",
    "<li data-start=\"814\" data-end=\"923\">\n",
    "<p data-start=\"816\" data-end=\"923\">Una capa de salida con <strong data-start=\"839\" data-end=\"861\">activaci&oacute;n softmax</strong> adecuada para la clasificaci&oacute;n multiclase con 102 categor&iacute;as.</p>\n",
    "</li>\n",
    "</ul>\n",
    "<p data-start=\"925\" data-end=\"1100\">El modelo se compila usando el optimizador <strong data-start=\"968\" data-end=\"976\">Adam</strong> y la funci&oacute;n de p&eacute;rdida <strong data-start=\"1001\" data-end=\"1036\">sparse_categorical_crossentropy</strong>, com&uacute;nmente utilizada en problemas de clasificaci&oacute;n multiclase.</p>"
   ]
  },
  {
   "cell_type": "code",
   "execution_count": 12,
   "id": "35805f70-ac21-4d83-9033-88eae7c0910b",
   "metadata": {},
   "outputs": [],
   "source": [
    "# Cargar el modelo base (sin la capa final)\n",
    "base_model = MobileNetV2(input_shape=(224, 224, 3),\n",
    "                         include_top=False,\n",
    "                         weights='imagenet')"
   ]
  },
  {
   "cell_type": "code",
   "execution_count": 13,
   "id": "65be7d70-8bfa-4952-9782-d3ad2292e693",
   "metadata": {},
   "outputs": [],
   "source": [
    "#  Congelas las capas de MobileNet\n",
    "base_model.trainable = False  "
   ]
  },
  {
   "cell_type": "code",
   "execution_count": 14,
   "id": "fd8d5496-2c72-4da0-8f26-fb9a3fd512a0",
   "metadata": {},
   "outputs": [],
   "source": [
    "# Crear la cabeza del modelo (clasificación binaria)\n",
    "head_model = models.Sequential([\n",
    "    base_model,\n",
    "    layers.GlobalAveragePooling2D(),      # Reduce las características espaciales\n",
    "    layers.Dense(256, activation='relu'), # Capa densa más grande para más capacidad\n",
    "    layers.Dropout(0.5),                   # Regularización para evitar sobreajuste\n",
    "    layers.Dense(102, activation='softmax')  # Salida con 102 clases (flores)\n",
    "])"
   ]
  },
  {
   "cell_type": "code",
   "execution_count": 15,
   "id": "728ffd09-003f-42d2-ac86-668179d59bff",
   "metadata": {},
   "outputs": [],
   "source": [
    "# Compilar solo la cabeza\n",
    "head_model.compile( optimizer='adam',\n",
    "    loss='sparse_categorical_crossentropy',\n",
    "    metrics=['accuracy'])"
   ]
  },
  {
   "cell_type": "code",
   "execution_count": 16,
   "id": "ca95cc63-aaeb-4e38-930c-608cf9098b2e",
   "metadata": {},
   "outputs": [
    {
     "data": {
      "text/html": [
       "<pre style=\"white-space:pre;overflow-x:auto;line-height:normal;font-family:Menlo,'DejaVu Sans Mono',consolas,'Courier New',monospace\"><span style=\"font-weight: bold\">Model: \"sequential_1\"</span>\n",
       "</pre>\n"
      ],
      "text/plain": [
       "\u001b[1mModel: \"sequential_1\"\u001b[0m\n"
      ]
     },
     "metadata": {},
     "output_type": "display_data"
    },
    {
     "data": {
      "text/html": [
       "<pre style=\"white-space:pre;overflow-x:auto;line-height:normal;font-family:Menlo,'DejaVu Sans Mono',consolas,'Courier New',monospace\">┏━━━━━━━━━━━━━━━━━━━━━━━━━━━━━━━━━┳━━━━━━━━━━━━━━━━━━━━━━━━┳━━━━━━━━━━━━━━━┓\n",
       "┃<span style=\"font-weight: bold\"> Layer (type)                    </span>┃<span style=\"font-weight: bold\"> Output Shape           </span>┃<span style=\"font-weight: bold\">       Param # </span>┃\n",
       "┡━━━━━━━━━━━━━━━━━━━━━━━━━━━━━━━━━╇━━━━━━━━━━━━━━━━━━━━━━━━╇━━━━━━━━━━━━━━━┩\n",
       "│ mobilenetv2_1.00_224            │ (<span style=\"color: #00d7ff; text-decoration-color: #00d7ff\">None</span>, <span style=\"color: #00af00; text-decoration-color: #00af00\">7</span>, <span style=\"color: #00af00; text-decoration-color: #00af00\">7</span>, <span style=\"color: #00af00; text-decoration-color: #00af00\">1280</span>)     │     <span style=\"color: #00af00; text-decoration-color: #00af00\">2,257,984</span> │\n",
       "│ (<span style=\"color: #0087ff; text-decoration-color: #0087ff\">Functional</span>)                    │                        │               │\n",
       "├─────────────────────────────────┼────────────────────────┼───────────────┤\n",
       "│ global_average_pooling2d_1      │ (<span style=\"color: #00d7ff; text-decoration-color: #00d7ff\">None</span>, <span style=\"color: #00af00; text-decoration-color: #00af00\">1280</span>)           │             <span style=\"color: #00af00; text-decoration-color: #00af00\">0</span> │\n",
       "│ (<span style=\"color: #0087ff; text-decoration-color: #0087ff\">GlobalAveragePooling2D</span>)        │                        │               │\n",
       "├─────────────────────────────────┼────────────────────────┼───────────────┤\n",
       "│ dense_2 (<span style=\"color: #0087ff; text-decoration-color: #0087ff\">Dense</span>)                 │ (<span style=\"color: #00d7ff; text-decoration-color: #00d7ff\">None</span>, <span style=\"color: #00af00; text-decoration-color: #00af00\">256</span>)            │       <span style=\"color: #00af00; text-decoration-color: #00af00\">327,936</span> │\n",
       "├─────────────────────────────────┼────────────────────────┼───────────────┤\n",
       "│ dropout_1 (<span style=\"color: #0087ff; text-decoration-color: #0087ff\">Dropout</span>)             │ (<span style=\"color: #00d7ff; text-decoration-color: #00d7ff\">None</span>, <span style=\"color: #00af00; text-decoration-color: #00af00\">256</span>)            │             <span style=\"color: #00af00; text-decoration-color: #00af00\">0</span> │\n",
       "├─────────────────────────────────┼────────────────────────┼───────────────┤\n",
       "│ dense_3 (<span style=\"color: #0087ff; text-decoration-color: #0087ff\">Dense</span>)                 │ (<span style=\"color: #00d7ff; text-decoration-color: #00d7ff\">None</span>, <span style=\"color: #00af00; text-decoration-color: #00af00\">102</span>)            │        <span style=\"color: #00af00; text-decoration-color: #00af00\">26,214</span> │\n",
       "└─────────────────────────────────┴────────────────────────┴───────────────┘\n",
       "</pre>\n"
      ],
      "text/plain": [
       "┏━━━━━━━━━━━━━━━━━━━━━━━━━━━━━━━━━┳━━━━━━━━━━━━━━━━━━━━━━━━┳━━━━━━━━━━━━━━━┓\n",
       "┃\u001b[1m \u001b[0m\u001b[1mLayer (type)                   \u001b[0m\u001b[1m \u001b[0m┃\u001b[1m \u001b[0m\u001b[1mOutput Shape          \u001b[0m\u001b[1m \u001b[0m┃\u001b[1m \u001b[0m\u001b[1m      Param #\u001b[0m\u001b[1m \u001b[0m┃\n",
       "┡━━━━━━━━━━━━━━━━━━━━━━━━━━━━━━━━━╇━━━━━━━━━━━━━━━━━━━━━━━━╇━━━━━━━━━━━━━━━┩\n",
       "│ mobilenetv2_1.00_224            │ (\u001b[38;5;45mNone\u001b[0m, \u001b[38;5;34m7\u001b[0m, \u001b[38;5;34m7\u001b[0m, \u001b[38;5;34m1280\u001b[0m)     │     \u001b[38;5;34m2,257,984\u001b[0m │\n",
       "│ (\u001b[38;5;33mFunctional\u001b[0m)                    │                        │               │\n",
       "├─────────────────────────────────┼────────────────────────┼───────────────┤\n",
       "│ global_average_pooling2d_1      │ (\u001b[38;5;45mNone\u001b[0m, \u001b[38;5;34m1280\u001b[0m)           │             \u001b[38;5;34m0\u001b[0m │\n",
       "│ (\u001b[38;5;33mGlobalAveragePooling2D\u001b[0m)        │                        │               │\n",
       "├─────────────────────────────────┼────────────────────────┼───────────────┤\n",
       "│ dense_2 (\u001b[38;5;33mDense\u001b[0m)                 │ (\u001b[38;5;45mNone\u001b[0m, \u001b[38;5;34m256\u001b[0m)            │       \u001b[38;5;34m327,936\u001b[0m │\n",
       "├─────────────────────────────────┼────────────────────────┼───────────────┤\n",
       "│ dropout_1 (\u001b[38;5;33mDropout\u001b[0m)             │ (\u001b[38;5;45mNone\u001b[0m, \u001b[38;5;34m256\u001b[0m)            │             \u001b[38;5;34m0\u001b[0m │\n",
       "├─────────────────────────────────┼────────────────────────┼───────────────┤\n",
       "│ dense_3 (\u001b[38;5;33mDense\u001b[0m)                 │ (\u001b[38;5;45mNone\u001b[0m, \u001b[38;5;34m102\u001b[0m)            │        \u001b[38;5;34m26,214\u001b[0m │\n",
       "└─────────────────────────────────┴────────────────────────┴───────────────┘\n"
      ]
     },
     "metadata": {},
     "output_type": "display_data"
    },
    {
     "data": {
      "text/html": [
       "<pre style=\"white-space:pre;overflow-x:auto;line-height:normal;font-family:Menlo,'DejaVu Sans Mono',consolas,'Courier New',monospace\"><span style=\"font-weight: bold\"> Total params: </span><span style=\"color: #00af00; text-decoration-color: #00af00\">2,612,134</span> (9.96 MB)\n",
       "</pre>\n"
      ],
      "text/plain": [
       "\u001b[1m Total params: \u001b[0m\u001b[38;5;34m2,612,134\u001b[0m (9.96 MB)\n"
      ]
     },
     "metadata": {},
     "output_type": "display_data"
    },
    {
     "data": {
      "text/html": [
       "<pre style=\"white-space:pre;overflow-x:auto;line-height:normal;font-family:Menlo,'DejaVu Sans Mono',consolas,'Courier New',monospace\"><span style=\"font-weight: bold\"> Trainable params: </span><span style=\"color: #00af00; text-decoration-color: #00af00\">354,150</span> (1.35 MB)\n",
       "</pre>\n"
      ],
      "text/plain": [
       "\u001b[1m Trainable params: \u001b[0m\u001b[38;5;34m354,150\u001b[0m (1.35 MB)\n"
      ]
     },
     "metadata": {},
     "output_type": "display_data"
    },
    {
     "data": {
      "text/html": [
       "<pre style=\"white-space:pre;overflow-x:auto;line-height:normal;font-family:Menlo,'DejaVu Sans Mono',consolas,'Courier New',monospace\"><span style=\"font-weight: bold\"> Non-trainable params: </span><span style=\"color: #00af00; text-decoration-color: #00af00\">2,257,984</span> (8.61 MB)\n",
       "</pre>\n"
      ],
      "text/plain": [
       "\u001b[1m Non-trainable params: \u001b[0m\u001b[38;5;34m2,257,984\u001b[0m (8.61 MB)\n"
      ]
     },
     "metadata": {},
     "output_type": "display_data"
    }
   ],
   "source": [
    "head_model.summary()"
   ]
  },
  {
   "cell_type": "markdown",
   "id": "ab74f162-18de-439a-ab5b-3c032ea2c66f",
   "metadata": {},
   "source": [
    "## Entrenamiento del modelo"
   ]
  },
  {
   "cell_type": "markdown",
   "id": "a72538c1-89b9-4d5d-b018-d66a04b20339",
   "metadata": {},
   "source": [
    "#### Entrenamiento de la cabeza"
   ]
  },
  {
   "cell_type": "markdown",
   "id": "6707321d-cb4e-44de-839a-48da4562753e",
   "metadata": {},
   "source": [
    "El entrenamiento de la cabeza (o training the head en inglés) se refiere a entrenar solo la parte superior de un modelo basado en transfer learning, es decir, las capas que tú agregas al final del modelo base preentrenado."
   ]
  },
  {
   "cell_type": "code",
   "execution_count": 17,
   "id": "0a4cdf3e-c6a2-4611-8c7f-810ba895b0b6",
   "metadata": {},
   "outputs": [
    {
     "name": "stdout",
     "output_type": "stream",
     "text": [
      "Epoch 1/20\n",
      "\u001b[1m204/204\u001b[0m \u001b[32m━━━━━━━━━━━━━━━━━━━━\u001b[0m\u001b[37m\u001b[0m \u001b[1m362s\u001b[0m 2s/step - accuracy: 0.1708 - loss: 3.8924 - val_accuracy: 0.6421 - val_loss: 1.5693\n",
      "Epoch 2/20\n",
      "\u001b[1m204/204\u001b[0m \u001b[32m━━━━━━━━━━━━━━━━━━━━\u001b[0m\u001b[37m\u001b[0m \u001b[1m348s\u001b[0m 2s/step - accuracy: 0.5322 - loss: 1.7847 - val_accuracy: 0.7598 - val_loss: 0.9587\n",
      "Epoch 3/20\n",
      "\u001b[1m204/204\u001b[0m \u001b[32m━━━━━━━━━━━━━━━━━━━━\u001b[0m\u001b[37m\u001b[0m \u001b[1m316s\u001b[0m 2s/step - accuracy: 0.6569 - loss: 1.2353 - val_accuracy: 0.8193 - val_loss: 0.7275\n",
      "Epoch 4/20\n",
      "\u001b[1m204/204\u001b[0m \u001b[32m━━━━━━━━━━━━━━━━━━━━\u001b[0m\u001b[37m\u001b[0m \u001b[1m322s\u001b[0m 2s/step - accuracy: 0.7074 - loss: 1.0079 - val_accuracy: 0.8413 - val_loss: 0.5935\n",
      "Epoch 5/20\n",
      "\u001b[1m204/204\u001b[0m \u001b[32m━━━━━━━━━━━━━━━━━━━━\u001b[0m\u001b[37m\u001b[0m \u001b[1m320s\u001b[0m 2s/step - accuracy: 0.7691 - loss: 0.8151 - val_accuracy: 0.8502 - val_loss: 0.5630\n",
      "Epoch 6/20\n",
      "\u001b[1m204/204\u001b[0m \u001b[32m━━━━━━━━━━━━━━━━━━━━\u001b[0m\u001b[37m\u001b[0m \u001b[1m320s\u001b[0m 2s/step - accuracy: 0.7860 - loss: 0.7154 - val_accuracy: 0.8555 - val_loss: 0.5282\n",
      "Epoch 7/20\n",
      "\u001b[1m204/204\u001b[0m \u001b[32m━━━━━━━━━━━━━━━━━━━━\u001b[0m\u001b[37m\u001b[0m \u001b[1m326s\u001b[0m 2s/step - accuracy: 0.8041 - loss: 0.6730 - val_accuracy: 0.8662 - val_loss: 0.4765\n",
      "Epoch 8/20\n",
      "\u001b[1m204/204\u001b[0m \u001b[32m━━━━━━━━━━━━━━━━━━━━\u001b[0m\u001b[37m\u001b[0m \u001b[1m397s\u001b[0m 2s/step - accuracy: 0.8200 - loss: 0.5956 - val_accuracy: 0.8704 - val_loss: 0.4777\n",
      "Epoch 9/20\n",
      "\u001b[1m204/204\u001b[0m \u001b[32m━━━━━━━━━━━━━━━━━━━━\u001b[0m\u001b[37m\u001b[0m \u001b[1m317s\u001b[0m 2s/step - accuracy: 0.8246 - loss: 0.5911 - val_accuracy: 0.8740 - val_loss: 0.4565\n",
      "Epoch 10/20\n",
      "\u001b[1m204/204\u001b[0m \u001b[32m━━━━━━━━━━━━━━━━━━━━\u001b[0m\u001b[37m\u001b[0m \u001b[1m318s\u001b[0m 2s/step - accuracy: 0.8352 - loss: 0.5571 - val_accuracy: 0.8793 - val_loss: 0.4427\n",
      "Epoch 11/20\n",
      "\u001b[1m204/204\u001b[0m \u001b[32m━━━━━━━━━━━━━━━━━━━━\u001b[0m\u001b[37m\u001b[0m \u001b[1m315s\u001b[0m 2s/step - accuracy: 0.8384 - loss: 0.5234 - val_accuracy: 0.8841 - val_loss: 0.4282\n",
      "Epoch 12/20\n",
      "\u001b[1m204/204\u001b[0m \u001b[32m━━━━━━━━━━━━━━━━━━━━\u001b[0m\u001b[37m\u001b[0m \u001b[1m317s\u001b[0m 2s/step - accuracy: 0.8472 - loss: 0.5124 - val_accuracy: 0.8829 - val_loss: 0.4299\n",
      "Epoch 13/20\n",
      "\u001b[1m204/204\u001b[0m \u001b[32m━━━━━━━━━━━━━━━━━━━━\u001b[0m\u001b[37m\u001b[0m \u001b[1m319s\u001b[0m 2s/step - accuracy: 0.8576 - loss: 0.4797 - val_accuracy: 0.8924 - val_loss: 0.3886\n",
      "Epoch 14/20\n",
      "\u001b[1m204/204\u001b[0m \u001b[32m━━━━━━━━━━━━━━━━━━━━\u001b[0m\u001b[37m\u001b[0m \u001b[1m315s\u001b[0m 2s/step - accuracy: 0.8641 - loss: 0.4666 - val_accuracy: 0.8841 - val_loss: 0.4348\n",
      "Epoch 15/20\n",
      "\u001b[1m204/204\u001b[0m \u001b[32m━━━━━━━━━━━━━━━━━━━━\u001b[0m\u001b[37m\u001b[0m \u001b[1m319s\u001b[0m 2s/step - accuracy: 0.8665 - loss: 0.4620 - val_accuracy: 0.8799 - val_loss: 0.4113\n",
      "Epoch 16/20\n",
      "\u001b[1m204/204\u001b[0m \u001b[32m━━━━━━━━━━━━━━━━━━━━\u001b[0m\u001b[37m\u001b[0m \u001b[1m316s\u001b[0m 2s/step - accuracy: 0.8571 - loss: 0.4581 - val_accuracy: 0.8823 - val_loss: 0.4301\n",
      "Epoch 17/20\n",
      "\u001b[1m204/204\u001b[0m \u001b[32m━━━━━━━━━━━━━━━━━━━━\u001b[0m\u001b[37m\u001b[0m \u001b[1m327s\u001b[0m 2s/step - accuracy: 0.8634 - loss: 0.4400 - val_accuracy: 0.8942 - val_loss: 0.3745\n",
      "Epoch 18/20\n",
      "\u001b[1m204/204\u001b[0m \u001b[32m━━━━━━━━━━━━━━━━━━━━\u001b[0m\u001b[37m\u001b[0m \u001b[1m313s\u001b[0m 2s/step - accuracy: 0.8720 - loss: 0.3964 - val_accuracy: 0.8954 - val_loss: 0.4031\n",
      "Epoch 19/20\n",
      "\u001b[1m204/204\u001b[0m \u001b[32m━━━━━━━━━━━━━━━━━━━━\u001b[0m\u001b[37m\u001b[0m \u001b[1m307s\u001b[0m 2s/step - accuracy: 0.8713 - loss: 0.4148 - val_accuracy: 0.8918 - val_loss: 0.3981\n",
      "Epoch 20/20\n",
      "\u001b[1m204/204\u001b[0m \u001b[32m━━━━━━━━━━━━━━━━━━━━\u001b[0m\u001b[37m\u001b[0m \u001b[1m316s\u001b[0m 2s/step - accuracy: 0.8770 - loss: 0.4059 - val_accuracy: 0.8971 - val_loss: 0.4013\n"
     ]
    }
   ],
   "source": [
    "# Entrenar solo la cabeza 20, maximo 20\n",
    "history = head_model.fit(train_data, validation_data=val_data, epochs=20)"
   ]
  },
  {
   "cell_type": "markdown",
   "id": "7b6479a7-f730-468e-86ac-7dae0c81baea",
   "metadata": {},
   "source": [
    "####  Fine-Tuning del Modelo Preentrenado"
   ]
  },
  {
   "cell_type": "markdown",
   "id": "476bcd9c-adba-4972-8ab4-8200504020d5",
   "metadata": {},
   "source": [
    "En esta sección se realiza el **fine-tuning** de MobileNetV2, desbloqueando las últimas 25 capas para permitir que se ajusten mejor a la tarea de clasificación. Las primeras 130 capas se mantienen congeladas para conservar el conocimiento aprendido previamente en ImageNet.\n",
    "\n",
    "El modelo se recompila con una **tasa de aprendizaje baja (`1e-5`)**, ideal para ajustes finos sin afectar negativamente los pesos preentrenados.\n",
    "\n",
    "Se utilizan los siguientes *callbacks* para controlar el entrenamiento:\n",
    "\n",
    "- **`EarlyStopping`**: detiene el entrenamiento si `val_accuracy` no mejora tras 12 épocas.\n",
    "- **`ModelCheckpoint`**: guarda automáticamente el mejor modelo según la precisión de validación.\n",
    "- **`ReduceLROnPlateau`**: reduce la tasa de aprendizaje si `val_loss` se estanca, afinando el aprendizaje.\n",
    "\n",
    "Finalmente, se entrena el modelo con estas configuraciones por un máximo de 15 épocas.\n"
   ]
  },
  {
   "cell_type": "code",
   "execution_count": 18,
   "id": "6e168906-5330-4a6d-811e-4da6908775d5",
   "metadata": {},
   "outputs": [],
   "source": [
    "# Descongelar algunas capas profundas\n",
    "base_model.trainable = True\n",
    "\n",
    "# Congelar las primeras N capas, entrenar las últimas (más específicas)\n",
    "for layer in base_model.layers[:130]:\n",
    "    layer.trainable = False\n",
    "\n",
    "# Recompilar antes de continuar\n",
    "head_model.compile(optimizer=tf.keras.optimizers.Adam(1e-5),  # tasa más baja\n",
    "                   loss='sparse_categorical_crossentropy',\n",
    "                   metrics=['accuracy'])"
   ]
  },
  {
   "cell_type": "code",
   "execution_count": 20,
   "id": "a30449cf-895b-4ac0-b6a9-b77f80846871",
   "metadata": {},
   "outputs": [],
   "source": [
    "# EarlyStopping para detener entrenamiento si val_accuracy no mejora en 5 épocas seguidas\n",
    "early_stop = EarlyStopping(\n",
    "    monitor='val_accuracy',  # métrica a monitorear\n",
    "    patience=12,              # espera 12 epochs sin mejora para detener\n",
    "    verbose=1,\n",
    "    restore_best_weights=True  # restaura los pesos del mejor epoch al final\n",
    ")\n",
    "\n",
    "# ModelCheckpoint para guardar el mejor modelo durante el entrenamiento\n",
    "checkpoint = ModelCheckpoint(\n",
    "    'Flores_Version_2_C.keras',       # ruta donde se guardará el modelo\n",
    "    monitor='val_accuracy',  # métrica a monitorear\n",
    "    save_best_only=True,     # guarda solo el mejor modelo\n",
    "    verbose=1\n",
    ")\n",
    "\n",
    "# reduce a la mitad (de 1e-5 a 5e-6, luego a 2.5e-6, etc.)\n",
    "reduce_lr = ReduceLROnPlateau(\n",
    "    monitor='val_loss',\n",
    "    factor=0.7,        \n",
    "    patience=4,        # si val_loss no mejora en 7 épocas, reduce LR\n",
    "    verbose=1,\n",
    "    min_lr=1e-7        # no baja de 1e-7\n",
    ")\n"
   ]
  },
  {
   "cell_type": "code",
   "execution_count": 21,
   "id": "9c605610-c761-4588-a73f-db6c5422215d",
   "metadata": {},
   "outputs": [
    {
     "name": "stdout",
     "output_type": "stream",
     "text": [
      "Epoch 1/60\n",
      "\u001b[1m204/204\u001b[0m \u001b[32m━━━━━━━━━━━━━━━━━━━━\u001b[0m\u001b[37m\u001b[0m \u001b[1m0s\u001b[0m 2s/step - accuracy: 0.5353 - loss: 2.1033\n",
      "Epoch 1: val_accuracy improved from -inf to 0.89120, saving model to Flores_Version_2_C.keras\n",
      "\u001b[1m204/204\u001b[0m \u001b[32m━━━━━━━━━━━━━━━━━━━━\u001b[0m\u001b[37m\u001b[0m \u001b[1m379s\u001b[0m 2s/step - accuracy: 0.5356 - loss: 2.1012 - val_accuracy: 0.8912 - val_loss: 0.4116 - learning_rate: 1.0000e-05\n",
      "Epoch 2/60\n",
      "\u001b[1m204/204\u001b[0m \u001b[32m━━━━━━━━━━━━━━━━━━━━\u001b[0m\u001b[37m\u001b[0m \u001b[1m0s\u001b[0m 2s/step - accuracy: 0.7220 - loss: 0.9546\n",
      "Epoch 2: val_accuracy improved from 0.89120 to 0.89358, saving model to Flores_Version_2_C.keras\n",
      "\u001b[1m204/204\u001b[0m \u001b[32m━━━━━━━━━━━━━━━━━━━━\u001b[0m\u001b[37m\u001b[0m \u001b[1m367s\u001b[0m 2s/step - accuracy: 0.7221 - loss: 0.9542 - val_accuracy: 0.8936 - val_loss: 0.4050 - learning_rate: 1.0000e-05\n",
      "Epoch 3/60\n",
      "\u001b[1m204/204\u001b[0m \u001b[32m━━━━━━━━━━━━━━━━━━━━\u001b[0m\u001b[37m\u001b[0m \u001b[1m0s\u001b[0m 2s/step - accuracy: 0.7815 - loss: 0.7326\n",
      "Epoch 3: val_accuracy did not improve from 0.89358\n",
      "\u001b[1m204/204\u001b[0m \u001b[32m━━━━━━━━━━━━━━━━━━━━\u001b[0m\u001b[37m\u001b[0m \u001b[1m362s\u001b[0m 2s/step - accuracy: 0.7815 - loss: 0.7324 - val_accuracy: 0.8936 - val_loss: 0.3904 - learning_rate: 1.0000e-05\n",
      "Epoch 4/60\n",
      "\u001b[1m204/204\u001b[0m \u001b[32m━━━━━━━━━━━━━━━━━━━━\u001b[0m\u001b[37m\u001b[0m \u001b[1m0s\u001b[0m 2s/step - accuracy: 0.8089 - loss: 0.6297\n",
      "Epoch 4: val_accuracy improved from 0.89358 to 0.89655, saving model to Flores_Version_2_C.keras\n",
      "\u001b[1m204/204\u001b[0m \u001b[32m━━━━━━━━━━━━━━━━━━━━\u001b[0m\u001b[37m\u001b[0m \u001b[1m421s\u001b[0m 2s/step - accuracy: 0.8089 - loss: 0.6296 - val_accuracy: 0.8966 - val_loss: 0.3791 - learning_rate: 1.0000e-05\n",
      "Epoch 5/60\n",
      "\u001b[1m204/204\u001b[0m \u001b[32m━━━━━━━━━━━━━━━━━━━━\u001b[0m\u001b[37m\u001b[0m \u001b[1m0s\u001b[0m 2s/step - accuracy: 0.8395 - loss: 0.5432\n",
      "Epoch 5: val_accuracy did not improve from 0.89655\n",
      "\u001b[1m204/204\u001b[0m \u001b[32m━━━━━━━━━━━━━━━━━━━━\u001b[0m\u001b[37m\u001b[0m \u001b[1m385s\u001b[0m 2s/step - accuracy: 0.8395 - loss: 0.5432 - val_accuracy: 0.8948 - val_loss: 0.3688 - learning_rate: 1.0000e-05\n",
      "Epoch 6/60\n",
      "\u001b[1m204/204\u001b[0m \u001b[32m━━━━━━━━━━━━━━━━━━━━\u001b[0m\u001b[37m\u001b[0m \u001b[1m0s\u001b[0m 2s/step - accuracy: 0.8371 - loss: 0.5419\n",
      "Epoch 6: val_accuracy improved from 0.89655 to 0.89834, saving model to Flores_Version_2_C.keras\n",
      "\u001b[1m204/204\u001b[0m \u001b[32m━━━━━━━━━━━━━━━━━━━━\u001b[0m\u001b[37m\u001b[0m \u001b[1m390s\u001b[0m 2s/step - accuracy: 0.8371 - loss: 0.5418 - val_accuracy: 0.8983 - val_loss: 0.3547 - learning_rate: 1.0000e-05\n",
      "Epoch 7/60\n",
      "\u001b[1m204/204\u001b[0m \u001b[32m━━━━━━━━━━━━━━━━━━━━\u001b[0m\u001b[37m\u001b[0m \u001b[1m0s\u001b[0m 2s/step - accuracy: 0.8639 - loss: 0.4479\n",
      "Epoch 7: val_accuracy improved from 0.89834 to 0.90071, saving model to Flores_Version_2_C.keras\n",
      "\u001b[1m204/204\u001b[0m \u001b[32m━━━━━━━━━━━━━━━━━━━━\u001b[0m\u001b[37m\u001b[0m \u001b[1m363s\u001b[0m 2s/step - accuracy: 0.8639 - loss: 0.4480 - val_accuracy: 0.9007 - val_loss: 0.3463 - learning_rate: 1.0000e-05\n",
      "Epoch 8/60\n",
      "\u001b[1m204/204\u001b[0m \u001b[32m━━━━━━━━━━━━━━━━━━━━\u001b[0m\u001b[37m\u001b[0m \u001b[1m0s\u001b[0m 2s/step - accuracy: 0.8631 - loss: 0.4649\n",
      "Epoch 8: val_accuracy improved from 0.90071 to 0.90488, saving model to Flores_Version_2_C.keras\n",
      "\u001b[1m204/204\u001b[0m \u001b[32m━━━━━━━━━━━━━━━━━━━━\u001b[0m\u001b[37m\u001b[0m \u001b[1m388s\u001b[0m 2s/step - accuracy: 0.8631 - loss: 0.4649 - val_accuracy: 0.9049 - val_loss: 0.3361 - learning_rate: 1.0000e-05\n",
      "Epoch 9/60\n",
      "\u001b[1m204/204\u001b[0m \u001b[32m━━━━━━━━━━━━━━━━━━━━\u001b[0m\u001b[37m\u001b[0m \u001b[1m0s\u001b[0m 2s/step - accuracy: 0.8750 - loss: 0.3831\n",
      "Epoch 9: val_accuracy improved from 0.90488 to 0.90785, saving model to Flores_Version_2_C.keras\n",
      "\u001b[1m204/204\u001b[0m \u001b[32m━━━━━━━━━━━━━━━━━━━━\u001b[0m\u001b[37m\u001b[0m \u001b[1m378s\u001b[0m 2s/step - accuracy: 0.8750 - loss: 0.3832 - val_accuracy: 0.9078 - val_loss: 0.3319 - learning_rate: 1.0000e-05\n",
      "Epoch 10/60\n",
      "\u001b[1m204/204\u001b[0m \u001b[32m━━━━━━━━━━━━━━━━━━━━\u001b[0m\u001b[37m\u001b[0m \u001b[1m0s\u001b[0m 2s/step - accuracy: 0.8877 - loss: 0.3775\n",
      "Epoch 10: val_accuracy improved from 0.90785 to 0.91498, saving model to Flores_Version_2_C.keras\n",
      "\u001b[1m204/204\u001b[0m \u001b[32m━━━━━━━━━━━━━━━━━━━━\u001b[0m\u001b[37m\u001b[0m \u001b[1m370s\u001b[0m 2s/step - accuracy: 0.8877 - loss: 0.3775 - val_accuracy: 0.9150 - val_loss: 0.3313 - learning_rate: 1.0000e-05\n",
      "Epoch 11/60\n",
      "\u001b[1m204/204\u001b[0m \u001b[32m━━━━━━━━━━━━━━━━━━━━\u001b[0m\u001b[37m\u001b[0m \u001b[1m0s\u001b[0m 2s/step - accuracy: 0.8865 - loss: 0.3595\n",
      "Epoch 11: val_accuracy did not improve from 0.91498\n",
      "\u001b[1m204/204\u001b[0m \u001b[32m━━━━━━━━━━━━━━━━━━━━\u001b[0m\u001b[37m\u001b[0m \u001b[1m370s\u001b[0m 2s/step - accuracy: 0.8865 - loss: 0.3596 - val_accuracy: 0.9144 - val_loss: 0.3258 - learning_rate: 1.0000e-05\n",
      "Epoch 12/60\n",
      "\u001b[1m204/204\u001b[0m \u001b[32m━━━━━━━━━━━━━━━━━━━━\u001b[0m\u001b[37m\u001b[0m \u001b[1m0s\u001b[0m 2s/step - accuracy: 0.8847 - loss: 0.3735\n",
      "Epoch 12: val_accuracy did not improve from 0.91498\n",
      "\u001b[1m204/204\u001b[0m \u001b[32m━━━━━━━━━━━━━━━━━━━━\u001b[0m\u001b[37m\u001b[0m \u001b[1m378s\u001b[0m 2s/step - accuracy: 0.8847 - loss: 0.3735 - val_accuracy: 0.9138 - val_loss: 0.3243 - learning_rate: 1.0000e-05\n",
      "Epoch 13/60\n",
      "\u001b[1m204/204\u001b[0m \u001b[32m━━━━━━━━━━━━━━━━━━━━\u001b[0m\u001b[37m\u001b[0m \u001b[1m0s\u001b[0m 2s/step - accuracy: 0.8967 - loss: 0.3396\n",
      "Epoch 13: val_accuracy did not improve from 0.91498\n",
      "\u001b[1m204/204\u001b[0m \u001b[32m━━━━━━━━━━━━━━━━━━━━\u001b[0m\u001b[37m\u001b[0m \u001b[1m374s\u001b[0m 2s/step - accuracy: 0.8967 - loss: 0.3395 - val_accuracy: 0.9120 - val_loss: 0.3204 - learning_rate: 1.0000e-05\n",
      "Epoch 14/60\n",
      "\u001b[1m204/204\u001b[0m \u001b[32m━━━━━━━━━━━━━━━━━━━━\u001b[0m\u001b[37m\u001b[0m \u001b[1m0s\u001b[0m 2s/step - accuracy: 0.9027 - loss: 0.3197\n",
      "Epoch 14: val_accuracy did not improve from 0.91498\n",
      "\u001b[1m204/204\u001b[0m \u001b[32m━━━━━━━━━━━━━━━━━━━━\u001b[0m\u001b[37m\u001b[0m \u001b[1m393s\u001b[0m 2s/step - accuracy: 0.9027 - loss: 0.3197 - val_accuracy: 0.9150 - val_loss: 0.3144 - learning_rate: 1.0000e-05\n",
      "Epoch 15/60\n",
      "\u001b[1m204/204\u001b[0m \u001b[32m━━━━━━━━━━━━━━━━━━━━\u001b[0m\u001b[37m\u001b[0m \u001b[1m0s\u001b[0m 2s/step - accuracy: 0.8954 - loss: 0.3211\n",
      "Epoch 15: val_accuracy did not improve from 0.91498\n",
      "\u001b[1m204/204\u001b[0m \u001b[32m━━━━━━━━━━━━━━━━━━━━\u001b[0m\u001b[37m\u001b[0m \u001b[1m368s\u001b[0m 2s/step - accuracy: 0.8955 - loss: 0.3211 - val_accuracy: 0.9144 - val_loss: 0.3078 - learning_rate: 1.0000e-05\n",
      "Epoch 16/60\n",
      "\u001b[1m204/204\u001b[0m \u001b[32m━━━━━━━━━━━━━━━━━━━━\u001b[0m\u001b[37m\u001b[0m \u001b[1m0s\u001b[0m 2s/step - accuracy: 0.9159 - loss: 0.2767\n",
      "Epoch 16: val_accuracy improved from 0.91498 to 0.91795, saving model to Flores_Version_2_C.keras\n",
      "\u001b[1m204/204\u001b[0m \u001b[32m━━━━━━━━━━━━━━━━━━━━\u001b[0m\u001b[37m\u001b[0m \u001b[1m374s\u001b[0m 2s/step - accuracy: 0.9159 - loss: 0.2768 - val_accuracy: 0.9180 - val_loss: 0.3040 - learning_rate: 1.0000e-05\n",
      "Epoch 17/60\n",
      "\u001b[1m204/204\u001b[0m \u001b[32m━━━━━━━━━━━━━━━━━━━━\u001b[0m\u001b[37m\u001b[0m \u001b[1m0s\u001b[0m 2s/step - accuracy: 0.9084 - loss: 0.3063\n",
      "Epoch 17: val_accuracy improved from 0.91795 to 0.91974, saving model to Flores_Version_2_C.keras\n",
      "\u001b[1m204/204\u001b[0m \u001b[32m━━━━━━━━━━━━━━━━━━━━\u001b[0m\u001b[37m\u001b[0m \u001b[1m405s\u001b[0m 2s/step - accuracy: 0.9084 - loss: 0.3063 - val_accuracy: 0.9197 - val_loss: 0.2982 - learning_rate: 1.0000e-05\n",
      "Epoch 18/60\n",
      "\u001b[1m204/204\u001b[0m \u001b[32m━━━━━━━━━━━━━━━━━━━━\u001b[0m\u001b[37m\u001b[0m \u001b[1m0s\u001b[0m 2s/step - accuracy: 0.9179 - loss: 0.2740\n",
      "Epoch 18: val_accuracy did not improve from 0.91974\n",
      "\u001b[1m204/204\u001b[0m \u001b[32m━━━━━━━━━━━━━━━━━━━━\u001b[0m\u001b[37m\u001b[0m \u001b[1m365s\u001b[0m 2s/step - accuracy: 0.9179 - loss: 0.2741 - val_accuracy: 0.9191 - val_loss: 0.2956 - learning_rate: 1.0000e-05\n",
      "Epoch 19/60\n",
      "\u001b[1m204/204\u001b[0m \u001b[32m━━━━━━━━━━━━━━━━━━━━\u001b[0m\u001b[37m\u001b[0m \u001b[1m0s\u001b[0m 2s/step - accuracy: 0.9137 - loss: 0.2848\n",
      "Epoch 19: val_accuracy did not improve from 0.91974\n",
      "\u001b[1m204/204\u001b[0m \u001b[32m━━━━━━━━━━━━━━━━━━━━\u001b[0m\u001b[37m\u001b[0m \u001b[1m360s\u001b[0m 2s/step - accuracy: 0.9137 - loss: 0.2848 - val_accuracy: 0.9191 - val_loss: 0.2913 - learning_rate: 1.0000e-05\n",
      "Epoch 20/60\n",
      "\u001b[1m204/204\u001b[0m \u001b[32m━━━━━━━━━━━━━━━━━━━━\u001b[0m\u001b[37m\u001b[0m \u001b[1m0s\u001b[0m 2s/step - accuracy: 0.9135 - loss: 0.2757\n",
      "Epoch 20: val_accuracy improved from 0.91974 to 0.92033, saving model to Flores_Version_2_C.keras\n",
      "\u001b[1m204/204\u001b[0m \u001b[32m━━━━━━━━━━━━━━━━━━━━\u001b[0m\u001b[37m\u001b[0m \u001b[1m373s\u001b[0m 2s/step - accuracy: 0.9135 - loss: 0.2757 - val_accuracy: 0.9203 - val_loss: 0.2882 - learning_rate: 1.0000e-05\n",
      "Epoch 21/60\n",
      "\u001b[1m204/204\u001b[0m \u001b[32m━━━━━━━━━━━━━━━━━━━━\u001b[0m\u001b[37m\u001b[0m \u001b[1m0s\u001b[0m 2s/step - accuracy: 0.9179 - loss: 0.2569\n",
      "Epoch 21: val_accuracy improved from 0.92033 to 0.92093, saving model to Flores_Version_2_C.keras\n",
      "\u001b[1m204/204\u001b[0m \u001b[32m━━━━━━━━━━━━━━━━━━━━\u001b[0m\u001b[37m\u001b[0m \u001b[1m366s\u001b[0m 2s/step - accuracy: 0.9179 - loss: 0.2569 - val_accuracy: 0.9209 - val_loss: 0.2865 - learning_rate: 1.0000e-05\n",
      "Epoch 22/60\n",
      "\u001b[1m204/204\u001b[0m \u001b[32m━━━━━━━━━━━━━━━━━━━━\u001b[0m\u001b[37m\u001b[0m \u001b[1m0s\u001b[0m 2s/step - accuracy: 0.9329 - loss: 0.2302\n",
      "Epoch 22: val_accuracy improved from 0.92093 to 0.92331, saving model to Flores_Version_2_C.keras\n",
      "\u001b[1m204/204\u001b[0m \u001b[32m━━━━━━━━━━━━━━━━━━━━\u001b[0m\u001b[37m\u001b[0m \u001b[1m364s\u001b[0m 2s/step - accuracy: 0.9328 - loss: 0.2302 - val_accuracy: 0.9233 - val_loss: 0.2776 - learning_rate: 1.0000e-05\n",
      "Epoch 23/60\n",
      "\u001b[1m204/204\u001b[0m \u001b[32m━━━━━━━━━━━━━━━━━━━━\u001b[0m\u001b[37m\u001b[0m \u001b[1m0s\u001b[0m 2s/step - accuracy: 0.9257 - loss: 0.2421\n",
      "Epoch 23: val_accuracy improved from 0.92331 to 0.92449, saving model to Flores_Version_2_C.keras\n",
      "\u001b[1m204/204\u001b[0m \u001b[32m━━━━━━━━━━━━━━━━━━━━\u001b[0m\u001b[37m\u001b[0m \u001b[1m384s\u001b[0m 2s/step - accuracy: 0.9257 - loss: 0.2421 - val_accuracy: 0.9245 - val_loss: 0.2769 - learning_rate: 1.0000e-05\n",
      "Epoch 24/60\n",
      "\u001b[1m204/204\u001b[0m \u001b[32m━━━━━━━━━━━━━━━━━━━━\u001b[0m\u001b[37m\u001b[0m \u001b[1m0s\u001b[0m 2s/step - accuracy: 0.9241 - loss: 0.2597\n",
      "Epoch 24: val_accuracy did not improve from 0.92449\n",
      "\u001b[1m204/204\u001b[0m \u001b[32m━━━━━━━━━━━━━━━━━━━━\u001b[0m\u001b[37m\u001b[0m \u001b[1m376s\u001b[0m 2s/step - accuracy: 0.9241 - loss: 0.2596 - val_accuracy: 0.9245 - val_loss: 0.2731 - learning_rate: 1.0000e-05\n",
      "Epoch 25/60\n",
      "\u001b[1m204/204\u001b[0m \u001b[32m━━━━━━━━━━━━━━━━━━━━\u001b[0m\u001b[37m\u001b[0m \u001b[1m0s\u001b[0m 2s/step - accuracy: 0.9234 - loss: 0.2272\n",
      "Epoch 25: val_accuracy did not improve from 0.92449\n",
      "\u001b[1m204/204\u001b[0m \u001b[32m━━━━━━━━━━━━━━━━━━━━\u001b[0m\u001b[37m\u001b[0m \u001b[1m381s\u001b[0m 2s/step - accuracy: 0.9234 - loss: 0.2272 - val_accuracy: 0.9245 - val_loss: 0.2675 - learning_rate: 1.0000e-05\n",
      "Epoch 26/60\n",
      "\u001b[1m204/204\u001b[0m \u001b[32m━━━━━━━━━━━━━━━━━━━━\u001b[0m\u001b[37m\u001b[0m \u001b[1m0s\u001b[0m 2s/step - accuracy: 0.9335 - loss: 0.2193\n",
      "Epoch 26: val_accuracy did not improve from 0.92449\n",
      "\u001b[1m204/204\u001b[0m \u001b[32m━━━━━━━━━━━━━━━━━━━━\u001b[0m\u001b[37m\u001b[0m \u001b[1m364s\u001b[0m 2s/step - accuracy: 0.9334 - loss: 0.2193 - val_accuracy: 0.9239 - val_loss: 0.2689 - learning_rate: 1.0000e-05\n",
      "Epoch 27/60\n",
      "\u001b[1m204/204\u001b[0m \u001b[32m━━━━━━━━━━━━━━━━━━━━\u001b[0m\u001b[37m\u001b[0m \u001b[1m0s\u001b[0m 2s/step - accuracy: 0.9334 - loss: 0.2202\n",
      "Epoch 27: val_accuracy did not improve from 0.92449\n",
      "\u001b[1m204/204\u001b[0m \u001b[32m━━━━━━━━━━━━━━━━━━━━\u001b[0m\u001b[37m\u001b[0m \u001b[1m388s\u001b[0m 2s/step - accuracy: 0.9334 - loss: 0.2202 - val_accuracy: 0.9245 - val_loss: 0.2697 - learning_rate: 1.0000e-05\n",
      "Epoch 28/60\n",
      "\u001b[1m204/204\u001b[0m \u001b[32m━━━━━━━━━━━━━━━━━━━━\u001b[0m\u001b[37m\u001b[0m \u001b[1m0s\u001b[0m 2s/step - accuracy: 0.9325 - loss: 0.2083\n",
      "Epoch 28: val_accuracy improved from 0.92449 to 0.92866, saving model to Flores_Version_2_C.keras\n",
      "\u001b[1m204/204\u001b[0m \u001b[32m━━━━━━━━━━━━━━━━━━━━\u001b[0m\u001b[37m\u001b[0m \u001b[1m359s\u001b[0m 2s/step - accuracy: 0.9325 - loss: 0.2083 - val_accuracy: 0.9287 - val_loss: 0.2662 - learning_rate: 1.0000e-05\n",
      "Epoch 29/60\n",
      "\u001b[1m204/204\u001b[0m \u001b[32m━━━━━━━━━━━━━━━━━━━━\u001b[0m\u001b[37m\u001b[0m \u001b[1m0s\u001b[0m 2s/step - accuracy: 0.9317 - loss: 0.2059\n",
      "Epoch 29: val_accuracy did not improve from 0.92866\n",
      "\u001b[1m204/204\u001b[0m \u001b[32m━━━━━━━━━━━━━━━━━━━━\u001b[0m\u001b[37m\u001b[0m \u001b[1m379s\u001b[0m 2s/step - accuracy: 0.9317 - loss: 0.2059 - val_accuracy: 0.9281 - val_loss: 0.2617 - learning_rate: 1.0000e-05\n",
      "Epoch 30/60\n",
      "\u001b[1m204/204\u001b[0m \u001b[32m━━━━━━━━━━━━━━━━━━━━\u001b[0m\u001b[37m\u001b[0m \u001b[1m0s\u001b[0m 2s/step - accuracy: 0.9370 - loss: 0.2100\n",
      "Epoch 30: val_accuracy improved from 0.92866 to 0.92925, saving model to Flores_Version_2_C.keras\n",
      "\u001b[1m204/204\u001b[0m \u001b[32m━━━━━━━━━━━━━━━━━━━━\u001b[0m\u001b[37m\u001b[0m \u001b[1m383s\u001b[0m 2s/step - accuracy: 0.9370 - loss: 0.2099 - val_accuracy: 0.9293 - val_loss: 0.2579 - learning_rate: 1.0000e-05\n",
      "Epoch 31/60\n",
      "\u001b[1m204/204\u001b[0m \u001b[32m━━━━━━━━━━━━━━━━━━━━\u001b[0m\u001b[37m\u001b[0m \u001b[1m0s\u001b[0m 5s/step - accuracy: 0.9368 - loss: 0.1993\n",
      "Epoch 31: val_accuracy did not improve from 0.92925\n",
      "\u001b[1m204/204\u001b[0m \u001b[32m━━━━━━━━━━━━━━━━━━━━\u001b[0m\u001b[37m\u001b[0m \u001b[1m1042s\u001b[0m 5s/step - accuracy: 0.9369 - loss: 0.1993 - val_accuracy: 0.9293 - val_loss: 0.2562 - learning_rate: 1.0000e-05\n",
      "Epoch 32/60\n",
      "\u001b[1m204/204\u001b[0m \u001b[32m━━━━━━━━━━━━━━━━━━━━\u001b[0m\u001b[37m\u001b[0m \u001b[1m0s\u001b[0m 2s/step - accuracy: 0.9380 - loss: 0.1905\n",
      "Epoch 32: val_accuracy did not improve from 0.92925\n",
      "\u001b[1m204/204\u001b[0m \u001b[32m━━━━━━━━━━━━━━━━━━━━\u001b[0m\u001b[37m\u001b[0m \u001b[1m618s\u001b[0m 3s/step - accuracy: 0.9380 - loss: 0.1906 - val_accuracy: 0.9293 - val_loss: 0.2566 - learning_rate: 1.0000e-05\n",
      "Epoch 33/60\n",
      "\u001b[1m204/204\u001b[0m \u001b[32m━━━━━━━━━━━━━━━━━━━━\u001b[0m\u001b[37m\u001b[0m \u001b[1m0s\u001b[0m 2s/step - accuracy: 0.9415 - loss: 0.1947\n",
      "Epoch 33: val_accuracy improved from 0.92925 to 0.93044, saving model to Flores_Version_2_C.keras\n",
      "\u001b[1m204/204\u001b[0m \u001b[32m━━━━━━━━━━━━━━━━━━━━\u001b[0m\u001b[37m\u001b[0m \u001b[1m370s\u001b[0m 2s/step - accuracy: 0.9415 - loss: 0.1947 - val_accuracy: 0.9304 - val_loss: 0.2555 - learning_rate: 1.0000e-05\n",
      "Epoch 34/60\n",
      "\u001b[1m204/204\u001b[0m \u001b[32m━━━━━━━━━━━━━━━━━━━━\u001b[0m\u001b[37m\u001b[0m \u001b[1m0s\u001b[0m 2s/step - accuracy: 0.9450 - loss: 0.1829\n",
      "Epoch 34: val_accuracy improved from 0.93044 to 0.93163, saving model to Flores_Version_2_C.keras\n",
      "\u001b[1m204/204\u001b[0m \u001b[32m━━━━━━━━━━━━━━━━━━━━\u001b[0m\u001b[37m\u001b[0m \u001b[1m417s\u001b[0m 2s/step - accuracy: 0.9450 - loss: 0.1829 - val_accuracy: 0.9316 - val_loss: 0.2558 - learning_rate: 1.0000e-05\n",
      "Epoch 35/60\n",
      "\u001b[1m204/204\u001b[0m \u001b[32m━━━━━━━━━━━━━━━━━━━━\u001b[0m\u001b[37m\u001b[0m \u001b[1m0s\u001b[0m 2s/step - accuracy: 0.9396 - loss: 0.1954\n",
      "Epoch 35: val_accuracy improved from 0.93163 to 0.93401, saving model to Flores_Version_2_C.keras\n",
      "\u001b[1m204/204\u001b[0m \u001b[32m━━━━━━━━━━━━━━━━━━━━\u001b[0m\u001b[37m\u001b[0m \u001b[1m429s\u001b[0m 2s/step - accuracy: 0.9396 - loss: 0.1954 - val_accuracy: 0.9340 - val_loss: 0.2499 - learning_rate: 1.0000e-05\n",
      "Epoch 36/60\n",
      "\u001b[1m204/204\u001b[0m \u001b[32m━━━━━━━━━━━━━━━━━━━━\u001b[0m\u001b[37m\u001b[0m \u001b[1m0s\u001b[0m 2s/step - accuracy: 0.9507 - loss: 0.1601\n",
      "Epoch 36: val_accuracy improved from 0.93401 to 0.93579, saving model to Flores_Version_2_C.keras\n",
      "\u001b[1m204/204\u001b[0m \u001b[32m━━━━━━━━━━━━━━━━━━━━\u001b[0m\u001b[37m\u001b[0m \u001b[1m380s\u001b[0m 2s/step - accuracy: 0.9507 - loss: 0.1602 - val_accuracy: 0.9358 - val_loss: 0.2533 - learning_rate: 1.0000e-05\n",
      "Epoch 37/60\n",
      "\u001b[1m204/204\u001b[0m \u001b[32m━━━━━━━━━━━━━━━━━━━━\u001b[0m\u001b[37m\u001b[0m \u001b[1m0s\u001b[0m 2s/step - accuracy: 0.9510 - loss: 0.1651\n",
      "Epoch 37: val_accuracy did not improve from 0.93579\n",
      "\u001b[1m204/204\u001b[0m \u001b[32m━━━━━━━━━━━━━━━━━━━━\u001b[0m\u001b[37m\u001b[0m \u001b[1m395s\u001b[0m 2s/step - accuracy: 0.9510 - loss: 0.1651 - val_accuracy: 0.9346 - val_loss: 0.2489 - learning_rate: 1.0000e-05\n",
      "Epoch 38/60\n",
      "\u001b[1m204/204\u001b[0m \u001b[32m━━━━━━━━━━━━━━━━━━━━\u001b[0m\u001b[37m\u001b[0m \u001b[1m0s\u001b[0m 2s/step - accuracy: 0.9430 - loss: 0.1680\n",
      "Epoch 38: val_accuracy did not improve from 0.93579\n",
      "\u001b[1m204/204\u001b[0m \u001b[32m━━━━━━━━━━━━━━━━━━━━\u001b[0m\u001b[37m\u001b[0m \u001b[1m362s\u001b[0m 2s/step - accuracy: 0.9431 - loss: 0.1680 - val_accuracy: 0.9346 - val_loss: 0.2479 - learning_rate: 1.0000e-05\n",
      "Epoch 39/60\n",
      "\u001b[1m204/204\u001b[0m \u001b[32m━━━━━━━━━━━━━━━━━━━━\u001b[0m\u001b[37m\u001b[0m \u001b[1m0s\u001b[0m 2s/step - accuracy: 0.9525 - loss: 0.1581\n",
      "Epoch 39: val_accuracy did not improve from 0.93579\n",
      "\u001b[1m204/204\u001b[0m \u001b[32m━━━━━━━━━━━━━━━━━━━━\u001b[0m\u001b[37m\u001b[0m \u001b[1m382s\u001b[0m 2s/step - accuracy: 0.9525 - loss: 0.1582 - val_accuracy: 0.9346 - val_loss: 0.2473 - learning_rate: 1.0000e-05\n",
      "Epoch 40/60\n",
      "\u001b[1m204/204\u001b[0m \u001b[32m━━━━━━━━━━━━━━━━━━━━\u001b[0m\u001b[37m\u001b[0m \u001b[1m0s\u001b[0m 2s/step - accuracy: 0.9525 - loss: 0.1497\n",
      "Epoch 40: val_accuracy did not improve from 0.93579\n",
      "\u001b[1m204/204\u001b[0m \u001b[32m━━━━━━━━━━━━━━━━━━━━\u001b[0m\u001b[37m\u001b[0m \u001b[1m375s\u001b[0m 2s/step - accuracy: 0.9524 - loss: 0.1498 - val_accuracy: 0.9352 - val_loss: 0.2467 - learning_rate: 1.0000e-05\n",
      "Epoch 41/60\n",
      "\u001b[1m204/204\u001b[0m \u001b[32m━━━━━━━━━━━━━━━━━━━━\u001b[0m\u001b[37m\u001b[0m \u001b[1m0s\u001b[0m 2s/step - accuracy: 0.9499 - loss: 0.1615\n",
      "Epoch 41: val_accuracy improved from 0.93579 to 0.93817, saving model to Flores_Version_2_C.keras\n",
      "\u001b[1m204/204\u001b[0m \u001b[32m━━━━━━━━━━━━━━━━━━━━\u001b[0m\u001b[37m\u001b[0m \u001b[1m360s\u001b[0m 2s/step - accuracy: 0.9500 - loss: 0.1614 - val_accuracy: 0.9382 - val_loss: 0.2448 - learning_rate: 1.0000e-05\n",
      "Epoch 42/60\n",
      "\u001b[1m204/204\u001b[0m \u001b[32m━━━━━━━━━━━━━━━━━━━━\u001b[0m\u001b[37m\u001b[0m \u001b[1m0s\u001b[0m 2s/step - accuracy: 0.9492 - loss: 0.1585\n",
      "Epoch 42: val_accuracy did not improve from 0.93817\n",
      "\u001b[1m204/204\u001b[0m \u001b[32m━━━━━━━━━━━━━━━━━━━━\u001b[0m\u001b[37m\u001b[0m \u001b[1m360s\u001b[0m 2s/step - accuracy: 0.9492 - loss: 0.1585 - val_accuracy: 0.9364 - val_loss: 0.2371 - learning_rate: 1.0000e-05\n",
      "Epoch 43/60\n",
      "\u001b[1m204/204\u001b[0m \u001b[32m━━━━━━━━━━━━━━━━━━━━\u001b[0m\u001b[37m\u001b[0m \u001b[1m0s\u001b[0m 2s/step - accuracy: 0.9570 - loss: 0.1475\n",
      "Epoch 43: val_accuracy improved from 0.93817 to 0.93876, saving model to Flores_Version_2_C.keras\n",
      "\u001b[1m204/204\u001b[0m \u001b[32m━━━━━━━━━━━━━━━━━━━━\u001b[0m\u001b[37m\u001b[0m \u001b[1m369s\u001b[0m 2s/step - accuracy: 0.9569 - loss: 0.1475 - val_accuracy: 0.9388 - val_loss: 0.2362 - learning_rate: 1.0000e-05\n",
      "Epoch 44/60\n",
      "\u001b[1m204/204\u001b[0m \u001b[32m━━━━━━━━━━━━━━━━━━━━\u001b[0m\u001b[37m\u001b[0m \u001b[1m0s\u001b[0m 2s/step - accuracy: 0.9606 - loss: 0.1293\n",
      "Epoch 44: val_accuracy did not improve from 0.93876\n",
      "\u001b[1m204/204\u001b[0m \u001b[32m━━━━━━━━━━━━━━━━━━━━\u001b[0m\u001b[37m\u001b[0m \u001b[1m372s\u001b[0m 2s/step - accuracy: 0.9606 - loss: 0.1294 - val_accuracy: 0.9388 - val_loss: 0.2393 - learning_rate: 1.0000e-05\n",
      "Epoch 45/60\n",
      "\u001b[1m204/204\u001b[0m \u001b[32m━━━━━━━━━━━━━━━━━━━━\u001b[0m\u001b[37m\u001b[0m \u001b[1m0s\u001b[0m 2s/step - accuracy: 0.9583 - loss: 0.1382\n",
      "Epoch 45: val_accuracy improved from 0.93876 to 0.93936, saving model to Flores_Version_2_C.keras\n",
      "\u001b[1m204/204\u001b[0m \u001b[32m━━━━━━━━━━━━━━━━━━━━\u001b[0m\u001b[37m\u001b[0m \u001b[1m361s\u001b[0m 2s/step - accuracy: 0.9583 - loss: 0.1382 - val_accuracy: 0.9394 - val_loss: 0.2333 - learning_rate: 1.0000e-05\n",
      "Epoch 46/60\n",
      "\u001b[1m204/204\u001b[0m \u001b[32m━━━━━━━━━━━━━━━━━━━━\u001b[0m\u001b[37m\u001b[0m \u001b[1m0s\u001b[0m 2s/step - accuracy: 0.9525 - loss: 0.1624\n",
      "Epoch 46: val_accuracy did not improve from 0.93936\n",
      "\u001b[1m204/204\u001b[0m \u001b[32m━━━━━━━━━━━━━━━━━━━━\u001b[0m\u001b[37m\u001b[0m \u001b[1m362s\u001b[0m 2s/step - accuracy: 0.9525 - loss: 0.1624 - val_accuracy: 0.9394 - val_loss: 0.2329 - learning_rate: 1.0000e-05\n",
      "Epoch 47/60\n",
      "\u001b[1m204/204\u001b[0m \u001b[32m━━━━━━━━━━━━━━━━━━━━\u001b[0m\u001b[37m\u001b[0m \u001b[1m0s\u001b[0m 2s/step - accuracy: 0.9566 - loss: 0.1395\n",
      "Epoch 47: val_accuracy did not improve from 0.93936\n",
      "\u001b[1m204/204\u001b[0m \u001b[32m━━━━━━━━━━━━━━━━━━━━\u001b[0m\u001b[37m\u001b[0m \u001b[1m359s\u001b[0m 2s/step - accuracy: 0.9566 - loss: 0.1395 - val_accuracy: 0.9376 - val_loss: 0.2327 - learning_rate: 1.0000e-05\n",
      "Epoch 48/60\n",
      "\u001b[1m204/204\u001b[0m \u001b[32m━━━━━━━━━━━━━━━━━━━━\u001b[0m\u001b[37m\u001b[0m \u001b[1m0s\u001b[0m 2s/step - accuracy: 0.9500 - loss: 0.1469\n",
      "Epoch 48: val_accuracy did not improve from 0.93936\n",
      "\u001b[1m204/204\u001b[0m \u001b[32m━━━━━━━━━━━━━━━━━━━━\u001b[0m\u001b[37m\u001b[0m \u001b[1m362s\u001b[0m 2s/step - accuracy: 0.9500 - loss: 0.1469 - val_accuracy: 0.9358 - val_loss: 0.2313 - learning_rate: 1.0000e-05\n",
      "Epoch 49/60\n",
      "\u001b[1m204/204\u001b[0m \u001b[32m━━━━━━━━━━━━━━━━━━━━\u001b[0m\u001b[37m\u001b[0m \u001b[1m0s\u001b[0m 2s/step - accuracy: 0.9550 - loss: 0.1327\n",
      "Epoch 49: val_accuracy did not improve from 0.93936\n",
      "\u001b[1m204/204\u001b[0m \u001b[32m━━━━━━━━━━━━━━━━━━━━\u001b[0m\u001b[37m\u001b[0m \u001b[1m362s\u001b[0m 2s/step - accuracy: 0.9550 - loss: 0.1327 - val_accuracy: 0.9358 - val_loss: 0.2299 - learning_rate: 1.0000e-05\n",
      "Epoch 50/60\n",
      "\u001b[1m204/204\u001b[0m \u001b[32m━━━━━━━━━━━━━━━━━━━━\u001b[0m\u001b[37m\u001b[0m \u001b[1m0s\u001b[0m 2s/step - accuracy: 0.9549 - loss: 0.1479\n",
      "Epoch 50: val_accuracy did not improve from 0.93936\n",
      "\u001b[1m204/204\u001b[0m \u001b[32m━━━━━━━━━━━━━━━━━━━━\u001b[0m\u001b[37m\u001b[0m \u001b[1m406s\u001b[0m 2s/step - accuracy: 0.9549 - loss: 0.1478 - val_accuracy: 0.9358 - val_loss: 0.2302 - learning_rate: 1.0000e-05\n",
      "Epoch 51/60\n",
      "\u001b[1m204/204\u001b[0m \u001b[32m━━━━━━━━━━━━━━━━━━━━\u001b[0m\u001b[37m\u001b[0m \u001b[1m0s\u001b[0m 2s/step - accuracy: 0.9555 - loss: 0.1436\n",
      "Epoch 51: val_accuracy did not improve from 0.93936\n",
      "\u001b[1m204/204\u001b[0m \u001b[32m━━━━━━━━━━━━━━━━━━━━\u001b[0m\u001b[37m\u001b[0m \u001b[1m374s\u001b[0m 2s/step - accuracy: 0.9556 - loss: 0.1436 - val_accuracy: 0.9394 - val_loss: 0.2274 - learning_rate: 1.0000e-05\n",
      "Epoch 52/60\n",
      "\u001b[1m204/204\u001b[0m \u001b[32m━━━━━━━━━━━━━━━━━━━━\u001b[0m\u001b[37m\u001b[0m \u001b[1m0s\u001b[0m 2s/step - accuracy: 0.9616 - loss: 0.1147\n",
      "Epoch 52: val_accuracy improved from 0.93936 to 0.93995, saving model to Flores_Version_2_C.keras\n",
      "\u001b[1m204/204\u001b[0m \u001b[32m━━━━━━━━━━━━━━━━━━━━\u001b[0m\u001b[37m\u001b[0m \u001b[1m377s\u001b[0m 2s/step - accuracy: 0.9616 - loss: 0.1147 - val_accuracy: 0.9400 - val_loss: 0.2271 - learning_rate: 1.0000e-05\n",
      "Epoch 53/60\n",
      "\u001b[1m204/204\u001b[0m \u001b[32m━━━━━━━━━━━━━━━━━━━━\u001b[0m\u001b[37m\u001b[0m \u001b[1m0s\u001b[0m 2s/step - accuracy: 0.9673 - loss: 0.1090\n",
      "Epoch 53: val_accuracy did not improve from 0.93995\n",
      "\u001b[1m204/204\u001b[0m \u001b[32m━━━━━━━━━━━━━━━━━━━━\u001b[0m\u001b[37m\u001b[0m \u001b[1m385s\u001b[0m 2s/step - accuracy: 0.9673 - loss: 0.1091 - val_accuracy: 0.9388 - val_loss: 0.2268 - learning_rate: 1.0000e-05\n",
      "Epoch 54/60\n",
      "\u001b[1m204/204\u001b[0m \u001b[32m━━━━━━━━━━━━━━━━━━━━\u001b[0m\u001b[37m\u001b[0m \u001b[1m0s\u001b[0m 2s/step - accuracy: 0.9642 - loss: 0.1241\n",
      "Epoch 54: val_accuracy did not improve from 0.93995\n",
      "\u001b[1m204/204\u001b[0m \u001b[32m━━━━━━━━━━━━━━━━━━━━\u001b[0m\u001b[37m\u001b[0m \u001b[1m387s\u001b[0m 2s/step - accuracy: 0.9642 - loss: 0.1241 - val_accuracy: 0.9394 - val_loss: 0.2317 - learning_rate: 1.0000e-05\n",
      "Epoch 55/60\n",
      "\u001b[1m204/204\u001b[0m \u001b[32m━━━━━━━━━━━━━━━━━━━━\u001b[0m\u001b[37m\u001b[0m \u001b[1m0s\u001b[0m 2s/step - accuracy: 0.9613 - loss: 0.1241\n",
      "Epoch 55: val_accuracy did not improve from 0.93995\n",
      "\u001b[1m204/204\u001b[0m \u001b[32m━━━━━━━━━━━━━━━━━━━━\u001b[0m\u001b[37m\u001b[0m \u001b[1m390s\u001b[0m 2s/step - accuracy: 0.9613 - loss: 0.1241 - val_accuracy: 0.9382 - val_loss: 0.2288 - learning_rate: 1.0000e-05\n",
      "Epoch 56/60\n",
      "\u001b[1m204/204\u001b[0m \u001b[32m━━━━━━━━━━━━━━━━━━━━\u001b[0m\u001b[37m\u001b[0m \u001b[1m0s\u001b[0m 2s/step - accuracy: 0.9633 - loss: 0.1186\n",
      "Epoch 56: val_accuracy did not improve from 0.93995\n",
      "\u001b[1m204/204\u001b[0m \u001b[32m━━━━━━━━━━━━━━━━━━━━\u001b[0m\u001b[37m\u001b[0m \u001b[1m390s\u001b[0m 2s/step - accuracy: 0.9633 - loss: 0.1186 - val_accuracy: 0.9382 - val_loss: 0.2278 - learning_rate: 1.0000e-05\n",
      "Epoch 57/60\n",
      "\u001b[1m204/204\u001b[0m \u001b[32m━━━━━━━━━━━━━━━━━━━━\u001b[0m\u001b[37m\u001b[0m \u001b[1m0s\u001b[0m 2s/step - accuracy: 0.9606 - loss: 0.1245\n",
      "Epoch 57: val_accuracy improved from 0.93995 to 0.94055, saving model to Flores_Version_2_C.keras\n",
      "\u001b[1m204/204\u001b[0m \u001b[32m━━━━━━━━━━━━━━━━━━━━\u001b[0m\u001b[37m\u001b[0m \u001b[1m391s\u001b[0m 2s/step - accuracy: 0.9606 - loss: 0.1244 - val_accuracy: 0.9405 - val_loss: 0.2259 - learning_rate: 1.0000e-05\n",
      "Epoch 58/60\n",
      "\u001b[1m204/204\u001b[0m \u001b[32m━━━━━━━━━━━━━━━━━━━━\u001b[0m\u001b[37m\u001b[0m \u001b[1m0s\u001b[0m 2s/step - accuracy: 0.9655 - loss: 0.1092\n",
      "Epoch 58: val_accuracy improved from 0.94055 to 0.94114, saving model to Flores_Version_2_C.keras\n",
      "\u001b[1m204/204\u001b[0m \u001b[32m━━━━━━━━━━━━━━━━━━━━\u001b[0m\u001b[37m\u001b[0m \u001b[1m387s\u001b[0m 2s/step - accuracy: 0.9655 - loss: 0.1092 - val_accuracy: 0.9411 - val_loss: 0.2252 - learning_rate: 1.0000e-05\n",
      "Epoch 59/60\n",
      "\u001b[1m204/204\u001b[0m \u001b[32m━━━━━━━━━━━━━━━━━━━━\u001b[0m\u001b[37m\u001b[0m \u001b[1m0s\u001b[0m 2s/step - accuracy: 0.9655 - loss: 0.1110\n",
      "Epoch 59: val_accuracy improved from 0.94114 to 0.94233, saving model to Flores_Version_2_C.keras\n",
      "\u001b[1m204/204\u001b[0m \u001b[32m━━━━━━━━━━━━━━━━━━━━\u001b[0m\u001b[37m\u001b[0m \u001b[1m390s\u001b[0m 2s/step - accuracy: 0.9655 - loss: 0.1110 - val_accuracy: 0.9423 - val_loss: 0.2236 - learning_rate: 1.0000e-05\n",
      "Epoch 60/60\n",
      "\u001b[1m204/204\u001b[0m \u001b[32m━━━━━━━━━━━━━━━━━━━━\u001b[0m\u001b[37m\u001b[0m \u001b[1m0s\u001b[0m 2s/step - accuracy: 0.9669 - loss: 0.1087\n",
      "Epoch 60: val_accuracy did not improve from 0.94233\n",
      "\u001b[1m204/204\u001b[0m \u001b[32m━━━━━━━━━━━━━━━━━━━━\u001b[0m\u001b[37m\u001b[0m \u001b[1m386s\u001b[0m 2s/step - accuracy: 0.9669 - loss: 0.1087 - val_accuracy: 0.9394 - val_loss: 0.2250 - learning_rate: 1.0000e-05\n"
     ]
    }
   ],
   "source": [
    "# Entrenamos el modelo con las capas descongeladas (25) \n",
    "history = head_model.fit(\n",
    "    train_data,\n",
    "    validation_data=val_data,\n",
    "    epochs=60,\n",
    "    callbacks=[checkpoint, reduce_lr]\n",
    ")"
   ]
  },
  {
   "cell_type": "markdown",
   "id": "d3f6bbaa-32f9-4239-aabe-05ac275ce0bf",
   "metadata": {},
   "source": [
    "#### Evolución del Accuracy por época."
   ]
  },
  {
   "cell_type": "code",
   "execution_count": 56,
   "id": "9853d174-6b47-4612-8303-07e2454253c4",
   "metadata": {},
   "outputs": [
    {
     "data": {
      "image/png": "[encoded data removed]",
      "text/plain": [
       "<Figure size 640x480 with 1 Axes>"
      ]
     },
     "metadata": {},
     "output_type": "display_data"
    }
   ],
   "source": [
    "#Evolucion del Accuracy del primer entrenamiento con descongelar las capas\n",
    "plot_accuracy(history)"
   ]
  },
  {
   "cell_type": "markdown",
   "id": "4b5226f9-2128-46b9-897d-34fad7beae1f",
   "metadata": {},
   "source": [
    "### Comprobación Mediante el Conjunto de Prueba"
   ]
  },
  {
   "cell_type": "code",
   "execution_count": 65,
   "id": "dbf5dbd8-eb6f-423a-95f5-179eff91cc20",
   "metadata": {},
   "outputs": [],
   "source": [
    "#Cargar mejor modelos\n",
    "from tensorflow.keras.models import load_model\n",
    "modelo = load_model(\"Flores_Version_2_C.keras\")"
   ]
  },
  {
   "cell_type": "markdown",
   "id": "ce3aae0d-7b0b-46df-a387-7190cdc407e9",
   "metadata": {},
   "source": [
    "#### Prediccion sobre el conjunto de Prueba"
   ]
  },
  {
   "cell_type": "code",
   "execution_count": 66,
   "id": "fa2676dd-432e-4f39-a6d9-8dc82ee17e25",
   "metadata": {},
   "outputs": [
    {
     "name": "stderr",
     "output_type": "stream",
     "text": [
      "C:\\ProgramData\\anaconda3\\Lib\\site-packages\\keras\\src\\trainers\\data_adapters\\py_dataset_adapter.py:121: UserWarning: Your `PyDataset` class should call `super().__init__(**kwargs)` in its constructor. `**kwargs` can include `workers`, `use_multiprocessing`, `max_queue_size`. Do not pass these arguments to `fit()`, as they will be ignored.\n",
      "  self._warn_if_super_not_called()\n"
     ]
    },
    {
     "name": "stdout",
     "output_type": "stream",
     "text": [
      "\u001b[1m53/53\u001b[0m \u001b[32m━━━━━━━━━━━━━━━━━━━━\u001b[0m\u001b[37m\u001b[0m \u001b[1m47s\u001b[0m 837ms/step\n"
     ]
    }
   ],
   "source": [
    "#Obtenemos la matriz de Probabilidades\n",
    "y_probs = modelo.predict(val_data, verbose=1)"
   ]
  },
  {
   "cell_type": "code",
   "execution_count": 67,
   "id": "94331e10-a966-4f53-8d79-770d181e3347",
   "metadata": {},
   "outputs": [],
   "source": [
    "# Si tienes one-hot o probabilidades:\n",
    "y_pred = np.argmax(y_probs, axis=1)  # predicción final por clase"
   ]
  },
  {
   "cell_type": "code",
   "execution_count": 68,
   "id": "fea2abe1-49dd-4e4f-ae6d-b4b1ea5582c8",
   "metadata": {},
   "outputs": [],
   "source": [
    "# Esto te da los 0s y 1s reales del test_set\n",
    "y_true = val_data.classes  "
   ]
  },
  {
   "cell_type": "code",
   "execution_count": 69,
   "id": "5a810128-8ab6-4662-9aa4-6b57055e0565",
   "metadata": {},
   "outputs": [],
   "source": [
    "#  Obtener nombres de clases (opcional, si quieres que el reporte sea legible)\n",
    "class_names = list(val_data.class_indices.keys())"
   ]
  },
  {
   "cell_type": "markdown",
   "id": "e2a8f451-ad44-4268-9fba-756b7581606e",
   "metadata": {},
   "source": [
    "#### Metricas sobre el conjunto de Prueba"
   ]
  },
  {
   "cell_type": "code",
   "execution_count": 70,
   "id": "5660a1c8-2913-4af9-ae3f-c2862e92a7b0",
   "metadata": {},
   "outputs": [
    {
     "name": "stdout",
     "output_type": "stream",
     "text": [
      "              precision    recall  f1-score   support\n",
      "\n",
      "           0       1.00      1.00      1.00         8\n",
      "           1       1.00      1.00      1.00        12\n",
      "           2       0.76      0.89      0.82        18\n",
      "           3       0.80      1.00      0.89        12\n",
      "           4       1.00      0.90      0.95        10\n",
      "           5       0.94      0.94      0.94        18\n",
      "           6       1.00      1.00      1.00        10\n",
      "           7       1.00      1.00      1.00        10\n",
      "           8       0.91      1.00      0.95        10\n",
      "           9       0.80      0.89      0.84         9\n",
      "          10       0.94      1.00      0.97        17\n",
      "          11       1.00      1.00      1.00        17\n",
      "          12       0.83      1.00      0.91        10\n",
      "          13       0.92      0.92      0.92        12\n",
      "          14       1.00      0.38      0.55         8\n",
      "          15       1.00      1.00      1.00         8\n",
      "          16       0.92      1.00      0.96        12\n",
      "          17       0.95      1.00      0.97        19\n",
      "          18       1.00      0.89      0.94         9\n",
      "          19       1.00      1.00      1.00         9\n",
      "          20       1.00      0.78      0.88         9\n",
      "          21       1.00      1.00      1.00         8\n",
      "          22       0.88      1.00      0.93        14\n",
      "          23       1.00      1.00      1.00        16\n",
      "          24       1.00      0.94      0.97        17\n",
      "          25       0.91      0.83      0.87        12\n",
      "          26       1.00      1.00      1.00        11\n",
      "          27       1.00      0.89      0.94         9\n",
      "          28       1.00      1.00      1.00        10\n",
      "          29       1.00      0.88      0.93         8\n",
      "          30       1.00      1.00      1.00         9\n",
      "          31       1.00      1.00      1.00        15\n",
      "          32       1.00      0.95      0.98        22\n",
      "          33       1.00      1.00      1.00        12\n",
      "          34       0.89      0.89      0.89         9\n",
      "          35       0.76      0.93      0.84        14\n",
      "          36       1.00      0.69      0.82        13\n",
      "          37       0.96      1.00      0.98        26\n",
      "          38       1.00      0.83      0.91        12\n",
      "          39       0.90      0.73      0.81        26\n",
      "          40       1.00      1.00      1.00        19\n",
      "          41       0.64      0.88      0.74         8\n",
      "          42       1.00      1.00      1.00        40\n",
      "          43       1.00      1.00      1.00        14\n",
      "          44       0.94      1.00      0.97        15\n",
      "          45       1.00      1.00      1.00        10\n",
      "          46       0.94      0.84      0.89        19\n",
      "          47       1.00      1.00      1.00         9\n",
      "          48       0.88      0.94      0.91        52\n",
      "          49       1.00      0.94      0.97        17\n",
      "          50       0.94      0.84      0.89        19\n",
      "          51       0.93      1.00      0.96        13\n",
      "          52       0.88      1.00      0.94        15\n",
      "          53       1.00      1.00      1.00        22\n",
      "          54       1.00      0.93      0.96        14\n",
      "          55       1.00      1.00      1.00        23\n",
      "          56       1.00      1.00      1.00        14\n",
      "          57       1.00      1.00      1.00        22\n",
      "          58       1.00      0.75      0.86         8\n",
      "          59       0.91      1.00      0.95        10\n",
      "          60       1.00      0.91      0.95        11\n",
      "          61       1.00      1.00      1.00        11\n",
      "          62       1.00      1.00      1.00        11\n",
      "          63       0.95      0.95      0.95        21\n",
      "          64       1.00      1.00      1.00        13\n",
      "          65       1.00      0.67      0.80         9\n",
      "          66       1.00      0.55      0.71        11\n",
      "          67       1.00      1.00      1.00        11\n",
      "          68       1.00      0.92      0.96        13\n",
      "          69       1.00      1.00      1.00        17\n",
      "          70       1.00      1.00      1.00        16\n",
      "          71       0.88      0.75      0.81        20\n",
      "          72       0.95      1.00      0.97        39\n",
      "          73       0.94      0.97      0.96        35\n",
      "          74       0.88      0.96      0.92        24\n",
      "          75       0.95      0.91      0.93        22\n",
      "          76       0.98      1.00      0.99        51\n",
      "          77       0.84      0.96      0.90        28\n",
      "          78       1.00      1.00      1.00         9\n",
      "          79       0.95      0.95      0.95        21\n",
      "          80       1.00      0.90      0.95        10\n",
      "          81       1.00      1.00      1.00        34\n",
      "          82       0.96      0.96      0.96        23\n",
      "          83       0.90      0.96      0.93        27\n",
      "          84       0.84      0.89      0.86        18\n",
      "          85       1.00      0.92      0.96        13\n",
      "          86       0.85      0.92      0.88        12\n",
      "          87       0.93      1.00      0.96        13\n",
      "          88       0.88      0.90      0.89        31\n",
      "          89       0.95      1.00      0.97        37\n",
      "          90       0.89      1.00      0.94        17\n",
      "          91       1.00      1.00      1.00         9\n",
      "          92       1.00      0.88      0.93        16\n",
      "          93       1.00      1.00      1.00        14\n",
      "          94       0.80      0.80      0.80        10\n",
      "          95       0.89      1.00      0.94        33\n",
      "          96       0.92      0.88      0.90        26\n",
      "          97       0.82      0.74      0.78        19\n",
      "          98       0.86      0.86      0.86        14\n",
      "          99       0.94      0.94      0.94        17\n",
      "         100       1.00      1.00      1.00        13\n",
      "         101       1.00      0.90      0.95        10\n",
      "\n",
      "    accuracy                           0.94      1682\n",
      "   macro avg       0.95      0.93      0.94      1682\n",
      "weighted avg       0.95      0.94      0.94      1682\n",
      "\n"
     ]
    }
   ],
   "source": [
    "#Accuracy, precision, recall y f-score\n",
    "print(classification_report(y_true, y_pred))"
   ]
  },
  {
   "cell_type": "code",
   "execution_count": 71,
   "id": "0088f622-ec63-4d26-9e1d-19cf15c8360f",
   "metadata": {},
   "outputs": [
    {
     "data": {
      "image/png": "[encoded data removed]",
      "text/plain": [
       "<Figure size 800x600 with 2 Axes>"
      ]
     },
     "metadata": {},
     "output_type": "display_data"
    }
   ],
   "source": [
    "# Matriz de confusión normalizada\n",
    "cm = confusion_matrix(y_true, y_pred, normalize='true')\n",
    "\n",
    "# Errores por clase: total menos aciertos\n",
    "errors = np.sum(cm, axis=1) - np.diag(cm)\n",
    "top_classes = np.argsort(errors)[-10:]  # las 10 más problemáticas\n",
    "\n",
    "# Submatriz para esas clases\n",
    "cm_top = cm[np.ix_(top_classes, top_classes)]\n",
    "\n",
    "# Mostrar\n",
    "plt.figure(figsize=(8, 6))\n",
    "sns.heatmap(cm_top, annot=True, fmt=\".2f\", cmap=\"Reds\", \n",
    "            xticklabels=top_classes, yticklabels=top_classes)\n",
    "plt.title(\"Top 10 clases más confundidas\")\n",
    "plt.xlabel(\"Predicción\")\n",
    "plt.ylabel(\"Real\")\n",
    "plt.tight_layout()\n",
    "plt.show()"
   ]
  },
  {
   "cell_type": "markdown",
   "id": "415d7f6b-9e3d-445a-893d-1c47239c8057",
   "metadata": {},
   "source": [
    "<h3 data-start=\"153\" data-end=\"188\"><strong data-start=\"160\" data-end=\"188\">Conclusi&oacute;n:</strong></h3>\n",
    "<p data-start=\"190\" data-end=\"413\">El modelo basado en <strong data-start=\"210\" data-end=\"225\">MobileNetV2</strong> con una cabeza densa de 256 unidades y activaci&oacute;n <strong data-start=\"276\" data-end=\"287\">softmax</strong>, evaluado sobre un conjunto de validaci&oacute;n de <strong data-start=\"333\" data-end=\"377\">1682 im&aacute;genes distribuidas en 102 clases</strong>, alcanz&oacute; los siguientes resultados:</p>\n",
    "<ul data-start=\"415\" data-end=\"538\">\n",
    "<li data-start=\"415\" data-end=\"448\">\n",
    "<p data-start=\"417\" data-end=\"448\"><strong data-start=\"420\" data-end=\"439\">Accuracy global</strong>: <strong data-start=\"441\" data-end=\"448\">94%</strong></p>\n",
    "</li>\n",
    "<li data-start=\"449\" data-end=\"491\">\n",
    "<p data-start=\"451\" data-end=\"491\"><strong data-start=\"454\" data-end=\"481\">F1-score macro promedio</strong>: <strong data-start=\"483\" data-end=\"491\">0.94</strong></p>\n",
    "</li>\n",
    "<li data-start=\"492\" data-end=\"538\">\n",
    "<p data-start=\"494\" data-end=\"538\"><strong data-start=\"497\" data-end=\"528\">F1-score ponderado promedio</strong>: <strong data-start=\"530\" data-end=\"538\">0.94</strong></p>\n",
    "</li>\n",
    "</ul>\n",
    "<p data-start=\"540\" data-end=\"750\">Estos resultados reflejan un desempe&ntilde;o altamente competitivo, especialmente considerando el tama&ntilde;o relativamente peque&ntilde;o del dataset y la complejidad de una clasificaci&oacute;n multiclase con 102 etiquetas distintas.</p>\n",
    "<p data-start=\"1005\" data-end=\"1103\">Aunque el desempe&ntilde;o es sobresaliente, algunas clases a&uacute;n presentan espacio de mejora. Por ejemplo:</p>\n",
    "<ul data-start=\"1105\" data-end=\"1224\">\n",
    "<li data-start=\"1105\" data-end=\"1128\">\n",
    "<p data-start=\"1107\" data-end=\"1128\">Clase 14: F1 = 0.55</p>\n",
    "</li>\n",
    "<li data-start=\"1129\" data-end=\"1152\">\n",
    "<p data-start=\"1131\" data-end=\"1152\">Clase 66: F1 = 0.71</p>\n",
    "</li>\n",
    "<li data-start=\"1153\" data-end=\"1176\">\n",
    "<p data-start=\"1155\" data-end=\"1176\">Clase 65: F1 = 0.80</p>\n",
    "</li>\n",
    "<li data-start=\"1177\" data-end=\"1200\">\n",
    "<p data-start=\"1179\" data-end=\"1200\">Clase 36: F1 = 0.82</p>\n",
    "</li>\n",
    "<li data-start=\"1201\" data-end=\"1224\">\n",
    "<p data-start=\"1203\" data-end=\"1224\">Clase 97: F1 = 0.78</p>\n",
    "</li>\n",
    "</ul>\n",
    "<p data-start=\"1226\" data-end=\"1248\">Esto podr&iacute;a deberse a:</p>\n",
    "<ul data-start=\"1249\" data-end=\"1396\">\n",
    "<li data-start=\"1249\" data-end=\"1299\">\n",
    "<p data-start=\"1251\" data-end=\"1299\">Im&aacute;genes visualmente similares con otras clases,</p>\n",
    "</li>\n",
    "<li data-start=\"1300\" data-end=\"1335\">\n",
    "<p data-start=\"1302\" data-end=\"1335\">Variabilidad intra-clase elevada,</p>\n",
    "</li>\n",
    "<li data-start=\"1336\" data-end=\"1396\">\n",
    "<p data-start=\"1338\" data-end=\"1396\">O menos ejemplos representativos durante el entrenamiento.</p>\n",
    "</li>\n",
    "</ul>"
   ]
  },
  {
   "cell_type": "markdown",
   "id": "19d6faba-b63b-4e98-8ff6-2a24b4e57b93",
   "metadata": {},
   "source": [
    "<h3 data-start=\"131\" data-end=\"163\">Recomendaciones de Mejora</h3>\n",
    "<p data-start=\"165\" data-end=\"340\">Algunas recomendaciones ya se realizaron y fueron descartadas. Las siguientes propuestas corresponden a posibles pruebas futuras para seguir mejorando el desempe&ntilde;o del modelo:</p>\n",
    "<ul data-start=\"342\" data-end=\"1409\">\n",
    "<li data-start=\"342\" data-end=\"628\">\n",
    "<p data-start=\"344\" data-end=\"628\"><strong data-start=\"344\" data-end=\"400\">Validaci&oacute;n cruzada estratificada (Stratified K-Fold)</strong>: Implementar <code data-start=\"414\" data-end=\"431\">StratifiedKFold</code> para evaluar si el modelo mantiene un desempe&ntilde;o consistente al entrenarse y evaluarse en distintos subconjuntos del conjunto de datos. Esto puede ofrecer una mejor estimaci&oacute;n de su generalizaci&oacute;n.</p>\n",
    "</li>\n",
    "<li data-start=\"630\" data-end=\"894\">\n",
    "<p data-start=\"632\" data-end=\"894\"><strong data-start=\"632\" data-end=\"673\">Descongelar m&aacute;s capas del modelo base</strong>: Actualmente solo se entrena la cabeza del modelo. Una mejora ser&iacute;a descongelar gradualmente m&aacute;s capas de MobileNetV2 para que el modelo adapte mejor sus representaciones a la tarea espec&iacute;fica de clasificaci&oacute;n de flores.</p>\n",
    "</li>\n",
    "<li data-start=\"896\" data-end=\"1164\">\n",
    "<p data-start=\"898\" data-end=\"1164\"><strong data-start=\"898\" data-end=\"938\">Mayor n&uacute;mero de fases de Fine-Tuning</strong>: Realizar el entrenamiento en varias fases, descongelando capas en bloques, con tasas de aprendizaje m&aacute;s peque&ntilde;as, para mejorar progresivamente la especializaci&oacute;n del modelo sin perder la generalizaci&oacute;n adquirida en ImageNet.</p>\n",
    "</li>\n",
    "<li data-start=\"1166\" data-end=\"1409\">\n",
    "<p data-start=\"1168\" data-end=\"1409\"><strong data-start=\"1168\" data-end=\"1203\">Optimizaci&oacute;n de hiperpar&aacute;metros</strong>: Usar herramientas como <code data-start=\"1228\" data-end=\"1240\">KerasTuner</code>, <code data-start=\"1242\" data-end=\"1250\">Optuna</code> o b&uacute;squeda bayesiana para ajustar autom&aacute;ticamente par&aacute;metros clave como tasa de aprendizaje, n&uacute;mero de unidades en capas densas, tasa de dropout o batch size.</p>\n",
    "</li>\n",
    "</ul>"
   ]
  },
  {
   "cell_type": "markdown",
   "id": "b48be308-d5bc-43eb-b37e-685a92bfe489",
   "metadata": {},
   "source": [
    "## StreamLit"
   ]
  },
  {
   "cell_type": "markdown",
   "id": "90b02220-d4a2-4c56-8da6-b2b06ab767de",
   "metadata": {},
   "source": [
    "<h3 data-start=\"112\" data-end=\"174\">Aplicaci&oacute;n Web de Clasificaci&oacute;n de Flores&nbsp;</h3>\n",
    "<p data-start=\"176\" data-end=\"335\">Se desarroll&oacute; una aplicaci&oacute;n interactiva en <strong data-start=\"220\" data-end=\"233\">Streamlit</strong> disponible en:<br data-start=\"248\" data-end=\"251\" />🔗 <a class=\"\" href=\"https://clasificacion-flores.streamlit.app/\" target=\"_new\" rel=\"noopener\" data-start=\"254\" data-end=\"335\">clasificacion-flores.streamlit.app</a></p>\n",
    "<p data-start=\"337\" data-end=\"575\">Esta aplicaci&oacute;n permite a los usuarios subir im&aacute;genes de flores y obtener una predicci&oacute;n autom&aacute;tica de su especie entre 102 clases diferentes, basada en el mejor modelo entrenado con Transfer Learning utilizando MobileNetV2.</p>\n",
    "<p data-start=\"577\" data-end=\"735\">El modelo fue ajustado espec&iacute;ficamente para el conjunto de datos Oxford Flowers 102, alcanzando un accuracy del 94%, con una arquitectura que incluye:</p>\n",
    "<p data-start=\"902\" data-end=\"962\">La app ofrece una experiencia r&aacute;pida e intuitiva, mostrando:</p>\n",
    "<ul data-start=\"963\" data-end=\"1061\">\n",
    "<li data-start=\"963\" data-end=\"982\">\n",
    "<p data-start=\"965\" data-end=\"982\">la imagen subida,</p>\n",
    "</li>\n",
    "<li data-start=\"983\" data-end=\"1023\">\n",
    "<p data-start=\"985\" data-end=\"1023\">la clase predicha (nombre de la flor),</p>\n",
    "</li>\n",
    "<li data-start=\"1024\" data-end=\"1061\">\n",
    "<p data-start=\"1026\" data-end=\"1061\">y el nivel de confianza del modelo.</p>\n",
    "</li>\n",
    "<li data-start=\"1024\" data-end=\"1061\">Un top 5 de posibles.</li>\n",
    "<li data-start=\"1024\" data-end=\"1061\">Una breve descripci&oacute;n de Wikipedia</li>\n",
    "</ul>"
   ]
  },
  {
   "cell_type": "code",
   "execution_count": null,
   "id": "dbf1cecc-b12e-4104-a25b-3f9b0e1856f8",
   "metadata": {},
   "outputs": [],
   "source": []
  }
 ],
 "metadata": {
  "kernelspec": {
   "display_name": "Python 3 (ipykernel)",
   "language": "python",
   "name": "python3"
  },
  "language_info": {
   "codemirror_mode": {
    "name": "ipython",
    "version": 3
   },
   "file_extension": ".py",
   "mimetype": "text/x-python",
   "name": "python",
   "nbconvert_exporter": "python",
   "pygments_lexer": "ipython3",
   "version": "3.12.7"
  }
 },
 "nbformat": 4,
 "nbformat_minor": 5
}
