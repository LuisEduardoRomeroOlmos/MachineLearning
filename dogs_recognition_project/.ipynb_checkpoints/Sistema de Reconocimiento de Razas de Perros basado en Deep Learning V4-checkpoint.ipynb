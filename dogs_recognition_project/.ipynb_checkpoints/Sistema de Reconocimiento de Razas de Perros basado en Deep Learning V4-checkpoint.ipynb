{
 "cells": [
  {
   "cell_type": "markdown",
   "id": "a2a02853-7b82-41a7-b5e5-6b52283acf3a",
   "metadata": {},
   "source": [
    "<h1 data-start=\"100\" data-end=\"197\"><span style=\"background-color: #bfedd2;\">Transfer Learning con MobileNetV2 para Clasificaci&oacute;n de Razas de Perros&nbsp;</span></h1>\n",
    "<div id=\"gtx-trans\" style=\"position: absolute; left: -86px; top: 38.2344px;\">\n",
    "<div class=\"gtx-trans-icon\">&nbsp;</div>\n",
    "</div>"
   ]
  },
  {
   "cell_type": "markdown",
   "id": "bf61921c-4c50-4352-8a2a-05c84921e54b",
   "metadata": {},
   "source": [
    "## Objetivo"
   ]
  },
  {
   "cell_type": "markdown",
   "id": "65da2a7e-4478-4d46-ad27-df6131a2297c",
   "metadata": {},
   "source": [
    "<p style=\"text-align: justify;\">Aplicar la t&eacute;cnica de transfer learning utilizando el modelo EfficentNetB3 preentrenado para desarrollar un sistema eficiente de clasificaci&oacute;n de las 120 especies de perros&nbsp; del Stanford Dogs Dataset optimizando la precisi&oacute;n del modelo y evaluando su desempe&ntilde;o en la identificaci&oacute;n correcta de las diferentes clases de Razas</p>"
   ]
  },
  {
   "cell_type": "markdown",
   "id": "39136ce8-cc2c-4a5a-8167-97b794a34029",
   "metadata": {},
   "source": [
    "<h3 data-start=\"217\" data-end=\"248\">Sobre M&iacute;</h3>\n",
    "<p data-start=\"249\" data-end=\"620\">Como analista de datos junior, busco aplicar mis conocimientos en an&aacute;lisis exploratorio, visualizaci&oacute;n y modelos predictivos para aportar valor en la toma de decisiones basada en datos. Me interesa crecer en entornos colaborativos donde pueda aprender de proyectos reales, desarrollar soluciones con impacto y continuar form&aacute;ndome en ciencia de datos aplicada al negocio. Tengo experiencia pr&aacute;ctica en limpieza de datos, visualizaci&oacute;n con herramientas como Matplotlib y Seaborn, y creaci&oacute;n de modelos b&aacute;sicos con scikit-learn y redes neuronales en Keras.&nbsp;</p>\n",
    "<h6 style=\"text-align: right;\" data-start=\"249\" data-end=\"620\">Romero Olmos, Luis Eduardo<br />Correo: <a href=\"mailto:luiseduardoromeroolmos@aol.com\">luiseduardoromeroolmos@aol.com</a><br />Git: https://github.com/LuisEduardoRomeroOlmos<br />Kaggle: https://www.kaggle.com/luiseduardoromeroolm</h6>"
   ]
  },
  {
   "cell_type": "markdown",
   "id": "24cb04b9-f4e5-42b7-ac7a-7e674fe77ee1",
   "metadata": {},
   "source": [
    "## Importacion de librerias"
   ]
  },
  {
   "cell_type": "code",
   "execution_count": 3,
   "id": "c0743fd5-552a-429a-9ce2-0ecff800ba54",
   "metadata": {},
   "outputs": [],
   "source": [
    "import tensorflow as tf\n",
    "import matplotlib.pyplot as plt\n",
    "import seaborn as sns\n",
    "import numpy as np\n",
    "\n",
    "\n",
    "\n",
    "from tensorflow.keras import layers, models\n",
    "from tensorflow.keras.preprocessing.image import ImageDataGenerator\n",
    "from tensorflow.keras.callbacks import EarlyStopping, ModelCheckpoint, ReduceLROnPlateau\n",
    "\n",
    "from sklearn.metrics import classification_report\n",
    "from sklearn.metrics import confusion_matrix, ConfusionMatrixDisplay\n"
   ]
  },
  {
   "cell_type": "markdown",
   "id": "252049a6-d4d9-4f97-8f3d-5e6e4b773578",
   "metadata": {},
   "source": [
    "<p><em><strong>Declaraci&oacute;n de Funciones</strong></em></p>"
   ]
  },
  {
   "cell_type": "code",
   "execution_count": 4,
   "id": "73280fc0-e5c9-4f6d-b7b2-e97a5a5e1063",
   "metadata": {},
   "outputs": [],
   "source": [
    "#Funcion para graficar el historial de entrenamiento\n",
    "def plot_accuracy(history):\n",
    "    plt.plot(history.history['accuracy'], label='Entrenamiento')\n",
    "    plt.plot(history.history['val_accuracy'], label='Validación')\n",
    "    plt.xlabel('Época')\n",
    "    plt.ylabel('Exactitud')\n",
    "    plt.title('Evolución del Accuracy')\n",
    "    plt.legend()\n",
    "    plt.grid(True)\n",
    "    plt.show()"
   ]
  },
  {
   "cell_type": "code",
   "execution_count": 5,
   "id": "f31e8db7-ceeb-4b94-b779-fe33019aefb6",
   "metadata": {},
   "outputs": [],
   "source": [
    "def cargar_preprocesar_imagen(ruta_imagen, tamaño=(128, 128)):\n",
    "    # Cargar y redimensionar\n",
    "    img = image.load_img(ruta_imagen, target_size=tamaño)\n",
    "    # Convertir a array\n",
    "    img_array = image.img_to_array(img)\n",
    "    # Añadir dimensión para lote (batch size 1)\n",
    "    img_array = np.expand_dims(img_array, axis=0)\n",
    "    # Escalar píxeles a rango [0, 1]\n",
    "    img_array = img_array / 255.0\n",
    "    return img_array"
   ]
  },
  {
   "cell_type": "code",
   "execution_count": 6,
   "id": "5aab8770-13d9-4228-b66b-8a946323f5de",
   "metadata": {},
   "outputs": [],
   "source": [
    "def set_trainable_layers(model, freeze_until):\n",
    "    for i, layer in enumerate(model.layers):\n",
    "        if i < freeze_until:\n",
    "            layer.trainable = False\n",
    "        else:\n",
    "            layer.trainable = True\n",
    "\n",
    "    total_layers = len(model.layers)\n",
    "    trainable_layers = sum(layer.trainable for layer in model.layers)\n",
    "    frozen_layers = total_layers - trainable_layers\n",
    "\n",
    "    print(f\"Capas totales en el modelo: {total_layers}\")\n",
    "    print(f\"Capas desbloqueadas (trainable=True): {trainable_layers}\")\n",
    "    print(f\"Capas bloqueadas (trainable=False): {frozen_layers}\")"
   ]
  },
  {
   "cell_type": "markdown",
   "id": "ed8fe0b0-2ec5-46dd-aef6-3af3f4ac3be3",
   "metadata": {},
   "source": [
    "## Preparacion y Aumento de Datos para el Modelo CNN"
   ]
  },
  {
   "cell_type": "markdown",
   "id": "74f4f93f-108b-4e56-8d5d-831b6780f9f8",
   "metadata": {},
   "source": [
    "<p data-start=\"131\" data-end=\"635\">Se utiliza <strong>ImageDataGenerator</strong> para aplicar t&eacute;cnicas de aumento de datos que enriquecen el conjunto de entrenamiento, mejorando as&iacute; la capacidad de generalizaci&oacute;n del modelo. Entre estas t&eacute;cnicas se incluyen rotaciones de hasta 30&deg;, desplazamientos horizontales y verticales del 10%, transformaciones por corte (shear), zoom aleatorio dentro del rango 0.8&ndash;1.2, y volteo horizontal. Adem&aacute;s, se emplea el modo de relleno 'nearest' para completar los p&iacute;xeles generados por las transformaciones.</p>\n",
    "<p data-start=\"637\" data-end=\"758\">El conjunto de datos se divide previamente en dos carpetas: train y val, y se cargan de la siguiente manera:</p>\n",
    "<ul data-start=\"760\" data-end=\"983\">\n",
    "<li data-start=\"760\" data-end=\"827\">\n",
    "<p data-start=\"762\" data-end=\"827\"><strong>train_data</strong> se genera con<strong> aumentos y</strong> <strong>reescalado</strong> de im&aacute;genes.</p>\n",
    "</li>\n",
    "<li data-start=\"828\" data-end=\"983\">\n",
    "<p data-start=\"830\" data-end=\"983\"><strong>val_data</strong> &nbsp;se carga solo con<strong> reescalado</strong>, manteni&eacute;ndose sin transformaciones adicionales para evaluar el desempe&ntilde;o real del modelo.</p>\n",
    "</li>\n",
    "</ul>\n",
    "<p data-start=\"985\" data-end=\"1218\">El tama&ntilde;o objetivo de las im&aacute;genes es de <strong>300x300 p&iacute;xeles</strong>, el <strong>batch_size es de 32</strong>&nbsp;y se emplea la <strong>codificaci&oacute;n sparse</strong> para las etiquetas, lo cual es adecuado al usar <strong>sparse_categorical_crossentropy</strong> como funci&oacute;n de p&eacute;rdida.</p>"
   ]
  },
  {
   "cell_type": "code",
   "execution_count": 7,
   "id": "0dd869d1-3f25-46d1-b69b-23b340b3b827",
   "metadata": {},
   "outputs": [],
   "source": [
    "from tensorflow.keras.applications.efficientnet import preprocess_input\n",
    "from tensorflow.keras.applications import EfficientNetB3"
   ]
  },
  {
   "cell_type": "code",
   "execution_count": 8,
   "id": "9abde277-4819-4b55-a6ef-892ea53f06b9",
   "metadata": {},
   "outputs": [
    {
     "name": "stdout",
     "output_type": "stream",
     "text": [
      "Found 16508 images belonging to 120 classes.\n",
      "Found 4072 images belonging to 120 classes.\n"
     ]
    }
   ],
   "source": [
    "from tensorflow.keras.preprocessing.image import ImageDataGenerator\n",
    "\n",
    "# Aumentación de datos para entrenamiento\n",
    "train_gen = ImageDataGenerator(\n",
    "   preprocessing_function=preprocess_input,\n",
    "    rotation_range=30,\n",
    "    width_shift_range=0.1,\n",
    "    height_shift_range=0.1,\n",
    "    shear_range=0.15,\n",
    "    zoom_range=0.2,\n",
    "    horizontal_flip=True,\n",
    "    fill_mode='nearest',\n",
    "    validation_split=0.2  # Separar 20% como validación\n",
    ")\n",
    "\n",
    "# Generator para entrenamiento\n",
    "train_data = train_gen.flow_from_directory(\n",
    "    'Images/',\n",
    "    target_size=(300, 300),\n",
    "    batch_size=32,\n",
    "    class_mode='sparse',\n",
    "    subset='training'\n",
    ")\n",
    "\n",
    "# Generator para validación (sin aumento)\n",
    "val_data = train_gen.flow_from_directory(\n",
    "    'Images/',\n",
    "    target_size=(300, 300),\n",
    "    batch_size=32,\n",
    "    class_mode='sparse',\n",
    "    subset='validation',\n",
    "    shuffle=False\n",
    ")\n"
   ]
  },
  {
   "cell_type": "markdown",
   "id": "d9b47fd3-50dd-4894-a9a6-73fee478d50d",
   "metadata": {},
   "source": [
    "## Creación e importación del Modelo"
   ]
  },
  {
   "cell_type": "markdown",
   "id": "52807504-1f61-40c3-9e3c-a70533fda301",
   "metadata": {},
   "source": [
    "<p data-start=\"130\" data-end=\"421\">Se utiliz&oacute; la arquitectura <strong data-start=\"157\" data-end=\"197\">EfficentNetB3 preentrenada en ImageNet</strong> como base para el modelo. Esta red se carga sin su capa superior (include_top=False) y se configura inicialmente con todas sus capas <strong data-start=\"333\" data-end=\"347\">congeladas</strong> (trainable=False) para preservar el conocimiento previamente aprendido.</p>\n",
    "<p data-start=\"423\" data-end=\"572\">Sobre esta base se construye una nueva \"cabeza\" de clasificaci&oacute;n adaptada a la tarea de distinguir entre 120 razas de perros. Esta cabeza incluye:</p>\n",
    "<ul data-start=\"574\" data-end=\"923\">\n",
    "<li data-start=\"574\" data-end=\"655\">\n",
    "<p data-start=\"576\" data-end=\"655\">Una capa de <strong data-start=\"588\" data-end=\"614\">GlobalAveragePooling2D</strong> para reducir las dimensiones espaciales,</p>\n",
    "</li>\n",
    "<li data-start=\"656\" data-end=\"755\">\n",
    "<p data-start=\"658\" data-end=\"755\">Una capa <strong data-start=\"667\" data-end=\"712\">densa de 256 unidades con activaci&oacute;n ReLU</strong> para incrementar la capacidad de decisi&oacute;n,</p>\n",
    "</li>\n",
    "<li data-start=\"756\" data-end=\"813\">\n",
    "<p data-start=\"758\" data-end=\"813\">Una capa <strong data-start=\"767\" data-end=\"786\">Dropout del 50%</strong> para prevenir sobreajuste,</p>\n",
    "</li>\n",
    "<li data-start=\"656\" data-end=\"755\">\n",
    "<p data-start=\"658\" data-end=\"755\">Una capa <strong data-start=\"667\" data-end=\"712\">densa de 128 unidades con activaci&oacute;n ReLU</strong> para incrementar la capacidad de decisi&oacute;n,</p>\n",
    "</li>\n",
    "<li data-start=\"756\" data-end=\"813\">\n",
    "<p data-start=\"758\" data-end=\"813\">Una capa <strong data-start=\"767\" data-end=\"786\">Dropout del 30%</strong> para prevenir sobreajuste,</p>\n",
    "</li>\n",
    "<li data-start=\"814\" data-end=\"923\">\n",
    "<p data-start=\"816\" data-end=\"923\">Una capa de salida con <strong data-start=\"839\" data-end=\"861\">activaci&oacute;n softmax</strong> adecuada para la clasificaci&oacute;n multiclase con 120 categor&iacute;as.</p>\n",
    "</li>\n",
    "</ul>\n",
    "<p data-start=\"925\" data-end=\"1100\">El modelo se compila usando el optimizador <strong data-start=\"968\" data-end=\"976\">Adam</strong> y la funci&oacute;n de p&eacute;rdida <strong data-start=\"1001\" data-end=\"1036\">sparse_categorical_crossentropy</strong>, com&uacute;nmente utilizada en problemas de clasificaci&oacute;n multiclase.</p>"
   ]
  },
  {
   "cell_type": "code",
   "execution_count": 10,
   "id": "2ca1dc25-71ef-41db-9498-0fe573008c95",
   "metadata": {},
   "outputs": [],
   "source": [
    "from tensorflow.keras.applications import EfficientNetB3"
   ]
  },
  {
   "cell_type": "code",
   "execution_count": 18,
   "id": "35805f70-ac21-4d83-9033-88eae7c0910b",
   "metadata": {},
   "outputs": [
    {
     "name": "stdout",
     "output_type": "stream",
     "text": [
      "Downloading data from https://storage.googleapis.com/keras-applications/efficientnetb3_notop.h5\n",
      "\u001b[1m43941136/43941136\u001b[0m \u001b[32m━━━━━━━━━━━━━━━━━━━━\u001b[0m\u001b[37m\u001b[0m \u001b[1m8s\u001b[0m 0us/step\n"
     ]
    }
   ],
   "source": [
    "# Cargar el modelo base (sin la capa final)\n",
    "base_model = EfficientNetB3(include_top=False, input_shape=(300, 300, 3), weights='imagenet')\n"
   ]
  },
  {
   "cell_type": "code",
   "execution_count": 19,
   "id": "65be7d70-8bfa-4952-9782-d3ad2292e693",
   "metadata": {},
   "outputs": [],
   "source": [
    "#  Congelas las capas de EfficentNetB3\n",
    "base_model.trainable = False  "
   ]
  },
  {
   "cell_type": "code",
   "execution_count": 20,
   "id": "fd8d5496-2c72-4da0-8f26-fb9a3fd512a0",
   "metadata": {},
   "outputs": [],
   "source": [
    "head_model = models.Sequential([\n",
    "    base_model,\n",
    "    layers.GlobalAveragePooling2D(),\n",
    "    layers.Dense(256, activation='relu'),\n",
    "    layers.Dropout(0.5),\n",
    "    layers.Dense(128, activation='relu'),\n",
    "    layers.Dropout(0.3),\n",
    "    layers.Dense(120, activation='softmax')\n",
    "])"
   ]
  },
  {
   "cell_type": "code",
   "execution_count": 21,
   "id": "728ffd09-003f-42d2-ac86-668179d59bff",
   "metadata": {},
   "outputs": [],
   "source": [
    "# Compilar solo la cabeza\n",
    "head_model.compile( optimizer='adam',\n",
    "    loss='sparse_categorical_crossentropy',\n",
    "    metrics=['accuracy'])"
   ]
  },
  {
   "cell_type": "code",
   "execution_count": 22,
   "id": "ca95cc63-aaeb-4e38-930c-608cf9098b2e",
   "metadata": {},
   "outputs": [
    {
     "data": {
      "text/html": [
       "<pre style=\"white-space:pre;overflow-x:auto;line-height:normal;font-family:Menlo,'DejaVu Sans Mono',consolas,'Courier New',monospace\"><span style=\"font-weight: bold\">Model: \"sequential_1\"</span>\n",
       "</pre>\n"
      ],
      "text/plain": [
       "\u001b[1mModel: \"sequential_1\"\u001b[0m\n"
      ]
     },
     "metadata": {},
     "output_type": "display_data"
    },
    {
     "data": {
      "text/html": [
       "<pre style=\"white-space:pre;overflow-x:auto;line-height:normal;font-family:Menlo,'DejaVu Sans Mono',consolas,'Courier New',monospace\">┏━━━━━━━━━━━━━━━━━━━━━━━━━━━━━━━━━┳━━━━━━━━━━━━━━━━━━━━━━━━┳━━━━━━━━━━━━━━━┓\n",
       "┃<span style=\"font-weight: bold\"> Layer (type)                    </span>┃<span style=\"font-weight: bold\"> Output Shape           </span>┃<span style=\"font-weight: bold\">       Param # </span>┃\n",
       "┡━━━━━━━━━━━━━━━━━━━━━━━━━━━━━━━━━╇━━━━━━━━━━━━━━━━━━━━━━━━╇━━━━━━━━━━━━━━━┩\n",
       "│ efficientnetb3 (<span style=\"color: #0087ff; text-decoration-color: #0087ff\">Functional</span>)     │ (<span style=\"color: #00d7ff; text-decoration-color: #00d7ff\">None</span>, <span style=\"color: #00af00; text-decoration-color: #00af00\">10</span>, <span style=\"color: #00af00; text-decoration-color: #00af00\">10</span>, <span style=\"color: #00af00; text-decoration-color: #00af00\">1536</span>)   │    <span style=\"color: #00af00; text-decoration-color: #00af00\">10,783,535</span> │\n",
       "├─────────────────────────────────┼────────────────────────┼───────────────┤\n",
       "│ global_average_pooling2d_1      │ (<span style=\"color: #00d7ff; text-decoration-color: #00d7ff\">None</span>, <span style=\"color: #00af00; text-decoration-color: #00af00\">1536</span>)           │             <span style=\"color: #00af00; text-decoration-color: #00af00\">0</span> │\n",
       "│ (<span style=\"color: #0087ff; text-decoration-color: #0087ff\">GlobalAveragePooling2D</span>)        │                        │               │\n",
       "├─────────────────────────────────┼────────────────────────┼───────────────┤\n",
       "│ dense_3 (<span style=\"color: #0087ff; text-decoration-color: #0087ff\">Dense</span>)                 │ (<span style=\"color: #00d7ff; text-decoration-color: #00d7ff\">None</span>, <span style=\"color: #00af00; text-decoration-color: #00af00\">256</span>)            │       <span style=\"color: #00af00; text-decoration-color: #00af00\">393,472</span> │\n",
       "├─────────────────────────────────┼────────────────────────┼───────────────┤\n",
       "│ dropout_2 (<span style=\"color: #0087ff; text-decoration-color: #0087ff\">Dropout</span>)             │ (<span style=\"color: #00d7ff; text-decoration-color: #00d7ff\">None</span>, <span style=\"color: #00af00; text-decoration-color: #00af00\">256</span>)            │             <span style=\"color: #00af00; text-decoration-color: #00af00\">0</span> │\n",
       "├─────────────────────────────────┼────────────────────────┼───────────────┤\n",
       "│ dense_4 (<span style=\"color: #0087ff; text-decoration-color: #0087ff\">Dense</span>)                 │ (<span style=\"color: #00d7ff; text-decoration-color: #00d7ff\">None</span>, <span style=\"color: #00af00; text-decoration-color: #00af00\">128</span>)            │        <span style=\"color: #00af00; text-decoration-color: #00af00\">32,896</span> │\n",
       "├─────────────────────────────────┼────────────────────────┼───────────────┤\n",
       "│ dropout_3 (<span style=\"color: #0087ff; text-decoration-color: #0087ff\">Dropout</span>)             │ (<span style=\"color: #00d7ff; text-decoration-color: #00d7ff\">None</span>, <span style=\"color: #00af00; text-decoration-color: #00af00\">128</span>)            │             <span style=\"color: #00af00; text-decoration-color: #00af00\">0</span> │\n",
       "├─────────────────────────────────┼────────────────────────┼───────────────┤\n",
       "│ dense_5 (<span style=\"color: #0087ff; text-decoration-color: #0087ff\">Dense</span>)                 │ (<span style=\"color: #00d7ff; text-decoration-color: #00d7ff\">None</span>, <span style=\"color: #00af00; text-decoration-color: #00af00\">120</span>)            │        <span style=\"color: #00af00; text-decoration-color: #00af00\">15,480</span> │\n",
       "└─────────────────────────────────┴────────────────────────┴───────────────┘\n",
       "</pre>\n"
      ],
      "text/plain": [
       "┏━━━━━━━━━━━━━━━━━━━━━━━━━━━━━━━━━┳━━━━━━━━━━━━━━━━━━━━━━━━┳━━━━━━━━━━━━━━━┓\n",
       "┃\u001b[1m \u001b[0m\u001b[1mLayer (type)                   \u001b[0m\u001b[1m \u001b[0m┃\u001b[1m \u001b[0m\u001b[1mOutput Shape          \u001b[0m\u001b[1m \u001b[0m┃\u001b[1m \u001b[0m\u001b[1m      Param #\u001b[0m\u001b[1m \u001b[0m┃\n",
       "┡━━━━━━━━━━━━━━━━━━━━━━━━━━━━━━━━━╇━━━━━━━━━━━━━━━━━━━━━━━━╇━━━━━━━━━━━━━━━┩\n",
       "│ efficientnetb3 (\u001b[38;5;33mFunctional\u001b[0m)     │ (\u001b[38;5;45mNone\u001b[0m, \u001b[38;5;34m10\u001b[0m, \u001b[38;5;34m10\u001b[0m, \u001b[38;5;34m1536\u001b[0m)   │    \u001b[38;5;34m10,783,535\u001b[0m │\n",
       "├─────────────────────────────────┼────────────────────────┼───────────────┤\n",
       "│ global_average_pooling2d_1      │ (\u001b[38;5;45mNone\u001b[0m, \u001b[38;5;34m1536\u001b[0m)           │             \u001b[38;5;34m0\u001b[0m │\n",
       "│ (\u001b[38;5;33mGlobalAveragePooling2D\u001b[0m)        │                        │               │\n",
       "├─────────────────────────────────┼────────────────────────┼───────────────┤\n",
       "│ dense_3 (\u001b[38;5;33mDense\u001b[0m)                 │ (\u001b[38;5;45mNone\u001b[0m, \u001b[38;5;34m256\u001b[0m)            │       \u001b[38;5;34m393,472\u001b[0m │\n",
       "├─────────────────────────────────┼────────────────────────┼───────────────┤\n",
       "│ dropout_2 (\u001b[38;5;33mDropout\u001b[0m)             │ (\u001b[38;5;45mNone\u001b[0m, \u001b[38;5;34m256\u001b[0m)            │             \u001b[38;5;34m0\u001b[0m │\n",
       "├─────────────────────────────────┼────────────────────────┼───────────────┤\n",
       "│ dense_4 (\u001b[38;5;33mDense\u001b[0m)                 │ (\u001b[38;5;45mNone\u001b[0m, \u001b[38;5;34m128\u001b[0m)            │        \u001b[38;5;34m32,896\u001b[0m │\n",
       "├─────────────────────────────────┼────────────────────────┼───────────────┤\n",
       "│ dropout_3 (\u001b[38;5;33mDropout\u001b[0m)             │ (\u001b[38;5;45mNone\u001b[0m, \u001b[38;5;34m128\u001b[0m)            │             \u001b[38;5;34m0\u001b[0m │\n",
       "├─────────────────────────────────┼────────────────────────┼───────────────┤\n",
       "│ dense_5 (\u001b[38;5;33mDense\u001b[0m)                 │ (\u001b[38;5;45mNone\u001b[0m, \u001b[38;5;34m120\u001b[0m)            │        \u001b[38;5;34m15,480\u001b[0m │\n",
       "└─────────────────────────────────┴────────────────────────┴───────────────┘\n"
      ]
     },
     "metadata": {},
     "output_type": "display_data"
    },
    {
     "data": {
      "text/html": [
       "<pre style=\"white-space:pre;overflow-x:auto;line-height:normal;font-family:Menlo,'DejaVu Sans Mono',consolas,'Courier New',monospace\"><span style=\"font-weight: bold\"> Total params: </span><span style=\"color: #00af00; text-decoration-color: #00af00\">11,225,383</span> (42.82 MB)\n",
       "</pre>\n"
      ],
      "text/plain": [
       "\u001b[1m Total params: \u001b[0m\u001b[38;5;34m11,225,383\u001b[0m (42.82 MB)\n"
      ]
     },
     "metadata": {},
     "output_type": "display_data"
    },
    {
     "data": {
      "text/html": [
       "<pre style=\"white-space:pre;overflow-x:auto;line-height:normal;font-family:Menlo,'DejaVu Sans Mono',consolas,'Courier New',monospace\"><span style=\"font-weight: bold\"> Trainable params: </span><span style=\"color: #00af00; text-decoration-color: #00af00\">441,848</span> (1.69 MB)\n",
       "</pre>\n"
      ],
      "text/plain": [
       "\u001b[1m Trainable params: \u001b[0m\u001b[38;5;34m441,848\u001b[0m (1.69 MB)\n"
      ]
     },
     "metadata": {},
     "output_type": "display_data"
    },
    {
     "data": {
      "text/html": [
       "<pre style=\"white-space:pre;overflow-x:auto;line-height:normal;font-family:Menlo,'DejaVu Sans Mono',consolas,'Courier New',monospace\"><span style=\"font-weight: bold\"> Non-trainable params: </span><span style=\"color: #00af00; text-decoration-color: #00af00\">10,783,535</span> (41.14 MB)\n",
       "</pre>\n"
      ],
      "text/plain": [
       "\u001b[1m Non-trainable params: \u001b[0m\u001b[38;5;34m10,783,535\u001b[0m (41.14 MB)\n"
      ]
     },
     "metadata": {},
     "output_type": "display_data"
    }
   ],
   "source": [
    "head_model.summary()"
   ]
  },
  {
   "cell_type": "markdown",
   "id": "ab74f162-18de-439a-ab5b-3c032ea2c66f",
   "metadata": {},
   "source": [
    "## Entrenamiento del modelo"
   ]
  },
  {
   "cell_type": "markdown",
   "id": "a72538c1-89b9-4d5d-b018-d66a04b20339",
   "metadata": {},
   "source": [
    "#### Entrenamiento de la cabeza"
   ]
  },
  {
   "cell_type": "markdown",
   "id": "6707321d-cb4e-44de-839a-48da4562753e",
   "metadata": {},
   "source": [
    "El entrenamiento de la cabeza (o training the head en inglés) se refiere a entrenar solo la parte superior de un modelo basado en transfer learning, es decir, las capas que tú agregas al final del modelo base preentrenado."
   ]
  },
  {
   "cell_type": "code",
   "execution_count": 23,
   "id": "3bc88a66-aa05-4b30-bce6-139c808e921b",
   "metadata": {},
   "outputs": [],
   "source": [
    "# ModelCheckpoint para guardar el mejor modelo durante el entrenamiento\n",
    "checkpoint = ModelCheckpoint(\n",
    "    'Clasificacion_perros_V4.keras',       # ruta donde se guardará el modelo\n",
    "    monitor='val_accuracy',  # métrica a monitorear\n",
    "    save_best_only=True,     # guarda solo el mejor modelo\n",
    "    verbose=1\n",
    ")"
   ]
  },
  {
   "cell_type": "code",
   "execution_count": 24,
   "id": "0a4cdf3e-c6a2-4611-8c7f-810ba895b0b6",
   "metadata": {},
   "outputs": [
    {
     "name": "stdout",
     "output_type": "stream",
     "text": [
      "Epoch 1/5\n",
      "\u001b[1m516/516\u001b[0m \u001b[32m━━━━━━━━━━━━━━━━━━━━\u001b[0m\u001b[37m\u001b[0m \u001b[1m0s\u001b[0m 6s/step - accuracy: 0.3766 - loss: 2.8437\n",
      "Epoch 1: val_accuracy improved from -inf to 0.85977, saving model to Clasificacion_perros_V4.keras\n",
      "\u001b[1m516/516\u001b[0m \u001b[32m━━━━━━━━━━━━━━━━━━━━\u001b[0m\u001b[37m\u001b[0m \u001b[1m3955s\u001b[0m 8s/step - accuracy: 0.3770 - loss: 2.8416 - val_accuracy: 0.8598 - val_loss: 0.4703\n",
      "Epoch 2/5\n",
      "\u001b[1m516/516\u001b[0m \u001b[32m━━━━━━━━━━━━━━━━━━━━\u001b[0m\u001b[37m\u001b[0m \u001b[1m0s\u001b[0m 6s/step - accuracy: 0.7507 - loss: 0.8526\n",
      "Epoch 2: val_accuracy improved from 0.85977 to 0.87254, saving model to Clasificacion_perros_V4.keras\n",
      "\u001b[1m516/516\u001b[0m \u001b[32m━━━━━━━━━━━━━━━━━━━━\u001b[0m\u001b[37m\u001b[0m \u001b[1m3948s\u001b[0m 8s/step - accuracy: 0.7507 - loss: 0.8526 - val_accuracy: 0.8725 - val_loss: 0.4159\n",
      "Epoch 3/5\n",
      "\u001b[1m516/516\u001b[0m \u001b[32m━━━━━━━━━━━━━━━━━━━━\u001b[0m\u001b[37m\u001b[0m \u001b[1m0s\u001b[0m 5s/step - accuracy: 0.7831 - loss: 0.7245\n",
      "Epoch 3: val_accuracy improved from 0.87254 to 0.88458, saving model to Clasificacion_perros_V4.keras\n",
      "\u001b[1m516/516\u001b[0m \u001b[32m━━━━━━━━━━━━━━━━━━━━\u001b[0m\u001b[37m\u001b[0m \u001b[1m3469s\u001b[0m 7s/step - accuracy: 0.7831 - loss: 0.7245 - val_accuracy: 0.8846 - val_loss: 0.3911\n",
      "Epoch 4/5\n",
      "\u001b[1m516/516\u001b[0m \u001b[32m━━━━━━━━━━━━━━━━━━━━\u001b[0m\u001b[37m\u001b[0m \u001b[1m0s\u001b[0m 6s/step - accuracy: 0.7997 - loss: 0.6529\n",
      "Epoch 4: val_accuracy did not improve from 0.88458\n",
      "\u001b[1m516/516\u001b[0m \u001b[32m━━━━━━━━━━━━━━━━━━━━\u001b[0m\u001b[37m\u001b[0m \u001b[1m3715s\u001b[0m 7s/step - accuracy: 0.7997 - loss: 0.6529 - val_accuracy: 0.8843 - val_loss: 0.3993\n",
      "Epoch 5/5\n",
      "\u001b[1m516/516\u001b[0m \u001b[32m━━━━━━━━━━━━━━━━━━━━\u001b[0m\u001b[37m\u001b[0m \u001b[1m0s\u001b[0m 5s/step - accuracy: 0.8214 - loss: 0.5906\n",
      "Epoch 5: val_accuracy did not improve from 0.88458\n",
      "\u001b[1m516/516\u001b[0m \u001b[32m━━━━━━━━━━━━━━━━━━━━\u001b[0m\u001b[37m\u001b[0m \u001b[1m3137s\u001b[0m 6s/step - accuracy: 0.8214 - loss: 0.5907 - val_accuracy: 0.8806 - val_loss: 0.4079\n"
     ]
    }
   ],
   "source": [
    "# Entrenar solo la cabeza 5\n",
    "history = head_model.fit(train_data, validation_data=val_data, epochs=5,   callbacks=[checkpoint])"
   ]
  },
  {
   "cell_type": "markdown",
   "id": "7b6479a7-f730-468e-86ac-7dae0c81baea",
   "metadata": {},
   "source": [
    "####  Fine-Tuning del Modelo Preentrenado"
   ]
  },
  {
   "cell_type": "markdown",
   "id": "476bcd9c-adba-4972-8ab4-8200504020d5",
   "metadata": {},
   "source": [
    "En esta sección se realiza el **fine-tuning** de MobileNetV2, desbloqueando las últimas 40 capas para permitir que se ajusten mejor a la tarea de clasificación. Las primeras 130 capas se mantienen congeladas para conservar el conocimiento aprendido previamente en ImageNet.\n",
    "\n",
    "El modelo se recompila con una **tasa de aprendizaje baja (`1e-5`)**, ideal para ajustes finos sin afectar negativamente los pesos preentrenados.\n",
    "\n",
    "Se utilizan los siguientes *callbacks* para controlar el entrenamiento:\n",
    "\n",
    "- **`EarlyStopping`**: detiene el entrenamiento si `val_accuracy` no mejora tras 6 épocas.\n",
    "- **`ModelCheckpoint`**: guarda automáticamente el mejor modelo según la precisión de validación.\n",
    "- **`ReduceLROnPlateau`**: reduce la tasa de aprendizaje si `val_loss` se estanca, afinando el aprendizaje.\n",
    "\n",
    "Finalmente, se entrena el modelo con estas configuraciones por un máximo de 30 épocas.\n"
   ]
  },
  {
   "cell_type": "code",
   "execution_count": 32,
   "id": "e1d32646-ad01-43ce-9608-d7c854063901",
   "metadata": {},
   "outputs": [
    {
     "name": "stdout",
     "output_type": "stream",
     "text": [
      "Capas totales en el modelo: 385\n",
      "Capas desbloqueadas (trainable=True): 40\n",
      "Capas bloqueadas (trainable=False): 345\n"
     ]
    }
   ],
   "source": [
    "#Descongelar capas para hacer Fine-Tuning\n",
    "set_trainable_layers(base_model, 345)"
   ]
  },
  {
   "cell_type": "code",
   "execution_count": 33,
   "id": "3064795c-4459-40e5-b8a3-ad4b92a9cf1b",
   "metadata": {},
   "outputs": [],
   "source": [
    "from tensorflow.keras.optimizers import Adam\n",
    "# Compilar solo la cabeza\n",
    "head_model.compile( \n",
    "    optimizer=Adam(learning_rate=1e-5),\n",
    "    loss='sparse_categorical_crossentropy',\n",
    "    metrics=['accuracy'])"
   ]
  },
  {
   "cell_type": "code",
   "execution_count": 35,
   "id": "6cbf01d4-f3cb-44c9-be88-07f77cca278d",
   "metadata": {},
   "outputs": [
    {
     "data": {
      "text/html": [
       "<pre style=\"white-space:pre;overflow-x:auto;line-height:normal;font-family:Menlo,'DejaVu Sans Mono',consolas,'Courier New',monospace\"><span style=\"font-weight: bold\">Model: \"sequential_1\"</span>\n",
       "</pre>\n"
      ],
      "text/plain": [
       "\u001b[1mModel: \"sequential_1\"\u001b[0m\n"
      ]
     },
     "metadata": {},
     "output_type": "display_data"
    },
    {
     "data": {
      "text/html": [
       "<pre style=\"white-space:pre;overflow-x:auto;line-height:normal;font-family:Menlo,'DejaVu Sans Mono',consolas,'Courier New',monospace\">┏━━━━━━━━━━━━━━━━━━━━━━━━━━━━━━━━━┳━━━━━━━━━━━━━━━━━━━━━━━━┳━━━━━━━━━━━━━━━┓\n",
       "┃<span style=\"font-weight: bold\"> Layer (type)                    </span>┃<span style=\"font-weight: bold\"> Output Shape           </span>┃<span style=\"font-weight: bold\">       Param # </span>┃\n",
       "┡━━━━━━━━━━━━━━━━━━━━━━━━━━━━━━━━━╇━━━━━━━━━━━━━━━━━━━━━━━━╇━━━━━━━━━━━━━━━┩\n",
       "│ efficientnetb3 (<span style=\"color: #0087ff; text-decoration-color: #0087ff\">Functional</span>)     │ (<span style=\"color: #00d7ff; text-decoration-color: #00d7ff\">None</span>, <span style=\"color: #00af00; text-decoration-color: #00af00\">10</span>, <span style=\"color: #00af00; text-decoration-color: #00af00\">10</span>, <span style=\"color: #00af00; text-decoration-color: #00af00\">1536</span>)   │    <span style=\"color: #00af00; text-decoration-color: #00af00\">10,783,535</span> │\n",
       "├─────────────────────────────────┼────────────────────────┼───────────────┤\n",
       "│ global_average_pooling2d_1      │ (<span style=\"color: #00d7ff; text-decoration-color: #00d7ff\">None</span>, <span style=\"color: #00af00; text-decoration-color: #00af00\">1536</span>)           │             <span style=\"color: #00af00; text-decoration-color: #00af00\">0</span> │\n",
       "│ (<span style=\"color: #0087ff; text-decoration-color: #0087ff\">GlobalAveragePooling2D</span>)        │                        │               │\n",
       "├─────────────────────────────────┼────────────────────────┼───────────────┤\n",
       "│ dense_3 (<span style=\"color: #0087ff; text-decoration-color: #0087ff\">Dense</span>)                 │ (<span style=\"color: #00d7ff; text-decoration-color: #00d7ff\">None</span>, <span style=\"color: #00af00; text-decoration-color: #00af00\">256</span>)            │       <span style=\"color: #00af00; text-decoration-color: #00af00\">393,472</span> │\n",
       "├─────────────────────────────────┼────────────────────────┼───────────────┤\n",
       "│ dropout_2 (<span style=\"color: #0087ff; text-decoration-color: #0087ff\">Dropout</span>)             │ (<span style=\"color: #00d7ff; text-decoration-color: #00d7ff\">None</span>, <span style=\"color: #00af00; text-decoration-color: #00af00\">256</span>)            │             <span style=\"color: #00af00; text-decoration-color: #00af00\">0</span> │\n",
       "├─────────────────────────────────┼────────────────────────┼───────────────┤\n",
       "│ dense_4 (<span style=\"color: #0087ff; text-decoration-color: #0087ff\">Dense</span>)                 │ (<span style=\"color: #00d7ff; text-decoration-color: #00d7ff\">None</span>, <span style=\"color: #00af00; text-decoration-color: #00af00\">128</span>)            │        <span style=\"color: #00af00; text-decoration-color: #00af00\">32,896</span> │\n",
       "├─────────────────────────────────┼────────────────────────┼───────────────┤\n",
       "│ dropout_3 (<span style=\"color: #0087ff; text-decoration-color: #0087ff\">Dropout</span>)             │ (<span style=\"color: #00d7ff; text-decoration-color: #00d7ff\">None</span>, <span style=\"color: #00af00; text-decoration-color: #00af00\">128</span>)            │             <span style=\"color: #00af00; text-decoration-color: #00af00\">0</span> │\n",
       "├─────────────────────────────────┼────────────────────────┼───────────────┤\n",
       "│ dense_5 (<span style=\"color: #0087ff; text-decoration-color: #0087ff\">Dense</span>)                 │ (<span style=\"color: #00d7ff; text-decoration-color: #00d7ff\">None</span>, <span style=\"color: #00af00; text-decoration-color: #00af00\">120</span>)            │        <span style=\"color: #00af00; text-decoration-color: #00af00\">15,480</span> │\n",
       "└─────────────────────────────────┴────────────────────────┴───────────────┘\n",
       "</pre>\n"
      ],
      "text/plain": [
       "┏━━━━━━━━━━━━━━━━━━━━━━━━━━━━━━━━━┳━━━━━━━━━━━━━━━━━━━━━━━━┳━━━━━━━━━━━━━━━┓\n",
       "┃\u001b[1m \u001b[0m\u001b[1mLayer (type)                   \u001b[0m\u001b[1m \u001b[0m┃\u001b[1m \u001b[0m\u001b[1mOutput Shape          \u001b[0m\u001b[1m \u001b[0m┃\u001b[1m \u001b[0m\u001b[1m      Param #\u001b[0m\u001b[1m \u001b[0m┃\n",
       "┡━━━━━━━━━━━━━━━━━━━━━━━━━━━━━━━━━╇━━━━━━━━━━━━━━━━━━━━━━━━╇━━━━━━━━━━━━━━━┩\n",
       "│ efficientnetb3 (\u001b[38;5;33mFunctional\u001b[0m)     │ (\u001b[38;5;45mNone\u001b[0m, \u001b[38;5;34m10\u001b[0m, \u001b[38;5;34m10\u001b[0m, \u001b[38;5;34m1536\u001b[0m)   │    \u001b[38;5;34m10,783,535\u001b[0m │\n",
       "├─────────────────────────────────┼────────────────────────┼───────────────┤\n",
       "│ global_average_pooling2d_1      │ (\u001b[38;5;45mNone\u001b[0m, \u001b[38;5;34m1536\u001b[0m)           │             \u001b[38;5;34m0\u001b[0m │\n",
       "│ (\u001b[38;5;33mGlobalAveragePooling2D\u001b[0m)        │                        │               │\n",
       "├─────────────────────────────────┼────────────────────────┼───────────────┤\n",
       "│ dense_3 (\u001b[38;5;33mDense\u001b[0m)                 │ (\u001b[38;5;45mNone\u001b[0m, \u001b[38;5;34m256\u001b[0m)            │       \u001b[38;5;34m393,472\u001b[0m │\n",
       "├─────────────────────────────────┼────────────────────────┼───────────────┤\n",
       "│ dropout_2 (\u001b[38;5;33mDropout\u001b[0m)             │ (\u001b[38;5;45mNone\u001b[0m, \u001b[38;5;34m256\u001b[0m)            │             \u001b[38;5;34m0\u001b[0m │\n",
       "├─────────────────────────────────┼────────────────────────┼───────────────┤\n",
       "│ dense_4 (\u001b[38;5;33mDense\u001b[0m)                 │ (\u001b[38;5;45mNone\u001b[0m, \u001b[38;5;34m128\u001b[0m)            │        \u001b[38;5;34m32,896\u001b[0m │\n",
       "├─────────────────────────────────┼────────────────────────┼───────────────┤\n",
       "│ dropout_3 (\u001b[38;5;33mDropout\u001b[0m)             │ (\u001b[38;5;45mNone\u001b[0m, \u001b[38;5;34m128\u001b[0m)            │             \u001b[38;5;34m0\u001b[0m │\n",
       "├─────────────────────────────────┼────────────────────────┼───────────────┤\n",
       "│ dense_5 (\u001b[38;5;33mDense\u001b[0m)                 │ (\u001b[38;5;45mNone\u001b[0m, \u001b[38;5;34m120\u001b[0m)            │        \u001b[38;5;34m15,480\u001b[0m │\n",
       "└─────────────────────────────────┴────────────────────────┴───────────────┘\n"
      ]
     },
     "metadata": {},
     "output_type": "display_data"
    },
    {
     "data": {
      "text/html": [
       "<pre style=\"white-space:pre;overflow-x:auto;line-height:normal;font-family:Menlo,'DejaVu Sans Mono',consolas,'Courier New',monospace\"><span style=\"font-weight: bold\"> Total params: </span><span style=\"color: #00af00; text-decoration-color: #00af00\">11,225,383</span> (42.82 MB)\n",
       "</pre>\n"
      ],
      "text/plain": [
       "\u001b[1m Total params: \u001b[0m\u001b[38;5;34m11,225,383\u001b[0m (42.82 MB)\n"
      ]
     },
     "metadata": {},
     "output_type": "display_data"
    },
    {
     "data": {
      "text/html": [
       "<pre style=\"white-space:pre;overflow-x:auto;line-height:normal;font-family:Menlo,'DejaVu Sans Mono',consolas,'Courier New',monospace\"><span style=\"font-weight: bold\"> Trainable params: </span><span style=\"color: #00af00; text-decoration-color: #00af00\">4,805,292</span> (18.33 MB)\n",
       "</pre>\n"
      ],
      "text/plain": [
       "\u001b[1m Trainable params: \u001b[0m\u001b[38;5;34m4,805,292\u001b[0m (18.33 MB)\n"
      ]
     },
     "metadata": {},
     "output_type": "display_data"
    },
    {
     "data": {
      "text/html": [
       "<pre style=\"white-space:pre;overflow-x:auto;line-height:normal;font-family:Menlo,'DejaVu Sans Mono',consolas,'Courier New',monospace\"><span style=\"font-weight: bold\"> Non-trainable params: </span><span style=\"color: #00af00; text-decoration-color: #00af00\">6,420,091</span> (24.49 MB)\n",
       "</pre>\n"
      ],
      "text/plain": [
       "\u001b[1m Non-trainable params: \u001b[0m\u001b[38;5;34m6,420,091\u001b[0m (24.49 MB)\n"
      ]
     },
     "metadata": {},
     "output_type": "display_data"
    }
   ],
   "source": [
    "head_model.summary()"
   ]
  },
  {
   "cell_type": "code",
   "execution_count": 36,
   "id": "a30449cf-895b-4ac0-b6a9-b77f80846871",
   "metadata": {},
   "outputs": [],
   "source": [
    "# EarlyStopping para detener entrenamiento si val_accuracy no mejora en 5 épocas seguidas\n",
    "early_stop = EarlyStopping(\n",
    "    monitor='val_accuracy',  # métrica a monitorear\n",
    "    patience=6,              # espera 6 epochs sin mejora para detener\n",
    "    verbose=1,\n",
    "    restore_best_weights=True  # restaura los pesos del mejor epoch al final\n",
    ")\n",
    "\n",
    "# ModelCheckpoint para guardar el mejor modelo durante el entrenamiento\n",
    "checkpoint = ModelCheckpoint(\n",
    "    'Clasificacion_perros_V4_P2.keras',       # ruta donde se guardará el modelo\n",
    "    monitor='val_accuracy',  # métrica a monitorear\n",
    "    save_best_only=True,     # guarda solo el mejor modelo\n",
    "    verbose=1\n",
    ")\n",
    "\n",
    "# reduce a la mitad (de 1e-5 a 5e-6, luego a 2.5e-6, etc.)\n",
    "reduce_lr = ReduceLROnPlateau(\n",
    "    monitor='val_loss',\n",
    "    factor=0.7,        \n",
    "    patience=4,        # si val_loss no mejora en 4 épocas, reduce LR\n",
    "    verbose=1,\n",
    "    min_lr=1e-7        # no baja de 1e-7\n",
    ")\n"
   ]
  },
  {
   "cell_type": "code",
   "execution_count": null,
   "id": "9c605610-c761-4588-a73f-db6c5422215d",
   "metadata": {},
   "outputs": [
    {
     "name": "stdout",
     "output_type": "stream",
     "text": [
      "Epoch 1/20\n",
      "\u001b[1m516/516\u001b[0m \u001b[32m━━━━━━━━━━━━━━━━━━━━\u001b[0m\u001b[37m\u001b[0m \u001b[1m0s\u001b[0m 6s/step - accuracy: 0.6413 - loss: 1.3360\n",
      "Epoch 1: val_accuracy improved from -inf to 0.85069, saving model to Clasificacion_perros_V4_P2.keras\n",
      "\u001b[1m516/516\u001b[0m \u001b[32m━━━━━━━━━━━━━━━━━━━━\u001b[0m\u001b[37m\u001b[0m \u001b[1m3599s\u001b[0m 7s/step - accuracy: 0.6414 - loss: 1.3358 - val_accuracy: 0.8507 - val_loss: 0.5190 - learning_rate: 1.0000e-05\n",
      "Epoch 2/20\n",
      "\u001b[1m516/516\u001b[0m \u001b[32m━━━━━━━━━━━━━━━━━━━━\u001b[0m\u001b[37m\u001b[0m \u001b[1m0s\u001b[0m 6s/step - accuracy: 0.7145 - loss: 0.9986\n",
      "Epoch 2: val_accuracy improved from 0.85069 to 0.86346, saving model to Clasificacion_perros_V4_P2.keras\n",
      "\u001b[1m516/516\u001b[0m \u001b[32m━━━━━━━━━━━━━━━━━━━━\u001b[0m\u001b[37m\u001b[0m \u001b[1m3505s\u001b[0m 7s/step - accuracy: 0.7146 - loss: 0.9986 - val_accuracy: 0.8635 - val_loss: 0.4730 - learning_rate: 1.0000e-05\n",
      "Epoch 3/20\n",
      "\u001b[1m516/516\u001b[0m \u001b[32m━━━━━━━━━━━━━━━━━━━━\u001b[0m\u001b[37m\u001b[0m \u001b[1m0s\u001b[0m 6s/step - accuracy: 0.7357 - loss: 0.9038\n",
      "Epoch 3: val_accuracy improved from 0.86346 to 0.87181, saving model to Clasificacion_perros_V4_P2.keras\n",
      "\u001b[1m516/516\u001b[0m \u001b[32m━━━━━━━━━━━━━━━━━━━━\u001b[0m\u001b[37m\u001b[0m \u001b[1m3408s\u001b[0m 7s/step - accuracy: 0.7357 - loss: 0.9038 - val_accuracy: 0.8718 - val_loss: 0.4316 - learning_rate: 1.0000e-05\n",
      "Epoch 4/20\n",
      "\u001b[1m516/516\u001b[0m \u001b[32m━━━━━━━━━━━━━━━━━━━━\u001b[0m\u001b[37m\u001b[0m \u001b[1m0s\u001b[0m 6s/step - accuracy: 0.7522 - loss: 0.8219\n",
      "Epoch 4: val_accuracy improved from 0.87181 to 0.87991, saving model to Clasificacion_perros_V4_P2.keras\n",
      "\u001b[1m516/516\u001b[0m \u001b[32m━━━━━━━━━━━━━━━━━━━━\u001b[0m\u001b[37m\u001b[0m \u001b[1m3435s\u001b[0m 7s/step - accuracy: 0.7523 - loss: 0.8219 - val_accuracy: 0.8799 - val_loss: 0.4232 - learning_rate: 1.0000e-05\n",
      "Epoch 5/20\n",
      "\u001b[1m516/516\u001b[0m \u001b[32m━━━━━━━━━━━━━━━━━━━━\u001b[0m\u001b[37m\u001b[0m \u001b[1m0s\u001b[0m 6s/step - accuracy: 0.7628 - loss: 0.7831\n",
      "Epoch 5: val_accuracy improved from 0.87991 to 0.88237, saving model to Clasificacion_perros_V4_P2.keras\n",
      "\u001b[1m516/516\u001b[0m \u001b[32m━━━━━━━━━━━━━━━━━━━━\u001b[0m\u001b[37m\u001b[0m \u001b[1m3465s\u001b[0m 7s/step - accuracy: 0.7628 - loss: 0.7831 - val_accuracy: 0.8824 - val_loss: 0.4124 - learning_rate: 1.0000e-05\n",
      "Epoch 6/20\n",
      "\u001b[1m516/516\u001b[0m \u001b[32m━━━━━━━━━━━━━━━━━━━━\u001b[0m\u001b[37m\u001b[0m \u001b[1m0s\u001b[0m 6s/step - accuracy: 0.7701 - loss: 0.7569\n",
      "Epoch 6: val_accuracy improved from 0.88237 to 0.88360, saving model to Clasificacion_perros_V4_P2.keras\n",
      "\u001b[1m516/516\u001b[0m \u001b[32m━━━━━━━━━━━━━━━━━━━━\u001b[0m\u001b[37m\u001b[0m \u001b[1m3438s\u001b[0m 7s/step - accuracy: 0.7701 - loss: 0.7569 - val_accuracy: 0.8836 - val_loss: 0.4019 - learning_rate: 1.0000e-05\n",
      "Epoch 7/20\n",
      "\u001b[1m516/516\u001b[0m \u001b[32m━━━━━━━━━━━━━━━━━━━━\u001b[0m\u001b[37m\u001b[0m \u001b[1m0s\u001b[0m 6s/step - accuracy: 0.7885 - loss: 0.7087\n",
      "Epoch 7: val_accuracy improved from 0.88360 to 0.88654, saving model to Clasificacion_perros_V4_P2.keras\n",
      "\u001b[1m516/516\u001b[0m \u001b[32m━━━━━━━━━━━━━━━━━━━━\u001b[0m\u001b[37m\u001b[0m \u001b[1m3454s\u001b[0m 7s/step - accuracy: 0.7885 - loss: 0.7088 - val_accuracy: 0.8865 - val_loss: 0.3857 - learning_rate: 1.0000e-05\n",
      "Epoch 8/20\n",
      "\u001b[1m516/516\u001b[0m \u001b[32m━━━━━━━━━━━━━━━━━━━━\u001b[0m\u001b[37m\u001b[0m \u001b[1m0s\u001b[0m 6s/step - accuracy: 0.7897 - loss: 0.6855\n",
      "Epoch 8: val_accuracy improved from 0.88654 to 0.88998, saving model to Clasificacion_perros_V4_P2.keras\n",
      "\u001b[1m516/516\u001b[0m \u001b[32m━━━━━━━━━━━━━━━━━━━━\u001b[0m\u001b[37m\u001b[0m \u001b[1m3450s\u001b[0m 7s/step - accuracy: 0.7897 - loss: 0.6855 - val_accuracy: 0.8900 - val_loss: 0.3779 - learning_rate: 1.0000e-05\n",
      "Epoch 9/20\n",
      "\u001b[1m516/516\u001b[0m \u001b[32m━━━━━━━━━━━━━━━━━━━━\u001b[0m\u001b[37m\u001b[0m \u001b[1m0s\u001b[0m 6s/step - accuracy: 0.7911 - loss: 0.6966\n",
      "Epoch 9: val_accuracy improved from 0.88998 to 0.89219, saving model to Clasificacion_perros_V4_P2.keras\n",
      "\u001b[1m516/516\u001b[0m \u001b[32m━━━━━━━━━━━━━━━━━━━━\u001b[0m\u001b[37m\u001b[0m \u001b[1m3500s\u001b[0m 7s/step - accuracy: 0.7911 - loss: 0.6966 - val_accuracy: 0.8922 - val_loss: 0.3848 - learning_rate: 1.0000e-05\n",
      "Epoch 10/20\n",
      "\u001b[1m516/516\u001b[0m \u001b[32m━━━━━━━━━━━━━━━━━━━━\u001b[0m\u001b[37m\u001b[0m \u001b[1m0s\u001b[0m 6s/step - accuracy: 0.7957 - loss: 0.6780\n",
      "Epoch 10: val_accuracy did not improve from 0.89219\n",
      "\u001b[1m516/516\u001b[0m \u001b[32m━━━━━━━━━━━━━━━━━━━━\u001b[0m\u001b[37m\u001b[0m \u001b[1m3439s\u001b[0m 7s/step - accuracy: 0.7957 - loss: 0.6780 - val_accuracy: 0.8915 - val_loss: 0.3750 - learning_rate: 1.0000e-05\n",
      "Epoch 11/20\n",
      "\u001b[1m516/516\u001b[0m \u001b[32m━━━━━━━━━━━━━━━━━━━━\u001b[0m\u001b[37m\u001b[0m \u001b[1m0s\u001b[0m 6s/step - accuracy: 0.8039 - loss: 0.6576\n",
      "Epoch 11: val_accuracy did not improve from 0.89219\n",
      "\u001b[1m516/516\u001b[0m \u001b[32m━━━━━━━━━━━━━━━━━━━━\u001b[0m\u001b[37m\u001b[0m \u001b[1m3440s\u001b[0m 7s/step - accuracy: 0.8039 - loss: 0.6576 - val_accuracy: 0.8897 - val_loss: 0.3729 - learning_rate: 1.0000e-05\n",
      "Epoch 12/20\n",
      "\u001b[1m516/516\u001b[0m \u001b[32m━━━━━━━━━━━━━━━━━━━━\u001b[0m\u001b[37m\u001b[0m \u001b[1m0s\u001b[0m 6s/step - accuracy: 0.8033 - loss: 0.6341\n",
      "Epoch 12: val_accuracy did not improve from 0.89219\n",
      "\u001b[1m516/516\u001b[0m \u001b[32m━━━━━━━━━━━━━━━━━━━━\u001b[0m\u001b[37m\u001b[0m \u001b[1m3407s\u001b[0m 7s/step - accuracy: 0.8033 - loss: 0.6342 - val_accuracy: 0.8905 - val_loss: 0.3727 - learning_rate: 1.0000e-05\n",
      "Epoch 13/20\n",
      "\u001b[1m516/516\u001b[0m \u001b[32m━━━━━━━━━━━━━━━━━━━━\u001b[0m\u001b[37m\u001b[0m \u001b[1m0s\u001b[0m 6s/step - accuracy: 0.8090 - loss: 0.6386\n",
      "Epoch 13: val_accuracy did not improve from 0.89219\n",
      "\u001b[1m516/516\u001b[0m \u001b[32m━━━━━━━━━━━━━━━━━━━━\u001b[0m\u001b[37m\u001b[0m \u001b[1m3408s\u001b[0m 7s/step - accuracy: 0.8090 - loss: 0.6387 - val_accuracy: 0.8915 - val_loss: 0.3665 - learning_rate: 1.0000e-05\n",
      "Epoch 14/20\n",
      "\u001b[1m516/516\u001b[0m \u001b[32m━━━━━━━━━━━━━━━━━━━━\u001b[0m\u001b[37m\u001b[0m \u001b[1m0s\u001b[0m 6s/step - accuracy: 0.8104 - loss: 0.6123\n",
      "Epoch 14: val_accuracy improved from 0.89219 to 0.89391, saving model to Clasificacion_perros_V4_P2.keras\n",
      "\u001b[1m516/516\u001b[0m \u001b[32m━━━━━━━━━━━━━━━━━━━━\u001b[0m\u001b[37m\u001b[0m \u001b[1m3412s\u001b[0m 7s/step - accuracy: 0.8104 - loss: 0.6123 - val_accuracy: 0.8939 - val_loss: 0.3713 - learning_rate: 1.0000e-05\n",
      "Epoch 15/20\n",
      "\u001b[1m516/516\u001b[0m \u001b[32m━━━━━━━━━━━━━━━━━━━━\u001b[0m\u001b[37m\u001b[0m \u001b[1m0s\u001b[0m 6s/step - accuracy: 0.8191 - loss: 0.5772\n",
      "Epoch 15: val_accuracy did not improve from 0.89391\n",
      "\u001b[1m516/516\u001b[0m \u001b[32m━━━━━━━━━━━━━━━━━━━━\u001b[0m\u001b[37m\u001b[0m \u001b[1m3434s\u001b[0m 7s/step - accuracy: 0.8191 - loss: 0.5772 - val_accuracy: 0.8932 - val_loss: 0.3670 - learning_rate: 1.0000e-05\n",
      "Epoch 16/20\n",
      "\u001b[1m516/516\u001b[0m \u001b[32m━━━━━━━━━━━━━━━━━━━━\u001b[0m\u001b[37m\u001b[0m \u001b[1m0s\u001b[0m 6s/step - accuracy: 0.8140 - loss: 0.5963\n",
      "Epoch 16: val_accuracy did not improve from 0.89391\n",
      "\u001b[1m516/516\u001b[0m \u001b[32m━━━━━━━━━━━━━━━━━━━━\u001b[0m\u001b[37m\u001b[0m \u001b[1m3439s\u001b[0m 7s/step - accuracy: 0.8140 - loss: 0.5963 - val_accuracy: 0.8915 - val_loss: 0.3800 - learning_rate: 1.0000e-05\n",
      "Epoch 17/20\n",
      "\u001b[1m516/516\u001b[0m \u001b[32m━━━━━━━━━━━━━━━━━━━━\u001b[0m\u001b[37m\u001b[0m \u001b[1m0s\u001b[0m 6s/step - accuracy: 0.8202 - loss: 0.5847\n",
      "Epoch 17: val_accuracy improved from 0.89391 to 0.89440, saving model to Clasificacion_perros_V4_P2.keras\n",
      "\u001b[1m516/516\u001b[0m \u001b[32m━━━━━━━━━━━━━━━━━━━━\u001b[0m\u001b[37m\u001b[0m \u001b[1m3411s\u001b[0m 7s/step - accuracy: 0.8202 - loss: 0.5847 - val_accuracy: 0.8944 - val_loss: 0.3563 - learning_rate: 1.0000e-05\n",
      "Epoch 18/20\n",
      "\u001b[1m516/516\u001b[0m \u001b[32m━━━━━━━━━━━━━━━━━━━━\u001b[0m\u001b[37m\u001b[0m \u001b[1m0s\u001b[0m 6s/step - accuracy: 0.8179 - loss: 0.5868\n",
      "Epoch 18: val_accuracy improved from 0.89440 to 0.89514, saving model to Clasificacion_perros_V4_P2.keras\n",
      "\u001b[1m516/516\u001b[0m \u001b[32m━━━━━━━━━━━━━━━━━━━━\u001b[0m\u001b[37m\u001b[0m \u001b[1m3411s\u001b[0m 7s/step - accuracy: 0.8179 - loss: 0.5867 - val_accuracy: 0.8951 - val_loss: 0.3684 - learning_rate: 1.0000e-05\n",
      "Epoch 19/20\n",
      "\u001b[1m516/516\u001b[0m \u001b[32m━━━━━━━━━━━━━━━━━━━━\u001b[0m\u001b[37m\u001b[0m \u001b[1m0s\u001b[0m 6s/step - accuracy: 0.8219 - loss: 0.5796\n",
      "Epoch 19: val_accuracy improved from 0.89514 to 0.89587, saving model to Clasificacion_perros_V4_P2.keras\n",
      "\u001b[1m516/516\u001b[0m \u001b[32m━━━━━━━━━━━━━━━━━━━━\u001b[0m\u001b[37m\u001b[0m \u001b[1m3439s\u001b[0m 7s/step - accuracy: 0.8220 - loss: 0.5795 - val_accuracy: 0.8959 - val_loss: 0.3671 - learning_rate: 1.0000e-05\n",
      "Epoch 20/20\n",
      "\u001b[1m212/516\u001b[0m \u001b[32m━━━━━━━━\u001b[0m\u001b[37m━━━━━━━━━━━━\u001b[0m \u001b[1m28:33\u001b[0m 6s/step - accuracy: 0.8214 - loss: 0.5548"
     ]
    }
   ],
   "source": [
    "# Entrenamos el modelo con las capas descongeladas (40) \n",
    "history2 = head_model.fit(\n",
    "    train_data,\n",
    "    validation_data=val_data,\n",
    "    epochs=20,\n",
    "    callbacks=[checkpoint, reduce_lr,early_stop]\n",
    ")"
   ]
  },
  {
   "cell_type": "markdown",
   "id": "4b5226f9-2128-46b9-897d-34fad7beae1f",
   "metadata": {},
   "source": [
    "### Comprobación Mediante el Conjunto de Prueba"
   ]
  },
  {
   "cell_type": "code",
   "execution_count": 9,
   "id": "dbf5dbd8-eb6f-423a-95f5-179eff91cc20",
   "metadata": {},
   "outputs": [],
   "source": [
    "#Cargar mejor modelos\n",
    "from tensorflow.keras.models import load_model\n",
    "modelo = load_model(\"Clasificacion_perros_V4_P2.keras\")"
   ]
  },
  {
   "cell_type": "markdown",
   "id": "ce3aae0d-7b0b-46df-a387-7190cdc407e9",
   "metadata": {},
   "source": [
    "#### Prediccion sobre el conjunto de Prueba"
   ]
  },
  {
   "cell_type": "code",
   "execution_count": 10,
   "id": "fa2676dd-432e-4f39-a6d9-8dc82ee17e25",
   "metadata": {},
   "outputs": [
    {
     "name": "stderr",
     "output_type": "stream",
     "text": [
      "C:\\ProgramData\\anaconda3\\Lib\\site-packages\\keras\\src\\trainers\\data_adapters\\py_dataset_adapter.py:121: UserWarning: Your `PyDataset` class should call `super().__init__(**kwargs)` in its constructor. `**kwargs` can include `workers`, `use_multiprocessing`, `max_queue_size`. Do not pass these arguments to `fit()`, as they will be ignored.\n",
      "  self._warn_if_super_not_called()\n"
     ]
    },
    {
     "name": "stdout",
     "output_type": "stream",
     "text": [
      "\u001b[1m128/128\u001b[0m \u001b[32m━━━━━━━━━━━━━━━━━━━━\u001b[0m\u001b[37m\u001b[0m \u001b[1m650s\u001b[0m 5s/step\n"
     ]
    }
   ],
   "source": [
    "#Obtenemos la matriz de Probabilidades\n",
    "y_probs = modelo.predict(val_data, verbose=1)"
   ]
  },
  {
   "cell_type": "code",
   "execution_count": 11,
   "id": "94331e10-a966-4f53-8d79-770d181e3347",
   "metadata": {},
   "outputs": [],
   "source": [
    "# Si tienes one-hot o probabilidades:\n",
    "y_pred = np.argmax(y_probs, axis=1)  # predicción final por clase"
   ]
  },
  {
   "cell_type": "code",
   "execution_count": 12,
   "id": "fea2abe1-49dd-4e4f-ae6d-b4b1ea5582c8",
   "metadata": {},
   "outputs": [],
   "source": [
    "# Esto te da los 0s y 1s reales del test_set\n",
    "y_true = val_data.classes  "
   ]
  },
  {
   "cell_type": "code",
   "execution_count": 13,
   "id": "5a810128-8ab6-4662-9aa4-6b57055e0565",
   "metadata": {},
   "outputs": [],
   "source": [
    "#  Obtener nombres de clases (opcional, si quieres que el reporte sea legible)\n",
    "class_names = list(val_data.class_indices.keys())"
   ]
  },
  {
   "cell_type": "markdown",
   "id": "e2a8f451-ad44-4268-9fba-756b7581606e",
   "metadata": {},
   "source": [
    "#### Metricas sobre el conjunto de Prueba"
   ]
  },
  {
   "cell_type": "code",
   "execution_count": 14,
   "id": "5660a1c8-2913-4af9-ae3f-c2862e92a7b0",
   "metadata": {},
   "outputs": [
    {
     "name": "stdout",
     "output_type": "stream",
     "text": [
      "              precision    recall  f1-score   support\n",
      "\n",
      "           0       0.96      0.90      0.93        30\n",
      "           1       0.90      0.95      0.92        37\n",
      "           2       0.83      0.98      0.90        50\n",
      "           3       0.93      0.86      0.89        29\n",
      "           4       0.81      0.83      0.82        42\n",
      "           5       1.00      0.95      0.97        37\n",
      "           6       0.97      0.92      0.95        39\n",
      "           7       0.89      0.94      0.91        34\n",
      "           8       0.79      0.79      0.79        34\n",
      "           9       0.94      0.98      0.96        47\n",
      "          10       0.80      0.94      0.87        35\n",
      "          11       0.79      0.87      0.83        39\n",
      "          12       0.90      0.95      0.92        37\n",
      "          13       0.91      0.94      0.93        34\n",
      "          14       0.97      0.90      0.93        31\n",
      "          15       0.69      0.60      0.64        30\n",
      "          16       0.91      0.68      0.78        31\n",
      "          17       0.80      0.83      0.81        29\n",
      "          18       1.00      0.97      0.98        30\n",
      "          19       0.84      0.86      0.85        43\n",
      "          20       0.97      0.94      0.96        36\n",
      "          21       0.91      0.86      0.89        37\n",
      "          22       0.92      0.95      0.93        37\n",
      "          23       1.00      1.00      1.00        39\n",
      "          24       0.93      0.93      0.93        30\n",
      "          25       0.95      0.95      0.95        40\n",
      "          26       0.89      0.89      0.89        46\n",
      "          27       0.91      0.97      0.94        32\n",
      "          28       0.68      0.74      0.71        31\n",
      "          29       0.77      0.62      0.69        32\n",
      "          30       0.95      1.00      0.97        36\n",
      "          31       0.94      1.00      0.97        34\n",
      "          32       0.89      0.97      0.93        35\n",
      "          33       1.00      0.88      0.94        33\n",
      "          34       0.86      0.88      0.87        34\n",
      "          35       0.94      0.81      0.87        37\n",
      "          36       0.88      0.88      0.88        32\n",
      "          37       0.90      0.87      0.89        31\n",
      "          38       0.94      0.85      0.89        39\n",
      "          39       1.00      0.95      0.97        40\n",
      "          40       0.89      0.97      0.93        40\n",
      "          41       0.87      1.00      0.93        39\n",
      "          42       0.92      0.87      0.89        39\n",
      "          43       0.97      1.00      0.99        36\n",
      "          44       0.89      0.94      0.92        36\n",
      "          45       0.83      0.83      0.83        30\n",
      "          46       0.82      0.90      0.86        31\n",
      "          47       0.92      0.71      0.80        31\n",
      "          48       1.00      0.87      0.93        31\n",
      "          49       0.91      0.78      0.84        41\n",
      "          50       0.84      0.89      0.86        36\n",
      "          51       0.91      0.94      0.92        31\n",
      "          52       0.82      0.94      0.87        33\n",
      "          53       0.76      0.76      0.76        37\n",
      "          54       0.82      0.90      0.86        30\n",
      "          55       0.88      0.93      0.90        30\n",
      "          56       0.90      0.87      0.88        30\n",
      "          57       0.90      0.79      0.84        34\n",
      "          58       0.91      0.97      0.94        33\n",
      "          59       0.97      1.00      0.98        30\n",
      "          60       0.93      0.93      0.93        30\n",
      "          61       0.93      0.84      0.89        32\n",
      "          62       1.00      0.94      0.97        31\n",
      "          63       0.97      0.93      0.95        30\n",
      "          64       0.87      0.90      0.89        30\n",
      "          65       0.97      0.97      0.97        30\n",
      "          66       0.81      0.94      0.87        31\n",
      "          67       0.88      0.93      0.90        30\n",
      "          68       0.84      0.84      0.84        31\n",
      "          69       0.96      0.90      0.93        30\n",
      "          70       0.93      0.93      0.93        30\n",
      "          71       0.96      0.83      0.89        30\n",
      "          72       0.94      0.97      0.95        30\n",
      "          73       0.97      1.00      0.98        30\n",
      "          74       0.93      0.93      0.93        30\n",
      "          75       0.96      0.90      0.93        30\n",
      "          76       0.82      0.77      0.79        30\n",
      "          77       1.00      0.93      0.97        30\n",
      "          78       1.00      0.94      0.97        33\n",
      "          79       0.83      0.94      0.88        31\n",
      "          80       1.00      0.53      0.70        30\n",
      "          81       0.72      0.97      0.83        30\n",
      "          82       0.87      0.90      0.89        30\n",
      "          83       0.91      1.00      0.95        30\n",
      "          84       0.93      0.93      0.93        30\n",
      "          85       0.93      0.90      0.92        30\n",
      "          86       0.92      0.92      0.92        36\n",
      "          87       0.84      0.79      0.81        33\n",
      "          88       0.91      0.98      0.94        43\n",
      "          89       0.72      0.70      0.71        30\n",
      "          90       0.85      0.85      0.85        40\n",
      "          91       0.90      0.90      0.90        30\n",
      "          92       0.84      1.00      0.91        31\n",
      "          93       1.00      0.87      0.93        30\n",
      "          94       0.91      0.94      0.92        31\n",
      "          95       1.00      0.87      0.93        31\n",
      "          96       1.00      0.97      0.99        34\n",
      "          97       0.50      0.13      0.21        30\n",
      "          98       0.97      0.89      0.93        35\n",
      "          99       0.57      0.89      0.69        38\n",
      "         100       0.93      0.90      0.92        30\n",
      "         101       0.97      0.93      0.95        41\n",
      "         102       1.00      0.93      0.96        40\n",
      "         103       0.91      0.98      0.94        42\n",
      "         104       0.88      0.92      0.90        39\n",
      "         105       0.80      0.86      0.83        42\n",
      "         106       0.88      1.00      0.93        43\n",
      "         107       0.95      0.98      0.97        43\n",
      "         108       1.00      1.00      1.00        39\n",
      "         109       1.00      0.97      0.98        31\n",
      "         110       0.97      0.93      0.95        30\n",
      "         111       0.78      0.97      0.86        36\n",
      "         112       0.85      0.74      0.79        31\n",
      "         113       0.80      0.67      0.73        30\n",
      "         114       0.75      0.77      0.76        31\n",
      "         115       0.84      0.87      0.86        31\n",
      "         116       1.00      0.97      0.98        31\n",
      "         117       0.80      0.77      0.79        31\n",
      "         118       0.97      0.97      0.97        30\n",
      "         119       1.00      1.00      1.00        33\n",
      "\n",
      "    accuracy                           0.89      4072\n",
      "   macro avg       0.90      0.89      0.89      4072\n",
      "weighted avg       0.90      0.89      0.89      4072\n",
      "\n"
     ]
    }
   ],
   "source": [
    "#Accuracy, precision, recall y f-score\n",
    "print(classification_report(y_true, y_pred))"
   ]
  },
  {
   "cell_type": "code",
   "execution_count": 15,
   "id": "0088f622-ec63-4d26-9e1d-19cf15c8360f",
   "metadata": {},
   "outputs": [
    {
     "data": {
      "image/png": "[encoded data removed]",
      "text/plain": [
       "<Figure size 800x600 with 2 Axes>"
      ]
     },
     "metadata": {},
     "output_type": "display_data"
    }
   ],
   "source": [
    "# Matriz de confusión normalizada\n",
    "cm = confusion_matrix(y_true, y_pred, normalize='true')\n",
    "\n",
    "# Errores por clase: total menos aciertos\n",
    "errors = np.sum(cm, axis=1) - np.diag(cm)\n",
    "top_classes = np.argsort(errors)[-10:]  # las 10 más problemáticas\n",
    "\n",
    "# Submatriz para esas clases\n",
    "cm_top = cm[np.ix_(top_classes, top_classes)]\n",
    "\n",
    "# Mostrar\n",
    "plt.figure(figsize=(8, 6))\n",
    "sns.heatmap(cm_top, annot=True, fmt=\".2f\", cmap=\"Reds\", \n",
    "            xticklabels=top_classes, yticklabels=top_classes)\n",
    "plt.title(\"Top 10 clases más confundidas\")\n",
    "plt.xlabel(\"Predicción\")\n",
    "plt.ylabel(\"Real\")\n",
    "plt.tight_layout()\n",
    "plt.show()"
   ]
  },
  {
   "cell_type": "markdown",
   "id": "415d7f6b-9e3d-445a-893d-1c47239c8057",
   "metadata": {},
   "source": [
    "<h3 data-start=\"120\" data-end=\"202\">Conclusi&oacute;n:</h3>\n",
    "<p data-start=\"204\" data-end=\"395\">El modelo alcanza un accuracy general del 89% sobre el conjunto de prueba, lo cual es un resultado s&oacute;lido considerando la alta complejidad del problema (120 clases visualmente similares).</p>\n",
    "<h4 data-start=\"397\" data-end=\"431\">Puntos clave del desempe&ntilde;o:</h4>\n",
    "<ul data-start=\"433\" data-end=\"1093\">\n",
    "<li data-start=\"433\" data-end=\"589\">\n",
    "<p data-start=\"435\" data-end=\"589\"><strong>Alta precisi&oacute;n general:</strong> con una precision y recall promedio cercanas al 90%, el modelo mantiene un rendimiento estable y equilibrado entre clases.</p>\n",
    "</li>\n",
    "<li data-start=\"590\" data-end=\"778\">\n",
    "<p data-start=\"592\" data-end=\"778\"><strong>Clases con desempe&ntilde;o perfecto:</strong> varias clases alcanzan un F1-score de 1.00, indicando que el modelo clasifica correctamente todas las instancias (ej. clases 23, 59, 73, 108, 119).</p>\n",
    "</li>\n",
    "<li data-start=\"779\" data-end=\"943\">\n",
    "<p data-start=\"781\" data-end=\"943\"><strong>Clases desafiantes:</strong> unas pocas clases presentan F1-scores bajos (ej. clase 97: 0.21), lo que sugiere posibles confusiones visuales&nbsp;</p>\n",
    "</li>\n",
    "<li data-start=\"944\" data-end=\"1093\">\n",
    "<p data-start=\"946\" data-end=\"1093\"><strong>Distribuci&oacute;n de soporte:</strong> se mantiene bastante equilibrada (alrededor de 30-40 im&aacute;genes por clase), lo que contribuye a la buena generalizaci&oacute;n.</p>\n",
    "</li>\n",
    "</ul>\n",
    "<h4 data-start=\"1095\" data-end=\"1119\">Recomendaciones:</h4>\n",
    "<ul data-start=\"1121\" data-end=\"1486\">\n",
    "<li data-start=\"1121\" data-end=\"1248\">\n",
    "<p data-start=\"1123\" data-end=\"1248\"><strong>An&aacute;lisis de errores:</strong> revisar ejemplos de clases con bajo F1 para detectar similitudes visuales o problemas de etiquetado.</p>\n",
    "</li>\n",
    "<li data-start=\"1249\" data-end=\"1371\">\n",
    "<p data-start=\"1251\" data-end=\"1371\"><strong>Data augmentation espec&iacute;fico:</strong> aplicar t&eacute;cnicas de aumento dirigidas a clases d&eacute;biles para mejorar su representaci&oacute;n.</p>\n",
    "</li>\n",
    "<li data-start=\"1372\" data-end=\"1486\">\n",
    "<p data-start=\"1374\" data-end=\"1486\"><strong>Ensemble o modelo m&aacute;s profundo (EfficientNetB4):</strong> si se busca superar el 90%, especialmente en producci&oacute;n.</p>\n",
    "</li>\n",
    "</ul>\n",
    "<ul data-start=\"342\" data-end=\"1409\">\n",
    "<li data-start=\"630\" data-end=\"894\">\n",
    "<p data-start=\"632\" data-end=\"894\"><strong data-start=\"632\" data-end=\"673\">Descongelar m&aacute;s capas del modelo base</strong>: Actualmente, solo se entrena la cabeza del modelo. Una mejora ser&iacute;a descongelar gradualmente m&aacute;s capas de MobileNetV2 para que el modelo adapte mejor sus representaciones a la tarea espec&iacute;fica de clasificaci&oacute;n de flores.</p>\n",
    "</li>\n",
    "<li data-start=\"896\" data-end=\"1164\">\n",
    "<p data-start=\"898\" data-end=\"1164\"><strong data-start=\"898\" data-end=\"938\">Mayor n&uacute;mero de fases de Fine-Tuning</strong>: Realizar el entrenamiento en varias fases, descongelando capas en bloques, con tasas de aprendizaje m&aacute;s peque&ntilde;as, para mejorar progresivamente la especializaci&oacute;n del modelo sin perder la generalizaci&oacute;n adquirida en ImageNet.</p>\n",
    "</li>\n",
    "<li data-start=\"1166\" data-end=\"1409\">\n",
    "<p data-start=\"1168\" data-end=\"1409\"><strong data-start=\"1168\" data-end=\"1203\">Optimizaci&oacute;n de hiperpar&aacute;metros</strong>: Usar herramientas como <code data-start=\"1228\" data-end=\"1240\">KerasTuner</code>, <code data-start=\"1242\" data-end=\"1250\">Optuna</code> o b&uacute;squeda bayesiana para ajustar autom&aacute;ticamente par&aacute;metros clave como tasa de aprendizaje, n&uacute;mero de unidades en capas densas, tasa de dropout o batch size.</p>\n",
    "</li>\n",
    "</ul>"
   ]
  },
  {
   "cell_type": "markdown",
   "id": "b48be308-d5bc-43eb-b37e-685a92bfe489",
   "metadata": {},
   "source": [
    "## StreamLit"
   ]
  },
  {
   "cell_type": "markdown",
   "id": "90b02220-d4a2-4c56-8da6-b2b06ab767de",
   "metadata": {},
   "source": [
    "<h3 data-start=\"112\" data-end=\"174\">Aplicaci&oacute;n Web de Clasificaci&oacute;n de Flores&nbsp;</h3>\n",
    "<p data-start=\"176\" data-end=\"335\">Se desarroll&oacute; una aplicaci&oacute;n interactiva en <strong data-start=\"220\" data-end=\"233\">Streamlit</strong> disponible en:<br data-start=\"248\" data-end=\"251\" />🔗 <a class=\"\" href=\"https://clasificacion-flores.streamlit.app/\" target=\"_new\" rel=\"noopener\" data-start=\"254\" data-end=\"335\">clasificacion-perros</a><a class=\"\" href=\"https://clasificacion-flores.streamlit.app/\" target=\"_new\" rel=\"noopener\" data-start=\"254\" data-end=\"335\">.streamlit.app</a></p>\n",
    "<p data-start=\"337\" data-end=\"575\">Esta aplicaci&oacute;n permite a los usuarios subir im&aacute;genes de perros y obtener una predicci&oacute;n autom&aacute;tica de su especie entre 120 clases diferentes, basada en el mejor modelo entrenado con Transfer Learning utilizando MobileNetV2.</p>\n",
    "<p data-start=\"577\" data-end=\"735\">El modelo fue ajustado espec&iacute;ficamente para el conjunto de datos Standard Dogs Dataset, alcanzando un accuracy del 84%, con una arquitectura que incluye:</p>\n",
    "<p data-start=\"902\" data-end=\"962\">La app ofrece una experiencia r&aacute;pida e intuitiva, mostrando:</p>\n",
    "<ul data-start=\"963\" data-end=\"1061\">\n",
    "<li data-start=\"963\" data-end=\"982\">\n",
    "<p data-start=\"965\" data-end=\"982\">la imagen subida,</p>\n",
    "</li>\n",
    "<li data-start=\"983\" data-end=\"1023\">\n",
    "<p data-start=\"985\" data-end=\"1023\">la clase predicha (raza del perro),</p>\n",
    "</li>\n",
    "<li data-start=\"1024\" data-end=\"1061\">\n",
    "<p data-start=\"1026\" data-end=\"1061\">y el nivel de confianza del modelo.</p>\n",
    "</li>\n",
    "<li data-start=\"1024\" data-end=\"1061\">Un top 5 de posibles.</li>\n",
    "<li data-start=\"1024\" data-end=\"1061\">Una breve descripci&oacute;n de Wikipedia</li>\n",
    "</ul>"
   ]
  },
  {
   "cell_type": "code",
   "execution_count": null,
   "id": "9221961c-1bea-498c-8864-1bc79a1f94dc",
   "metadata": {},
   "outputs": [],
   "source": []
  }
 ],
 "metadata": {
  "kernelspec": {
   "display_name": "Python 3 (ipykernel)",
   "language": "python",
   "name": "python3"
  },
  "language_info": {
   "codemirror_mode": {
    "name": "ipython",
    "version": 3
   },
   "file_extension": ".py",
   "mimetype": "text/x-python",
   "name": "python",
   "nbconvert_exporter": "python",
   "pygments_lexer": "ipython3",
   "version": "3.12.7"
  }
 },
 "nbformat": 4,
 "nbformat_minor": 5
}
