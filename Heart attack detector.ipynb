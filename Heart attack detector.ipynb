{
 "cells": [
  {
   "cell_type": "markdown",
   "id": "67a424e5-e9ab-4a91-8790-2d61bf565dd2",
   "metadata": {},
   "source": [
    "<h1 class=\"sc-cZSric sc-boYqxe eNXgIn bvFneb\"><span style=\"background-color: #2dc26b;\"><strong>Heart Attack Dataset</strong></span></h1>"
   ]
  },
  {
   "cell_type": "markdown",
   "id": "b71aeae0-4a8c-4c3f-9706-7d9d9bf076ec",
   "metadata": {},
   "source": [
    "<div class=\"sc-UEtKG dGqiYy sc-flttKd cguEtd\">\n",
    "<div class=\"sc-fqwslf gsqkEc\">\n",
    "<div class=\"sc-cBQMlg kAHhUk\">\n",
    "<h2 class=\"sc-dcKlJK sc-cVttbi gqEuPW ksnHgj\">About Dataset</h2>\n",
    "</div>\n",
    "</div>\n",
    "</div>\n",
    "<div class=\"sc-jgvlka jFuPjz\">\n",
    "<div class=\"sc-gzqKSP ktvwwo\">\n",
    "<div>\n",
    "<div class=\"sc-etVRix kMRejg sc-bMmLMY ZURWJ\">\n",
    "<p>The heart attack datasets were collected at Zheen hospital in Erbil, Iraq, from January 2019 to May 2019. The attributes of this dataset are: age, gender, heart rate, systolic blood pressure, diastolic blood pressure, blood sugar, ck-mb and troponin with negative or positive output. According to the provided information, the medical dataset classifies either heart attack or none. The gender column in the data is normalized: the male is set to 1 and the female to 0. The glucose column is set to 1 if it is &gt; 120; otherwise, 0. As for the output, positive is set to 1 and negative to 0.</p>\n",
    "<p>Institutions<br />University of Kurdistan Hewler</p>\n",
    "<p>Categories<br />Medicine, Heart Disease</p>\n",
    "<p>DOI: Rashid, Tarik A.; Hassan, Bryar (2022), &ldquo;Heart Attack Dataset&rdquo;, Mendeley Data, V1, doi: 10.17632/wmhctcrt5v.1</p>\n",
    "</div>\n",
    "</div>\n",
    "</div>\n",
    "</div>"
   ]
  },
  {
   "cell_type": "markdown",
   "id": "f68dfef5-7b80-4ed7-b444-2c7e4c0feaf1",
   "metadata": {},
   "source": [
    "<p><a title=\"Download DataSet\" href=\"https://www.kaggle.com/datasets/fatemehmohammadinia/heart-attack-dataset-tarik-a-rashid/data\">https://www.kaggle.com/datasets/fatemehmohammadinia/heart-attack-dataset-tarik-a-rashid/data</a></p>"
   ]
  },
  {
   "cell_type": "markdown",
   "id": "f4269f8c-113b-4e82-9b5e-cc8e4ab12e04",
   "metadata": {},
   "source": [
    "<p><em>Importamos las librer&iacute;as necesarias</em></p>"
   ]
  },
  {
   "cell_type": "code",
   "execution_count": 67,
   "id": "faf5aa04-997d-4884-9dca-7ba1a6a59499",
   "metadata": {},
   "outputs": [],
   "source": [
    "import pandas as pd\n",
    "import numpy as np\n",
    "from sklearn.model_selection import train_test_split\n",
    "from sklearn.preprocessing import RobustScaler\n",
    "from sklearn.metrics import f1_score\n",
    "from sklearn.metrics import classification_report, confusion_matrix, roc_auc_score\n",
    "from sklearn.metrics import ConfusionMatrixDisplay"
   ]
  },
  {
   "cell_type": "markdown",
   "id": "80931d1f-cc10-4639-8740-a6cebb446efa",
   "metadata": {},
   "source": [
    "## Funciones Auxiliares"
   ]
  },
  {
   "cell_type": "code",
   "execution_count": 68,
   "id": "67023cab-3fca-4e40-aa0a-398ca6af336f",
   "metadata": {},
   "outputs": [],
   "source": [
    "#Funcion para reemplazar Outliers\n",
    "def reemplazar_outliers(df, columnas, estrategia='median'):\n",
    "    df = df.copy()\n",
    "    \n",
    "    for col in columnas:\n",
    "        if col not in df.columns:\n",
    "            print(f\"La columna '{col}' no está en el DataFrame. Se omite.\")\n",
    "            continue\n",
    "        if not pd.api.types.is_numeric_dtype(df[col]):\n",
    "            print(f\"La columna '{col}' no es numérica. Se omite.\")\n",
    "            continue\n",
    "\n",
    "        Q1 = df[col].quantile(0.25)\n",
    "        Q3 = df[col].quantile(0.75)\n",
    "        IQR = Q3 - Q1\n",
    "\n",
    "        limite_inferior = Q1 - 1.5 * IQR\n",
    "        limite_superior = Q3 + 1.5 * IQR\n",
    "\n",
    "        # Definir el valor de reemplazo según la estrategia\n",
    "        if estrategia == 'median':\n",
    "            valor = df[col].median()\n",
    "        elif estrategia == 'mean':\n",
    "            valor = df[col].mean()\n",
    "        elif estrategia == 'most_frequent':\n",
    "            valor = df[col].mode()[0]\n",
    "        else:\n",
    "            raise ValueError(\"La estrategia debe ser 'median', 'mean' o 'most_frequent'.\")\n",
    "\n",
    "        # Reemplazar outliers\n",
    "        df.loc[(df[col] < limite_inferior) | (df[col] > limite_superior), col] = valor\n",
    "\n",
    "    return df"
   ]
  },
  {
   "cell_type": "code",
   "execution_count": 69,
   "id": "28b02707-a6f4-4eed-a2fb-3641e2f72c99",
   "metadata": {},
   "outputs": [],
   "source": [
    "# Construcción de una función que realice el particionado completo\n",
    "def train_val_test_split(df, rstate=42, shuffle=True, stratify=None):\n",
    "    strat = df[stratify] if stratify else None\n",
    "    train_set, test_set = train_test_split(\n",
    "        df, test_size=0.4, random_state=rstate, shuffle=shuffle, stratify=strat)\n",
    "    strat = test_set[stratify] if stratify else None\n",
    "    val_set, test_set = train_test_split(\n",
    "        test_set, test_size=0.5, random_state=rstate, shuffle=shuffle, stratify=strat)\n",
    "    return (train_set, val_set, test_set)"
   ]
  },
  {
   "cell_type": "code",
   "execution_count": 70,
   "id": "6f82047b-489f-4fa9-9080-dd9105c94205",
   "metadata": {},
   "outputs": [],
   "source": [
    "#Remover la variable objetivo o predictora del particionado\n",
    "def remove_labels(df, label_name):\n",
    "    X = df.drop(label_name, axis=1)\n",
    "    y = df[label_name].copy()\n",
    "    return (X, y)"
   ]
  },
  {
   "cell_type": "code",
   "execution_count": 71,
   "id": "c9fb953f-10a2-4259-87ae-a1fa1b778ed8",
   "metadata": {},
   "outputs": [],
   "source": [
    "#Comparar dos modelos\n",
    "def evaluate_result(y_pred, y, y_prep_pred, y_prep, metric):\n",
    "    print(metric.__name__, \"Conjunto con Outliers:\", metric(y_pred, y, average='weighted'))\n",
    "    print(metric.__name__, \"Cobjunto Sin Outliers:\", metric(y_prep_pred, y_prep, average='weighted'))"
   ]
  },
  {
   "cell_type": "code",
   "execution_count": 72,
   "id": "9b8e2d93-2c79-44db-8b64-c68b96c57100",
   "metadata": {},
   "outputs": [],
   "source": [
    "#Detecta la cantidad de Outliers\n",
    "def detectar_outliers(df):\n",
    "    resumen = []\n",
    "\n",
    "    for col in df.select_dtypes(include='number').columns:\n",
    "        Q1 = df[col].quantile(0.25)\n",
    "        Q3 = df[col].quantile(0.75)\n",
    "        IQR = Q3 - Q1\n",
    "        limite_inferior = Q1 - 1.5 * IQR\n",
    "        limite_superior = Q3 + 1.5 * IQR\n",
    "        outliers = df[(df[col] < limite_inferior) | (df[col] > limite_superior)]\n",
    "        resumen.append({\n",
    "            'columna': col,\n",
    "            'outliers': len(outliers)\n",
    "        })\n",
    "    return pd.DataFrame(resumen)\n"
   ]
  },
  {
   "cell_type": "markdown",
   "id": "a7f3e15f-a0c3-442c-9941-bd76cdabf0cb",
   "metadata": {},
   "source": [
    "# Extraccion"
   ]
  },
  {
   "cell_type": "markdown",
   "id": "f913fbd8-cfae-4cc1-8f87-f0823e49bb6b",
   "metadata": {},
   "source": [
    "## Lectura del conjunto de datos"
   ]
  },
  {
   "cell_type": "code",
   "execution_count": 73,
   "id": "139e98f9-e1d0-407e-94f4-a8af3b2ce395",
   "metadata": {},
   "outputs": [],
   "source": [
    "df = pd.read_csv('Medicaldataset.csv')"
   ]
  },
  {
   "cell_type": "markdown",
   "id": "9133f2ee-4dad-43f7-9f88-660cb384a8c0",
   "metadata": {},
   "source": [
    "## Visualización del conjunto de datos"
   ]
  },
  {
   "cell_type": "code",
   "execution_count": 74,
   "id": "f290ebb5-3b51-4e37-8750-3efe2ebd557a",
   "metadata": {},
   "outputs": [
    {
     "data": {
      "text/html": [
       "<div>\n",
       "<style scoped>\n",
       "    .dataframe tbody tr th:only-of-type {\n",
       "        vertical-align: middle;\n",
       "    }\n",
       "\n",
       "    .dataframe tbody tr th {\n",
       "        vertical-align: top;\n",
       "    }\n",
       "\n",
       "    .dataframe thead th {\n",
       "        text-align: right;\n",
       "    }\n",
       "</style>\n",
       "<table border=\"1\" class=\"dataframe\">\n",
       "  <thead>\n",
       "    <tr style=\"text-align: right;\">\n",
       "      <th></th>\n",
       "      <th>Age</th>\n",
       "      <th>Gender</th>\n",
       "      <th>Heart rate</th>\n",
       "      <th>Systolic blood pressure</th>\n",
       "      <th>Diastolic blood pressure</th>\n",
       "      <th>Blood sugar</th>\n",
       "      <th>CK-MB</th>\n",
       "      <th>Troponin</th>\n",
       "      <th>Result</th>\n",
       "    </tr>\n",
       "  </thead>\n",
       "  <tbody>\n",
       "    <tr>\n",
       "      <th>0</th>\n",
       "      <td>64</td>\n",
       "      <td>1</td>\n",
       "      <td>66</td>\n",
       "      <td>160</td>\n",
       "      <td>83</td>\n",
       "      <td>160.0</td>\n",
       "      <td>1.80</td>\n",
       "      <td>0.012</td>\n",
       "      <td>negative</td>\n",
       "    </tr>\n",
       "    <tr>\n",
       "      <th>1</th>\n",
       "      <td>21</td>\n",
       "      <td>1</td>\n",
       "      <td>94</td>\n",
       "      <td>98</td>\n",
       "      <td>46</td>\n",
       "      <td>296.0</td>\n",
       "      <td>6.75</td>\n",
       "      <td>1.060</td>\n",
       "      <td>positive</td>\n",
       "    </tr>\n",
       "    <tr>\n",
       "      <th>2</th>\n",
       "      <td>55</td>\n",
       "      <td>1</td>\n",
       "      <td>64</td>\n",
       "      <td>160</td>\n",
       "      <td>77</td>\n",
       "      <td>270.0</td>\n",
       "      <td>1.99</td>\n",
       "      <td>0.003</td>\n",
       "      <td>negative</td>\n",
       "    </tr>\n",
       "    <tr>\n",
       "      <th>3</th>\n",
       "      <td>64</td>\n",
       "      <td>1</td>\n",
       "      <td>70</td>\n",
       "      <td>120</td>\n",
       "      <td>55</td>\n",
       "      <td>270.0</td>\n",
       "      <td>13.87</td>\n",
       "      <td>0.122</td>\n",
       "      <td>positive</td>\n",
       "    </tr>\n",
       "    <tr>\n",
       "      <th>4</th>\n",
       "      <td>55</td>\n",
       "      <td>1</td>\n",
       "      <td>64</td>\n",
       "      <td>112</td>\n",
       "      <td>65</td>\n",
       "      <td>300.0</td>\n",
       "      <td>1.08</td>\n",
       "      <td>0.003</td>\n",
       "      <td>negative</td>\n",
       "    </tr>\n",
       "    <tr>\n",
       "      <th>5</th>\n",
       "      <td>58</td>\n",
       "      <td>0</td>\n",
       "      <td>61</td>\n",
       "      <td>112</td>\n",
       "      <td>58</td>\n",
       "      <td>87.0</td>\n",
       "      <td>1.83</td>\n",
       "      <td>0.004</td>\n",
       "      <td>negative</td>\n",
       "    </tr>\n",
       "    <tr>\n",
       "      <th>6</th>\n",
       "      <td>32</td>\n",
       "      <td>0</td>\n",
       "      <td>40</td>\n",
       "      <td>179</td>\n",
       "      <td>68</td>\n",
       "      <td>102.0</td>\n",
       "      <td>0.71</td>\n",
       "      <td>0.003</td>\n",
       "      <td>negative</td>\n",
       "    </tr>\n",
       "    <tr>\n",
       "      <th>7</th>\n",
       "      <td>63</td>\n",
       "      <td>1</td>\n",
       "      <td>60</td>\n",
       "      <td>214</td>\n",
       "      <td>82</td>\n",
       "      <td>87.0</td>\n",
       "      <td>300.00</td>\n",
       "      <td>2.370</td>\n",
       "      <td>positive</td>\n",
       "    </tr>\n",
       "    <tr>\n",
       "      <th>8</th>\n",
       "      <td>44</td>\n",
       "      <td>0</td>\n",
       "      <td>60</td>\n",
       "      <td>154</td>\n",
       "      <td>81</td>\n",
       "      <td>135.0</td>\n",
       "      <td>2.35</td>\n",
       "      <td>0.004</td>\n",
       "      <td>negative</td>\n",
       "    </tr>\n",
       "    <tr>\n",
       "      <th>9</th>\n",
       "      <td>67</td>\n",
       "      <td>1</td>\n",
       "      <td>61</td>\n",
       "      <td>160</td>\n",
       "      <td>95</td>\n",
       "      <td>100.0</td>\n",
       "      <td>2.84</td>\n",
       "      <td>0.011</td>\n",
       "      <td>negative</td>\n",
       "    </tr>\n",
       "  </tbody>\n",
       "</table>\n",
       "</div>"
      ],
      "text/plain": [
       "   Age  Gender  Heart rate  Systolic blood pressure  Diastolic blood pressure  \\\n",
       "0   64       1          66                      160                        83   \n",
       "1   21       1          94                       98                        46   \n",
       "2   55       1          64                      160                        77   \n",
       "3   64       1          70                      120                        55   \n",
       "4   55       1          64                      112                        65   \n",
       "5   58       0          61                      112                        58   \n",
       "6   32       0          40                      179                        68   \n",
       "7   63       1          60                      214                        82   \n",
       "8   44       0          60                      154                        81   \n",
       "9   67       1          61                      160                        95   \n",
       "\n",
       "   Blood sugar   CK-MB  Troponin    Result  \n",
       "0        160.0    1.80     0.012  negative  \n",
       "1        296.0    6.75     1.060  positive  \n",
       "2        270.0    1.99     0.003  negative  \n",
       "3        270.0   13.87     0.122  positive  \n",
       "4        300.0    1.08     0.003  negative  \n",
       "5         87.0    1.83     0.004  negative  \n",
       "6        102.0    0.71     0.003  negative  \n",
       "7         87.0  300.00     2.370  positive  \n",
       "8        135.0    2.35     0.004  negative  \n",
       "9        100.0    2.84     0.011  negative  "
      ]
     },
     "execution_count": 74,
     "metadata": {},
     "output_type": "execute_result"
    }
   ],
   "source": [
    "df.head(10)"
   ]
  },
  {
   "cell_type": "code",
   "execution_count": 75,
   "id": "3fc12485-8930-4b6b-84d7-77fb365ad42e",
   "metadata": {},
   "outputs": [
    {
     "data": {
      "text/html": [
       "<div>\n",
       "<style scoped>\n",
       "    .dataframe tbody tr th:only-of-type {\n",
       "        vertical-align: middle;\n",
       "    }\n",
       "\n",
       "    .dataframe tbody tr th {\n",
       "        vertical-align: top;\n",
       "    }\n",
       "\n",
       "    .dataframe thead th {\n",
       "        text-align: right;\n",
       "    }\n",
       "</style>\n",
       "<table border=\"1\" class=\"dataframe\">\n",
       "  <thead>\n",
       "    <tr style=\"text-align: right;\">\n",
       "      <th></th>\n",
       "      <th>Age</th>\n",
       "      <th>Gender</th>\n",
       "      <th>Heart rate</th>\n",
       "      <th>Systolic blood pressure</th>\n",
       "      <th>Diastolic blood pressure</th>\n",
       "      <th>Blood sugar</th>\n",
       "      <th>CK-MB</th>\n",
       "      <th>Troponin</th>\n",
       "    </tr>\n",
       "  </thead>\n",
       "  <tbody>\n",
       "    <tr>\n",
       "      <th>count</th>\n",
       "      <td>1319.000000</td>\n",
       "      <td>1319.000000</td>\n",
       "      <td>1319.000000</td>\n",
       "      <td>1319.000000</td>\n",
       "      <td>1319.000000</td>\n",
       "      <td>1319.000000</td>\n",
       "      <td>1319.000000</td>\n",
       "      <td>1319.000000</td>\n",
       "    </tr>\n",
       "    <tr>\n",
       "      <th>mean</th>\n",
       "      <td>56.191812</td>\n",
       "      <td>0.659591</td>\n",
       "      <td>78.336619</td>\n",
       "      <td>127.170584</td>\n",
       "      <td>72.269143</td>\n",
       "      <td>146.634344</td>\n",
       "      <td>15.274306</td>\n",
       "      <td>0.360942</td>\n",
       "    </tr>\n",
       "    <tr>\n",
       "      <th>std</th>\n",
       "      <td>13.647315</td>\n",
       "      <td>0.474027</td>\n",
       "      <td>51.630270</td>\n",
       "      <td>26.122720</td>\n",
       "      <td>14.033924</td>\n",
       "      <td>74.923045</td>\n",
       "      <td>46.327083</td>\n",
       "      <td>1.154568</td>\n",
       "    </tr>\n",
       "    <tr>\n",
       "      <th>min</th>\n",
       "      <td>14.000000</td>\n",
       "      <td>0.000000</td>\n",
       "      <td>20.000000</td>\n",
       "      <td>42.000000</td>\n",
       "      <td>38.000000</td>\n",
       "      <td>35.000000</td>\n",
       "      <td>0.321000</td>\n",
       "      <td>0.001000</td>\n",
       "    </tr>\n",
       "    <tr>\n",
       "      <th>25%</th>\n",
       "      <td>47.000000</td>\n",
       "      <td>0.000000</td>\n",
       "      <td>64.000000</td>\n",
       "      <td>110.000000</td>\n",
       "      <td>62.000000</td>\n",
       "      <td>98.000000</td>\n",
       "      <td>1.655000</td>\n",
       "      <td>0.006000</td>\n",
       "    </tr>\n",
       "    <tr>\n",
       "      <th>50%</th>\n",
       "      <td>58.000000</td>\n",
       "      <td>1.000000</td>\n",
       "      <td>74.000000</td>\n",
       "      <td>124.000000</td>\n",
       "      <td>72.000000</td>\n",
       "      <td>116.000000</td>\n",
       "      <td>2.850000</td>\n",
       "      <td>0.014000</td>\n",
       "    </tr>\n",
       "    <tr>\n",
       "      <th>75%</th>\n",
       "      <td>65.000000</td>\n",
       "      <td>1.000000</td>\n",
       "      <td>85.000000</td>\n",
       "      <td>143.000000</td>\n",
       "      <td>81.000000</td>\n",
       "      <td>169.500000</td>\n",
       "      <td>5.805000</td>\n",
       "      <td>0.085500</td>\n",
       "    </tr>\n",
       "    <tr>\n",
       "      <th>max</th>\n",
       "      <td>103.000000</td>\n",
       "      <td>1.000000</td>\n",
       "      <td>1111.000000</td>\n",
       "      <td>223.000000</td>\n",
       "      <td>154.000000</td>\n",
       "      <td>541.000000</td>\n",
       "      <td>300.000000</td>\n",
       "      <td>10.300000</td>\n",
       "    </tr>\n",
       "  </tbody>\n",
       "</table>\n",
       "</div>"
      ],
      "text/plain": [
       "               Age       Gender   Heart rate  Systolic blood pressure  \\\n",
       "count  1319.000000  1319.000000  1319.000000              1319.000000   \n",
       "mean     56.191812     0.659591    78.336619               127.170584   \n",
       "std      13.647315     0.474027    51.630270                26.122720   \n",
       "min      14.000000     0.000000    20.000000                42.000000   \n",
       "25%      47.000000     0.000000    64.000000               110.000000   \n",
       "50%      58.000000     1.000000    74.000000               124.000000   \n",
       "75%      65.000000     1.000000    85.000000               143.000000   \n",
       "max     103.000000     1.000000  1111.000000               223.000000   \n",
       "\n",
       "       Diastolic blood pressure  Blood sugar        CK-MB     Troponin  \n",
       "count               1319.000000  1319.000000  1319.000000  1319.000000  \n",
       "mean                  72.269143   146.634344    15.274306     0.360942  \n",
       "std                   14.033924    74.923045    46.327083     1.154568  \n",
       "min                   38.000000    35.000000     0.321000     0.001000  \n",
       "25%                   62.000000    98.000000     1.655000     0.006000  \n",
       "50%                   72.000000   116.000000     2.850000     0.014000  \n",
       "75%                   81.000000   169.500000     5.805000     0.085500  \n",
       "max                  154.000000   541.000000   300.000000    10.300000  "
      ]
     },
     "execution_count": 75,
     "metadata": {},
     "output_type": "execute_result"
    }
   ],
   "source": [
    "#Observamos el dataset\n",
    "df.describe()"
   ]
  },
  {
   "cell_type": "code",
   "execution_count": 76,
   "id": "223fcbeb-118a-4462-ad3a-f66752cd3b72",
   "metadata": {},
   "outputs": [
    {
     "name": "stdout",
     "output_type": "stream",
     "text": [
      "<class 'pandas.core.frame.DataFrame'>\n",
      "RangeIndex: 1319 entries, 0 to 1318\n",
      "Data columns (total 9 columns):\n",
      " #   Column                    Non-Null Count  Dtype  \n",
      "---  ------                    --------------  -----  \n",
      " 0   Age                       1319 non-null   int64  \n",
      " 1   Gender                    1319 non-null   int64  \n",
      " 2   Heart rate                1319 non-null   int64  \n",
      " 3   Systolic blood pressure   1319 non-null   int64  \n",
      " 4   Diastolic blood pressure  1319 non-null   int64  \n",
      " 5   Blood sugar               1319 non-null   float64\n",
      " 6   CK-MB                     1319 non-null   float64\n",
      " 7   Troponin                  1319 non-null   float64\n",
      " 8   Result                    1319 non-null   object \n",
      "dtypes: float64(3), int64(5), object(1)\n",
      "memory usage: 92.9+ KB\n"
     ]
    }
   ],
   "source": [
    "df.info()"
   ]
  },
  {
   "cell_type": "code",
   "execution_count": 77,
   "id": "5a2e51dc-9557-463f-a674-3227a38c3dc3",
   "metadata": {},
   "outputs": [
    {
     "data": {
      "text/plain": [
       "Result\n",
       "positive    810\n",
       "negative    509\n",
       "Name: count, dtype: int64"
      ]
     },
     "execution_count": 77,
     "metadata": {},
     "output_type": "execute_result"
    }
   ],
   "source": [
    "#Buscamos si hay Desbalanceo de clases para tomar medidas\n",
    "df[\"Result\"].value_counts()"
   ]
  },
  {
   "cell_type": "code",
   "execution_count": 78,
   "id": "7035bc34-af6a-438e-b38e-a828d99217bf",
   "metadata": {},
   "outputs": [
    {
     "ename": "NameError",
     "evalue": "name 'plt' is not defined",
     "output_type": "error",
     "traceback": [
      "\u001b[1;31m---------------------------------------------------------------------------\u001b[0m",
      "\u001b[1;31mNameError\u001b[0m                                 Traceback (most recent call last)",
      "Cell \u001b[1;32mIn[78], line 3\u001b[0m\n\u001b[0;32m      1\u001b[0m \u001b[38;5;66;03m#Buscamos si hay desbalance de clases\u001b[39;00m\n\u001b[0;32m      2\u001b[0m df[\u001b[38;5;124m\"\u001b[39m\u001b[38;5;124mResult\u001b[39m\u001b[38;5;124m\"\u001b[39m]\u001b[38;5;241m.\u001b[39mvalue_counts()\u001b[38;5;241m.\u001b[39mplot(kind\u001b[38;5;241m=\u001b[39m\u001b[38;5;124m'\u001b[39m\u001b[38;5;124mbar\u001b[39m\u001b[38;5;124m'\u001b[39m, color\u001b[38;5;241m=\u001b[39m[\u001b[38;5;124m\"\u001b[39m\u001b[38;5;124mskyblue\u001b[39m\u001b[38;5;124m\"\u001b[39m, \u001b[38;5;124m\"\u001b[39m\u001b[38;5;124msalmon\u001b[39m\u001b[38;5;124m\"\u001b[39m])\n\u001b[1;32m----> 3\u001b[0m plt\u001b[38;5;241m.\u001b[39mtitle(\u001b[38;5;124m'\u001b[39m\u001b[38;5;124mDistribución de clases\u001b[39m\u001b[38;5;124m'\u001b[39m)\n\u001b[0;32m      4\u001b[0m plt\u001b[38;5;241m.\u001b[39mxlabel(\u001b[38;5;124m'\u001b[39m\u001b[38;5;124mClase (0 = Negativo, 1 = Positivo)\u001b[39m\u001b[38;5;124m'\u001b[39m)\n\u001b[0;32m      5\u001b[0m plt\u001b[38;5;241m.\u001b[39mylabel(\u001b[38;5;124m'\u001b[39m\u001b[38;5;124mFrecuencia\u001b[39m\u001b[38;5;124m'\u001b[39m)\n",
      "\u001b[1;31mNameError\u001b[0m: name 'plt' is not defined"
     ]
    },
    {
     "data": {
      "image/png": "[encoded data removed]",
      "text/plain": [
       "<Figure size 640x480 with 1 Axes>"
      ]
     },
     "metadata": {},
     "output_type": "display_data"
    }
   ],
   "source": [
    "#Buscamos si hay desbalance de clases\n",
    "df[\"Result\"].value_counts().plot(kind='bar', color=[\"skyblue\", \"salmon\"])\n",
    "plt.title('Distribución de clases')\n",
    "plt.xlabel('Clase (0 = Negativo, 1 = Positivo)')\n",
    "plt.ylabel('Frecuencia')\n",
    "plt.xticks(rotation=0)\n",
    "plt.grid(axis='y')\n",
    "plt.tight_layout()\n",
    "plt.show()"
   ]
  },
  {
   "cell_type": "markdown",
   "id": "4c40278d-a6ce-465e-a2ab-35ca7c8965a0",
   "metadata": {},
   "source": [
    "<p><em>No hay desbalance de clases</em></p>"
   ]
  },
  {
   "cell_type": "markdown",
   "id": "335d2813-36e9-4a01-9ddd-7c994c8a22e6",
   "metadata": {},
   "source": [
    "# Transformacion"
   ]
  },
  {
   "cell_type": "code",
   "execution_count": null,
   "id": "a1b2cc9d-4583-4f57-b716-4dceae2d1d64",
   "metadata": {},
   "outputs": [],
   "source": [
    "#Buscamos valores Nulos.\n",
    "df.isnull().sum()"
   ]
  },
  {
   "cell_type": "code",
   "execution_count": null,
   "id": "40db4dd0-041f-40a5-bbc3-e18fd5b33be6",
   "metadata": {},
   "outputs": [],
   "source": [
    "# Creamos una copia independiente del DF\n",
    "data = df.copy()"
   ]
  },
  {
   "cell_type": "code",
   "execution_count": null,
   "id": "308d7445-b72a-4156-a2c8-f02f4aeb802a",
   "metadata": {},
   "outputs": [],
   "source": [
    "#Hacemos un resumen de la cantidad de outliers que contiene el DF\n",
    "outliers = detectar_outliers(data)\n",
    "outliers"
   ]
  },
  {
   "cell_type": "code",
   "execution_count": null,
   "id": "910bfa28-e350-46c4-98bb-705a78f0101a",
   "metadata": {},
   "outputs": [],
   "source": [
    "#Hacemos una copia independiente del df y pasamos la funcion que sustituye los outliers por la mediana\n",
    "columnas=['Heart rate','Systolic blood pressure','Diastolic blood pressure','Blood sugar','CK-MB','Troponin']\n",
    "data_sin_outliers = reemplazar_outliers(data, columnas, estrategia='median').copy()"
   ]
  },
  {
   "cell_type": "code",
   "execution_count": null,
   "id": "fa6417f7-9721-4d78-a66d-e570719da706",
   "metadata": {},
   "outputs": [],
   "source": [
    "# Transformamos la variable de salida a numérica para calcular correlaciones\n",
    "X = df.copy()\n",
    "X['Result'] = X['Result'].factorize()[0]"
   ]
  },
  {
   "cell_type": "code",
   "execution_count": null,
   "id": "7c097a45-63a4-4194-bba9-8412ad4363b1",
   "metadata": {},
   "outputs": [],
   "source": [
    "#Buscamos correlaciones y estudiamos el dataset para evitar la colinealidad\n",
    "corr_matrix = X.corr()\n",
    "corr_matrix[\"Result\"].sort_values(ascending=False)"
   ]
  },
  {
   "cell_type": "code",
   "execution_count": null,
   "id": "c3af69e0-bc8d-4d30-91cb-69a7e804e4bd",
   "metadata": {},
   "outputs": [],
   "source": [
    "corr_matrix"
   ]
  },
  {
   "cell_type": "markdown",
   "id": "1899f4b9-e075-48bb-a0ab-71fa10f905df",
   "metadata": {},
   "source": [
    "<p><em>No se observa &nbsp;colinealidad</em></p>"
   ]
  },
  {
   "cell_type": "markdown",
   "id": "9456c6f3-7bc7-4438-ba75-731a773a3b9d",
   "metadata": {},
   "source": [
    "##  División del conjunto de datos"
   ]
  },
  {
   "cell_type": "code",
   "execution_count": null,
   "id": "57c04742-7b64-4daa-bb48-49fdefb88f99",
   "metadata": {},
   "outputs": [],
   "source": [
    "# Dividimos el conjunto de datos en este caso se usara el dataset que eliminamos los outliers y el que no, posteriomente compararemos\n",
    "train_set, val_set, test_set = train_val_test_split(data)\n",
    "train_set_WOut, val_set_WOut, test_set_WOut = train_val_test_split(data_sin_outliers)"
   ]
  },
  {
   "cell_type": "markdown",
   "id": "51db51d0-096d-4736-afc9-a353addb2856",
   "metadata": {},
   "source": [
    "<p><em><strong>Conjunto de datos original con outliers</strong></em></p>"
   ]
  },
  {
   "cell_type": "code",
   "execution_count": null,
   "id": "6777e19f-26f4-4f1d-b170-ca256e15941a",
   "metadata": {},
   "outputs": [],
   "source": [
    "#removemos la variable objetivo  y los features o caracteristicas\n",
    "X_train, y_train = remove_labels(train_set, 'Result')\n",
    "X_val, y_val = remove_labels(val_set, 'Result')\n",
    "X_test, y_test = remove_labels(test_set, 'Result')"
   ]
  },
  {
   "cell_type": "markdown",
   "id": "599ec8cb-dd4f-42a1-a625-34abfd9b0079",
   "metadata": {},
   "source": [
    "<p><em><strong>Conjunto de datos sin Outliers</strong></em></p>"
   ]
  },
  {
   "cell_type": "code",
   "execution_count": null,
   "id": "4dd80199-3920-4384-a088-d17216e2fc9c",
   "metadata": {},
   "outputs": [],
   "source": [
    "#removemos la variable objetivo  y los features o caracteristicas\n",
    "X_train_WOut, y_train_WOut = remove_labels(train_set_WOut, 'Result')\n",
    "X_val_WOut, y_val_WOut = remove_labels(val_set_WOut, 'Result')\n",
    "X_test_WOut, y_test_WOut = remove_labels(test_set_WOut, 'Result')"
   ]
  },
  {
   "cell_type": "markdown",
   "id": "082e557a-5673-400a-8074-5b8b083fd118",
   "metadata": {},
   "source": [
    "## Random Forests"
   ]
  },
  {
   "cell_type": "code",
   "execution_count": null,
   "id": "68578052-0934-4ca5-8e47-43619c8f936e",
   "metadata": {},
   "outputs": [],
   "source": [
    "#Importamos las librerias necesarios para usar Random Forest\n",
    "from sklearn.ensemble import RandomForestClassifier"
   ]
  },
  {
   "cell_type": "code",
   "execution_count": null,
   "id": "6763f5a8-f47f-4e72-962a-f71996e81dd8",
   "metadata": {},
   "outputs": [],
   "source": [
    "# Modelo entrenado con el conjunto de datos sin escalar y con Outliers\n",
    "clf_rnd = RandomForestClassifier(n_estimators=100, random_state=42, n_jobs=-1)\n",
    "clf_rnd.fit(X_train, y_train)"
   ]
  },
  {
   "cell_type": "code",
   "execution_count": null,
   "id": "8e61e276-f498-4684-ab1e-5aa9af4ba8d6",
   "metadata": {},
   "outputs": [],
   "source": [
    "# Modelo entrenado con el conjunto de datos sin escalar y sin Outliers\n",
    "clf_rnd_WOut = RandomForestClassifier(n_estimators=100, random_state=42, n_jobs=-1)\n",
    "clf_rnd_WOut.fit(X_train_WOut, y_train_WOut)"
   ]
  },
  {
   "cell_type": "code",
   "execution_count": null,
   "id": "a306cfdf-5f03-477c-8c91-8b9dc0675a75",
   "metadata": {},
   "outputs": [],
   "source": [
    "# Predecimos con el conjunto de datos de entrenamiento en ambos conjuntos\n",
    "y_train_pred = clf_rnd.predict(X_train)\n",
    "y_train_prep_WOut = clf_rnd_WOut.predict(X_train_WOut)"
   ]
  },
  {
   "cell_type": "code",
   "execution_count": null,
   "id": "6d03ee9a-1ad2-487f-9033-58cb978c1442",
   "metadata": {},
   "outputs": [],
   "source": [
    "# Comparamos resultados entre el conjunto con Outliers y sin Outliers\n",
    "evaluate_result(y_train_pred, y_train, y_train_prep_WOut, y_train, f1_score)"
   ]
  },
  {
   "cell_type": "markdown",
   "id": "d5546f7a-d2a8-4a34-8b8b-573c4d7cc9d0",
   "metadata": {},
   "source": [
    "<p><em><strong>Conclusi&oacute;n: </strong>Probablemente, se est&eacute; produciendo Overffiting en ambos, haremos pruebas con los otros dos subconjuntos.</em></p>"
   ]
  },
  {
   "cell_type": "code",
   "execution_count": null,
   "id": "08e85893-4b16-48cb-93a3-c4411b4062a9",
   "metadata": {},
   "outputs": [],
   "source": [
    "# Predecimos con el conjunto de datos de validación\n",
    "y_pred = clf_rnd.predict(X_val)\n",
    "y_prep_WOut = clf_rnd_WOut.predict(X_val_WOut)"
   ]
  },
  {
   "cell_type": "code",
   "execution_count": null,
   "id": "470b1094-716a-4af1-b38f-6d2e9869c83c",
   "metadata": {},
   "outputs": [],
   "source": [
    "# Comparamos resultados entre escalado y sin escalar\n",
    "evaluate_result(y_pred, y_val, y_prep_WOut, y_val, f1_score)"
   ]
  },
  {
   "cell_type": "markdown",
   "id": "b253e1c6-faa1-43fe-a9c3-e5142b68ba01",
   "metadata": {},
   "source": [
    "<p><em>Nos ofrece mejor resultado el modelo sin eliminar los Outliers</em></p>"
   ]
  },
  {
   "cell_type": "code",
   "execution_count": null,
   "id": "71e6a1f4-0ffc-4176-8b24-557c420ceb95",
   "metadata": {},
   "outputs": [],
   "source": [
    "# Predecimos con el conjunto de datos de prueba\n",
    "y_pred = clf_rnd.predict(X_test)\n",
    "y_prep_WOut = clf_rnd_WOut.predict(X_test_WOut)"
   ]
  },
  {
   "cell_type": "code",
   "execution_count": null,
   "id": "fa74acd7-b9f3-4355-a3f6-1c5e11022971",
   "metadata": {},
   "outputs": [],
   "source": [
    "# Comparamos resultados entre escalado y sin escalar\n",
    "evaluate_result(y_pred, y_test, y_prep_WOut, y_test, f1_score)"
   ]
  },
  {
   "cell_type": "markdown",
   "id": "616dd2f9-6cc2-45d3-abee-e1be9085df2c",
   "metadata": {},
   "source": [
    "<p><em><strong>Conclusi&oacute;n:</strong> No hay tanta diferencia entre ambos modelos, el que se hace con el conjunto con outliers, es ligeramente mejor; sin embargo, para buscar los par&aacute;metros &oacute;ptimos continuaremos solo con el conjunto que contiene los outliers.</em></p>"
   ]
  },
  {
   "cell_type": "markdown",
   "id": "ef3c0e08-f3a4-4a5c-bd0e-bd3ae46e6c03",
   "metadata": {},
   "source": [
    "## Selección del modelo Optimo"
   ]
  },
  {
   "cell_type": "code",
   "execution_count": null,
   "id": "0cafeebd-57c2-4f7d-abeb-bcb6d09e58be",
   "metadata": {},
   "outputs": [],
   "source": [
    "# Uso de Grid Search para selección del modelo\n",
    "from sklearn.model_selection import GridSearchCV\n",
    "\n",
    "param_grid = [\n",
    "    # try 9 (3×3) combinations of hyperparameters\n",
    "    {'n_estimators': [100, 500, 1000], 'max_leaf_nodes': [16, 24, 36]},\n",
    "    # then try 6 (2×3) combinations with bootstrap set as False\n",
    "    {'bootstrap': [False], 'n_estimators': [100, 500], 'max_features': [2, 3, 4]},\n",
    "  ]\n",
    "\n",
    "rnd_clf = RandomForestClassifier(n_jobs=-1, random_state=42)\n",
    "\n",
    "# train across 5 folds, that's a total of (9+6)*5=75 rounds of training \n",
    "grid_search = GridSearchCV(rnd_clf, param_grid, cv=5,\n",
    "                           scoring='f1_weighted', return_train_score=True)\n",
    "\n",
    "grid_search.fit(X_train, y_train)"
   ]
  },
  {
   "cell_type": "code",
   "execution_count": null,
   "id": "24b23164-e120-462d-bffc-8d658665a343",
   "metadata": {},
   "outputs": [],
   "source": [
    "#Mejores parametros encontrados.\n",
    "grid_search.best_params_"
   ]
  },
  {
   "cell_type": "code",
   "execution_count": null,
   "id": "5fdb9b7e-1db0-4840-bf74-aab21a8be3a4",
   "metadata": {},
   "outputs": [],
   "source": [
    "# Seleccionamos el mejor modelo que encontro GridSearchCV\n",
    "clf_rnd = grid_search.best_estimator_"
   ]
  },
  {
   "cell_type": "code",
   "execution_count": null,
   "id": "daea76b7-82be-47d1-a481-862df5cb8461",
   "metadata": {},
   "outputs": [],
   "source": [
    "# Predecimos con el conjunto de datos de entrenamiento\n",
    "y_train_pred = clf_rnd.predict(X_train)"
   ]
  },
  {
   "cell_type": "code",
   "execution_count": null,
   "id": "ed7fe112-1b69-4e1b-9361-fa1054e9cdda",
   "metadata": {
    "scrolled": true
   },
   "outputs": [],
   "source": [
    "# Evaluación\n",
    "print(classification_report(y_train, y_train_pred))\n",
    "print(\"Matriz de Confusión:\")\n",
    "ConfusionMatrixDisplay.from_estimator(clf_rnd, X_train, y_train, values_format='d')"
   ]
  },
  {
   "cell_type": "markdown",
   "id": "16a233ea-576b-4e1d-b33e-5043868d29c7",
   "metadata": {},
   "source": [
    "<p><em><strong>Conclusi&oacute;n:</strong> Los resultados son bastante buenos, probablemente se est&eacute; produciendo Overfiting, seguiremos haciendo pruebas.</em></p>"
   ]
  },
  {
   "cell_type": "code",
   "execution_count": null,
   "id": "1e1a5979-6a23-4abe-b597-ad6b5ad21691",
   "metadata": {},
   "outputs": [],
   "source": [
    "# Predecimos con el conjunto de datos de entrenamiento\n",
    "y_val_pred = clf_rnd.predict(X_val)"
   ]
  },
  {
   "cell_type": "code",
   "execution_count": null,
   "id": "ba0b182f-1c31-43b7-b05e-ae1b670063fe",
   "metadata": {},
   "outputs": [],
   "source": [
    "# Evaluación\n",
    "print(classification_report(y_val, y_val_pred))\n",
    "print(\"Matriz de Confusión:\")\n",
    "ConfusionMatrixDisplay.from_estimator(clf_rnd, X_val, y_val, values_format='d')"
   ]
  },
  {
   "cell_type": "markdown",
   "id": "0e81b14a-b828-4fa5-8bca-6f5211efaba8",
   "metadata": {},
   "source": [
    "<p class=\"\" data-start=\"137\" data-end=\"324\">El modelo Random Forest obtuvo un excelente desempe&ntilde;o en el conjunto de prueba, alcanzando una exactitud (accuracy) del 98%. Las m&eacute;tricas por clase reflejan un rendimiento balanceado:</p>\n",
    "<ul data-start=\"326\" data-end=\"633\">\n",
    "<li class=\"\" data-start=\"326\" data-end=\"494\">\n",
    "<p class=\"\" data-start=\"328\" data-end=\"494\">Para la clase \"positive\", el modelo logr&oacute; una <em data-start=\"378\" data-end=\"389\">precisi&oacute;n</em> y <em data-start=\"392\" data-end=\"400\">recall</em> del 98%, indicando una alta capacidad para identificar correctamente los casos positivos.</p>\n",
    "</li>\n",
    "<li class=\"\" data-start=\"495\" data-end=\"633\">\n",
    "<p class=\"\" data-start=\"497\" data-end=\"633\">Para la clase \"negative\", se obtuvo un <em data-start=\"540\" data-end=\"550\">f1-score</em> del 97%, lo que demuestra una muy buena discriminaci&oacute;n de los casos negativos.</p>\n",
    "</li>\n",
    "</ul>\n",
    "<p class=\"\" data-start=\"635\" data-end=\"817\">El promedio ponderado de las m&eacute;tricas (precision, recall y f1-score) es tambi&eacute;n de 98%, lo que sugiere que el modelo es confiable incluso ante posibles desbalances en las clases.</p>"
   ]
  },
  {
   "cell_type": "code",
   "execution_count": null,
   "id": "aead13bd-4005-40d3-8429-24bc9b424d0e",
   "metadata": {},
   "outputs": [],
   "source": [
    "# Predecimos con el conjunto de datos de entrenamiento\n",
    "y_test_pred = clf_rnd.predict(X_test)"
   ]
  },
  {
   "cell_type": "code",
   "execution_count": null,
   "id": "1af4d4f4-6275-4464-904f-77e146a2fc96",
   "metadata": {
    "scrolled": true
   },
   "outputs": [],
   "source": [
    "# Evaluación\n",
    "print(classification_report(y_test, y_test_pred))\n",
    "print(\"Matriz de Confusión:\")\n",
    "ConfusionMatrixDisplay.from_estimator(clf_rnd, X_test, y_test, values_format='d')"
   ]
  },
  {
   "cell_type": "markdown",
   "id": "3299b917-99f6-4f9b-8ae0-f39f08f42d3e",
   "metadata": {},
   "source": [
    "<p class=\"\" data-start=\"672\" data-end=\"843\"><strong>Conclusi&oacute;n:&nbsp;</strong></p>\n",
    "<p class=\"\" data-start=\"672\" data-end=\"843\">El modelo mostr&oacute; un rendimiento altamente consistente entre el conjunto de validaci&oacute;n y el de prueba, con mejoras leves en todas las m&eacute;tricas en el conjunto de prueba:</p>\n",
    "<ul data-start=\"845\" data-end=\"1279\">\n",
    "<li class=\"\" data-start=\"845\" data-end=\"965\">\n",
    "<p class=\"\" data-start=\"847\" data-end=\"965\">La accuracy aument&oacute; de 98% a 99%, lo que indica que el modelo generaliza ligeramente mejor en datos no vistos.</p>\n",
    "</li>\n",
    "<li class=\"\" data-start=\"966\" data-end=\"1098\">\n",
    "<p class=\"\" data-start=\"968\" data-end=\"1098\">Las clases \"negative\" y \"positive\" mantuvieron un equilibrio excelente en precisi&oacute;n, recall y F1-score en ambos conjuntos.</p>\n",
    "</li>\n",
    "<li class=\"\" data-start=\"1099\" data-end=\"1279\">\n",
    "<p class=\"\" data-start=\"1101\" data-end=\"1279\">La mejora en el F1-score de la clase negativa (de 0.97 a 0.99) sugiere que el modelo ha mejorado su capacidad para detectar correctamente los casos negativos en datos nuevos.</p>\n",
    "</li>\n",
    "</ul>"
   ]
  },
  {
   "cell_type": "markdown",
   "id": "11bada02-383a-4057-aa8f-33137294f9a8",
   "metadata": {},
   "source": [
    "## Importancia de Caracteristicas."
   ]
  },
  {
   "cell_type": "code",
   "execution_count": null,
   "id": "775de647-646d-496f-a055-a84de2e48498",
   "metadata": {},
   "outputs": [],
   "source": [
    "#Buscamos la importancia de las caracteristicas.\n",
    "import matplotlib.pyplot as plt\n",
    "import seaborn as sns\n",
    "import pandas as pd\n",
    "\n",
    "# Extraer importancias y ordenarlas\n",
    "importancias = pd.Series(clf_rnd.feature_importances_, index=X_train.columns)\n",
    "top_vars = importancias.sort_values(ascending=False)\n",
    "\n",
    "# Gráfico mejorado\n",
    "plt.figure(figsize=(10, 5))\n",
    "sns.barplot(x=top_vars.values, y=top_vars.index, palette=\"Blues_d\")\n",
    "plt.title('Importancia de variables')\n",
    "plt.xlabel('Importancia')\n",
    "plt.ylabel('Variable')\n",
    "plt.grid(axis='x', linestyle='--', alpha=0.6)\n",
    "plt.tight_layout()\n",
    "plt.show()"
   ]
  },
  {
   "cell_type": "markdown",
   "id": "b61e750f-effd-4bd2-940f-79942f13d2ff",
   "metadata": {},
   "source": []
  },
  {
   "cell_type": "markdown",
   "id": "73705775-a4af-4af4-a80c-c5f050c9eea5",
   "metadata": {},
   "source": [
    "<h3 class=\"\" data-start=\"124\" data-end=\"181\"><strong data-start=\"131\" data-end=\"181\">&iquest;Qu&eacute; pasa con la troponina durante un infarto?</strong></h3>\n",
    "<p class=\"\" data-start=\"183\" data-end=\"432\">Cuando ocurre un <strong data-start=\"200\" data-end=\"219\">ataque card&iacute;aco</strong>, una parte del m&uacute;sculo del coraz&oacute;n (miocardio) sufre da&ntilde;o porque no recibe suficiente ox&iacute;geno. Este da&ntilde;o hace que las c&eacute;lulas musculares se rompan y liberen su contenido en la sangre, incluyendo la <strong data-start=\"418\" data-end=\"431\">troponina</strong>.</p>\n",
    "<table>\n",
    "<thead>\n",
    "<tr>\n",
    "<th>Momento</th>\n",
    "<th>Niveles de troponina</th>\n",
    "</tr>\n",
    "</thead>\n",
    "<tbody>\n",
    "<tr>\n",
    "<td>0 horas (inicio del infarto)</td>\n",
    "<td>Normales</td>\n",
    "</tr>\n",
    "<tr>\n",
    "<td>3&ndash;6 horas despu&eacute;s</td>\n",
    "<td><strong>Empiezan a elevarse</strong></td>\n",
    "</tr>\n",
    "<tr>\n",
    "<td>12&ndash;24 horas</td>\n",
    "<td><strong>Pico m&aacute;ximo</strong></td>\n",
    "</tr>\n",
    "<tr>\n",
    "<td>5&ndash;10 d&iacute;as</td>\n",
    "<td>Vuelven a valores normales</td>\n",
    "</tr>\n",
    "</tbody>\n",
    "</table>\n",
    "<p>Esto significa que <strong data-start=\"765\" data-end=\"793\">no se eleva de inmediato</strong>, sino que <strong data-start=\"804\" data-end=\"834\">hay que esperar unas horas</strong> despu&eacute;s del inicio del dolor en el pecho para que la prueba sea confiable.</p>\n",
    "<p>El <strong data-start=\"3\" data-end=\"12\">CK-MB</strong> tambi&eacute;n se <strong data-start=\"24\" data-end=\"61\">eleva despu&eacute;s del da&ntilde;o al coraz&oacute;n</strong>, <strong data-start=\"63\" data-end=\"75\">no antes</strong>. Al igual que la troponina, <strong data-start=\"104\" data-end=\"176\">el CK-MB se libera cuando las c&eacute;lulas del m&uacute;sculo card&iacute;aco se rompen</strong>, lo cual ocurre <strong data-start=\"193\" data-end=\"215\">durante un infarto</strong>.</p>\n",
    "<p>L&iacute;nea de tiempo del CK-MB tras un infarto:</p>\n",
    "<table>\n",
    "<thead>\n",
    "<tr>\n",
    "<th>Tiempo desde el infarto</th>\n",
    "<th>Niveles de CK-MB</th>\n",
    "</tr>\n",
    "</thead>\n",
    "<tbody>\n",
    "<tr>\n",
    "<td>0 horas</td>\n",
    "<td>Normales</td>\n",
    "</tr>\n",
    "<tr>\n",
    "<td>3&ndash;6 horas</td>\n",
    "<td><strong>Empieza a elevarse</strong></td>\n",
    "</tr>\n",
    "<tr>\n",
    "<td>12&ndash;24 horas</td>\n",
    "<td><strong>Pico m&aacute;ximo</strong></td>\n",
    "</tr>\n",
    "<tr>\n",
    "<td>2&ndash;3 d&iacute;as</td>\n",
    "<td>Vuelve a lo normal</td>\n",
    "</tr>\n",
    "</tbody>\n",
    "</table>\n",
    "<p><strong>Conclusi&oacute;n:</strong> Caso de Target leakage&nbsp;</p>\n",
    "<p>Target leakage ocurre cuando usas en el modelo informaci&oacute;n que no estar&iacute;a disponible en el momento en que necesitas hacer la predicci&oacute;n. Es decir, el modelo est&aacute; &ldquo;haciendo trampa&rdquo; porque accede a datos que en la vida real solo existir&iacute;an despu&eacute;s de saber el resultado que est&aacute; intentando predecir.</p>"
   ]
  },
  {
   "cell_type": "markdown",
   "id": "5ececee3-fce9-472b-b4f5-16fc644fa22a",
   "metadata": {},
   "source": [
    "<table>\n",
    "<thead>\n",
    "<tr>\n",
    "<th>Variable</th>\n",
    "<th>Disponible antes del infarto</th>\n",
    "<th>Comentario</th>\n",
    "</tr>\n",
    "</thead>\n",
    "<tbody>\n",
    "<tr>\n",
    "<td><strong>Age</strong></td>\n",
    "<td>✅ S&iacute;</td>\n",
    "<td>No cambia; siempre se conoce.</td>\n",
    "</tr>\n",
    "<tr>\n",
    "<td><strong>Gender</strong></td>\n",
    "<td>✅ S&iacute;</td>\n",
    "<td>Informaci&oacute;n demogr&aacute;fica fija.</td>\n",
    "</tr>\n",
    "<tr>\n",
    "<td><strong>Heart rate</strong></td>\n",
    "<td>✅ S&iacute;, en general</td>\n",
    "<td>Puede medirse en cualquier momento, incluso al ingreso o durante s&iacute;ntomas.</td>\n",
    "</tr>\n",
    "<tr>\n",
    "<td><strong>Systolic blood pressure</strong></td>\n",
    "<td>✅ S&iacute;</td>\n",
    "<td>Se mide f&aacute;cilmente antes del infarto.</td>\n",
    "</tr>\n",
    "<tr>\n",
    "<td><strong>Diastolic blood pressure</strong></td>\n",
    "<td>✅ S&iacute;</td>\n",
    "<td>Igual que la sist&oacute;lica.</td>\n",
    "</tr>\n",
    "<tr>\n",
    "<td><strong>Blood sugar</strong></td>\n",
    "<td>✅ S&iacute;</td>\n",
    "<td>Se puede conocer antes del infarto; importante en pacientes con diabetes.</td>\n",
    "</tr>\n",
    "<tr>\n",
    "<td><strong>CK-MB</strong></td>\n",
    "<td>❌ No</td>\n",
    "<td>Se eleva despu&eacute;s del da&ntilde;o card&iacute;aco &rarr; <em>leakage</em>.</td>\n",
    "</tr>\n",
    "<tr>\n",
    "<td><strong>Troponin</strong></td>\n",
    "<td>❌ No</td>\n",
    "<td>Se eleva solo despu&eacute;s del da&ntilde;o &rarr; <em>leakage</em>.</td>\n",
    "</tr>\n",
    "</tbody>\n",
    "</table>"
   ]
  },
  {
   "cell_type": "code",
   "execution_count": null,
   "id": "7fad6db0-7933-403e-a62d-6bc9e2848f6c",
   "metadata": {},
   "outputs": [],
   "source": [
    "data_corregida = data.drop(columns=['CK-MB', 'Troponin']).copy()\n",
    "data_corregida.head()"
   ]
  },
  {
   "cell_type": "code",
   "execution_count": null,
   "id": "81b0436b-fd22-43da-8491-2d21650e3092",
   "metadata": {},
   "outputs": [],
   "source": [
    "# Dividimos el conjunto de datos en este caso se usara el dataset que eliminamos los outliers y el que no, posteriomente compararemos\n",
    "train_set, val_set, test_set = train_val_test_split(data_corregida)\n",
    "#removemos la variable objetivo  y los features o caracteristicas\n",
    "X_train, y_train = remove_labels(train_set, 'Result')\n",
    "X_val, y_val = remove_labels(val_set, 'Result')\n",
    "X_test, y_test = remove_labels(test_set, 'Result')"
   ]
  },
  {
   "cell_type": "code",
   "execution_count": null,
   "id": "e4f5cf18-6da8-4442-8a84-ef880ffe416f",
   "metadata": {},
   "outputs": [],
   "source": [
    "# Uso de Grid Search para selección del modelo\n",
    "from sklearn.model_selection import GridSearchCV\n",
    "\n",
    "param_grid = [\n",
    "    # try 9 (3×3) combinations of hyperparameters\n",
    "    {'n_estimators': [100, 500, 1000], 'max_leaf_nodes': [16, 24, 36]},\n",
    "    # then try 6 (2×3) combinations with bootstrap set as False\n",
    "    {'bootstrap': [False], 'n_estimators': [100, 500], 'max_features': [2, 3, 4]},\n",
    "  ]\n",
    "\n",
    "rnd_clf = RandomForestClassifier(n_jobs=-1, random_state=42)\n",
    "\n",
    "# train across 5 folds, that's a total of (9+6)*5=75 rounds of training \n",
    "grid_search = GridSearchCV(rnd_clf, param_grid, cv=5,\n",
    "                           scoring='f1_weighted', return_train_score=True)\n",
    "\n",
    "grid_search.fit(X_train, y_train)"
   ]
  },
  {
   "cell_type": "code",
   "execution_count": null,
   "id": "09b356a1-4105-487c-89d4-0d6134a9b4c0",
   "metadata": {},
   "outputs": [],
   "source": [
    "# Seleccionamos el mejor modelo que encontro GridSearchCV\n",
    "clf_2 = grid_search.best_estimator_"
   ]
  },
  {
   "cell_type": "code",
   "execution_count": null,
   "id": "a6663d2c-970c-4ab6-8d09-03e30ecbda9b",
   "metadata": {},
   "outputs": [],
   "source": [
    "y_train_pred = clf_2.predict(X_train)"
   ]
  },
  {
   "cell_type": "code",
   "execution_count": null,
   "id": "1e629f6f-33af-4679-8001-f92eb576c270",
   "metadata": {},
   "outputs": [],
   "source": [
    "# Evaluación\n",
    "print(classification_report(y_train, y_train_pred))\n",
    "print(\"Matriz de Confusión:\")\n",
    "ConfusionMatrixDisplay.from_estimator(clf_2, X_train, y_train, values_format='d')"
   ]
  },
  {
   "cell_type": "code",
   "execution_count": null,
   "id": "52ebf3b4-334f-45f8-8d9e-495e03fcece3",
   "metadata": {},
   "outputs": [],
   "source": [
    "# Predecimos con el conjunto de datos de entrenamiento\n",
    "y_val_pred = clf_2.predict(X_val)"
   ]
  },
  {
   "cell_type": "code",
   "execution_count": null,
   "id": "064d9c7b-33e1-4221-b3c8-e4a397d36338",
   "metadata": {},
   "outputs": [],
   "source": [
    "# Evaluación\n",
    "print(classification_report(y_val, y_val_pred))\n",
    "print(\"Matriz de Confusión:\")\n",
    "ConfusionMatrixDisplay.from_estimator(clf_2, X_val, y_val, values_format='d')"
   ]
  },
  {
   "cell_type": "code",
   "execution_count": null,
   "id": "41763c9f-8454-4ffa-ac02-9c9f1667f47d",
   "metadata": {},
   "outputs": [],
   "source": [
    "# Predecimos con el conjunto de datos de entrenamiento\n",
    "y_test_pred = clf_rnd.predict(X_test)"
   ]
  },
  {
   "cell_type": "code",
   "execution_count": null,
   "id": "00c1478f-dd15-4a9d-ba35-53154696e7ee",
   "metadata": {},
   "outputs": [],
   "source": [
    "# Evaluación\n",
    "print(classification_report(y_test, y_test_pred))\n",
    "print(\"Matriz de Confusión:\")\n",
    "ConfusionMatrixDisplay.from_estimator(clf_2, X_test, y_test, values_format='d')"
   ]
  },
  {
   "cell_type": "markdown",
   "id": "98689484-2b8f-4886-a6a6-09ebc510d7e5",
   "metadata": {},
   "source": [
    "## Guardamos el Modelo"
   ]
  },
  {
   "cell_type": "code",
   "execution_count": null,
   "id": "d788a96a-88bf-4537-bf36-79870662ed12",
   "metadata": {},
   "outputs": [],
   "source": [
    "import joblib\n",
    "\n",
    "# Suponiendo que tu modelo se llama 'modelo'\n",
    "joblib.dump(clf_2, 'modelo_Cardiaco.joblib')\n"
   ]
  },
  {
   "cell_type": "code",
   "execution_count": null,
   "id": "6ef17f28-3061-4c22-8289-c87d003bdd53",
   "metadata": {},
   "outputs": [],
   "source": []
  }
 ],
 "metadata": {
  "kernelspec": {
   "display_name": "Python 3 (ipykernel)",
   "language": "python",
   "name": "python3"
  },
  "language_info": {
   "codemirror_mode": {
    "name": "ipython",
    "version": 3
   },
   "file_extension": ".py",
   "mimetype": "text/x-python",
   "name": "python",
   "nbconvert_exporter": "python",
   "pygments_lexer": "ipython3",
   "version": "3.12.7"
  }
 },
 "nbformat": 4,
 "nbformat_minor": 5
}
